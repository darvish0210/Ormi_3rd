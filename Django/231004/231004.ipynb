{
  "nbformat": 4,
  "nbformat_minor": 0,
  "metadata": {
    "colab": {
      "provenance": []
    },
    "kernelspec": {
      "name": "python3",
      "display_name": "Python 3"
    },
    "language_info": {
      "name": "python"
    }
  },
  "cells": [
    {
      "cell_type": "markdown",
      "source": [
        "Django\n",
        "https://paullabworkspace.notion.site/Django-5c6727c8ca874597a36a09d16d67f344"
      ],
      "metadata": {
        "id": "qoPQi22o4dHG"
      }
    },
    {
      "cell_type": "code",
      "source": [
        "#같은 가상환경을 여러개 써서 분산하는 경우도 있다-> 당근마켓?\n",
        "\n",
        "#가상환경으로 하는것이 좋다. 버전관리 등의 이점"
      ],
      "metadata": {
        "id": "8n8y5XLK4gTg"
      },
      "execution_count": null,
      "outputs": []
    },
    {
      "cell_type": "markdown",
      "source": [
        "### mkdir mysite\n",
        "- mysite라는 폴더를 만듭니다.\n",
        "꼭 mysite일 필요는 없습니다.\n",
        "보통 프로젝트 이름입니다.\n",
        "\n",
        "### cd mysite\n",
        "- mysite로 이동합니다.\n",
        "```\n",
        "python -m venv venv\n",
        "```\n",
        "뒤의 (venv)가 이름입니다. 가상환경을 설정합니다.\n",
        "\n",
        "# 가상환경속으로 들어가기\n",
        "- .\\venv\\Scripts\\activate # window\n",
        "- .\\venv\\Script\\activate.bat # window\n",
        "- source ./venv/bin/activate # mac, linux\n",
        "\n",
        "+ 나가는 방법은 deactivate\n",
        "# window에서 오류가 뜰 경우 이걸 입력해주세요.\n",
        "```\n",
        "CategoryInfo          : 보안 오류: (:) [], PSSecurityException\n",
        "FullyQualifiedErrorId : UnauthorizedAccess\n",
        "\n",
        "- Set-ExecutionPolicy Unrestricted\n",
        "\n",
        "```\n",
        "pip install django -django를 설치합니다.\n",
        "\n",
        "django-admin startproject tutorialdjango . -tutorialdjango라는 프로젝트를 시작합니다. 뒤의 점 주의!\n",
        "\n",
        "python manage.py migrate -DB에 반영\n",
        "\n",
        "python manage.py runserver -서버 가동\n",
        "\n",
        "settings.py에서 접속할 수 있는 사람 설정\n",
        "ALLOWED_HOSTS = ['*'] # 28번째 줄에 접속할 수 있는 사람을 모든 사람으로 변경\n",
        "\n",
        "python manage.py startapp main -앱 스타트\n",
        "```\n",
        "\n",
        "# settings.py 에서 33번째 라인 수정\n",
        "```\n",
        "INSTALLED_APPS = [\n",
        "    'django.contrib.admin',\n",
        "    'django.contrib.auth',\n",
        "    'django.contrib.contenttypes',\n",
        "    'django.contrib.sessions',\n",
        "    'django.contrib.messages',\n",
        "    'django.contrib.staticfiles',\n",
        "    'main',\n",
        "]\n",
        "```\n",
        "'main', 추가하기\n",
        "\n",
        "# urls.py 파일 수정 및 주석 제거\n",
        "```\n",
        "from django.contrib import admin\n",
        "from django.urls import path\n",
        "from main.views import index\n",
        "\n",
        "urlpatterns = [\n",
        "    path('admin/', admin.site.urls),\n",
        "    path('', index),\n",
        "]\n",
        "```\n",
        "main.views import index, ... 추가하고, path에 쭉 추가하기(이름같게)\n",
        "\n",
        "# main/views.py 파일 수정 및 주석 제거\n",
        "```\n",
        "from django.shortcuts import render\n",
        "\n",
        "def index(request):\n",
        "    return render(request, 'index.html')\n",
        "```\n",
        "이후 밑으로 쭉 추가로 넣을 html 파일들 매칭시키기\n",
        "\n",
        "# main > templates > index.html\n",
        "templates 폴더 생성 후 html 파일들 생성하기\n",
        "\n"
      ],
      "metadata": {
        "id": "_4RBnLg1yXo-"
      }
    },
    {
      "cell_type": "markdown",
      "source": [
        "연습문제로 했던 예시들\n",
        "- urls.py에서 수정\n",
        "```\n",
        "from main.views import index,about,contact,login,logout,blog,blog1,blog2,blog3\n",
        "urlpatterns = [\n",
        "    path('admin/', admin.site.urls),\n",
        "    path('', index),\n",
        "    path('about/', about),\n",
        "    path('contact/', contact),\n",
        "    path('accounts/login', login),\n",
        "    path('accounts/logout', logout),\n",
        "    path('blog/', blog),\n",
        "    path('blog/1/', blog1),\n",
        "    path('blog/2/', blog2),\n",
        "    path('blog/3/', blog3),\n",
        "\n",
        "]\n",
        "\n",
        "- main/views.py에서 수정\n",
        "```\n",
        "def index(request):\n",
        "    return render(request, 'index.html')\n",
        "def about(request):\n",
        "    return render(request, 'about.html')\n",
        "def contact(request):\n",
        "    return render(request, 'contact.html')\n",
        "def login(request):\n",
        "    return render(request, 'accounts/login.html')\n",
        "def logout(request):\n",
        "    return render(request, 'accounts/logout.html')\n",
        "def blog(request):\n",
        "    return render(request, 'blog.html')\n",
        "def blog1(request):\n",
        "    return render(request, 'blog/1.html')\n",
        "def blog2(request):\n",
        "    return render(request, 'blog/2.html')\n",
        "def blog3(request):\n",
        "    return render(request, 'blog/3.html')\n",
        "```\n",
        "\n"
      ],
      "metadata": {
        "id": "3--914sSz-Hk"
      }
    }
  ]
}