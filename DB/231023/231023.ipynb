{
  "nbformat": 4,
  "nbformat_minor": 0,
  "metadata": {
    "colab": {
      "provenance": []
    },
    "kernelspec": {
      "name": "python3",
      "display_name": "Python 3"
    },
    "language_info": {
      "name": "python"
    }
  },
  "cells": [
    {
      "cell_type": "code",
      "execution_count": null,
      "metadata": {
        "id": "oinFgniVAyVy"
      },
      "outputs": [],
      "source": [
        "import sqlite3\n",
        "\n",
        "conn = sqlite3.connect('ex1.db')\n",
        "c = conn.cursor()\n",
        "\n",
        "c.execute(''' CREATE TABLE books (id integer , title text, price integer)\n",
        "''')\n",
        "\n",
        "c.execute(''' INSERT INTO books VALUES (1,'python 가이드',5000)\n",
        "''')\n",
        "c.execute(''' INSERT INTO books VALUES (2,'JS 가이드',7000)\n",
        "''')\n",
        "\n",
        "conn.commit()\n",
        "conn.close()"
      ]
    },
    {
      "cell_type": "code",
      "source": [
        "conn = sqlite3.connect('ex1.db')\n",
        "\n",
        "# 커서 생성\n",
        "cursor = conn.cursor()\n",
        "\n",
        "# 데이터 조회\n",
        "cursor.execute('SELECT * FROM books')\n",
        "result = cursor.fetchall()\n",
        "\n",
        "# 조회 결과 출력\n",
        "for row in result:\n",
        "    print(row)\n",
        "\n",
        "# 연결 닫기\n",
        "conn.close()"
      ],
      "metadata": {
        "colab": {
          "base_uri": "https://localhost:8080/"
        },
        "id": "6mlB5Hh8BufM",
        "outputId": "8dd9335f-9afc-4dd6-cfa7-e3703339f208"
      },
      "execution_count": null,
      "outputs": [
        {
          "output_type": "stream",
          "name": "stdout",
          "text": [
            "(1, 'python 가이드', 5000)\n",
            "(2, 'JS 가이드', 7000)\n"
          ]
        }
      ]
    },
    {
      "cell_type": "code",
      "source": [
        "## 실습 2\n",
        "import sqlite3\n",
        "\n",
        "conn = sqlite3.connect('ex2.db')\n",
        "c = conn.cursor()\n",
        "\n",
        "c.execute('''\n",
        "    CREATE TABLE books (id integer, title text, price integer)\n",
        "''')\n",
        "\n",
        "for i in range(10):\n",
        "    c.execute(f\"INSERT INTO books VALUES ({i}, 'python 가이드', {i*1000})\")\n",
        "\n",
        "conn.commit()\n",
        "conn.close()"
      ],
      "metadata": {
        "id": "dgOice3_DRlK"
      },
      "execution_count": null,
      "outputs": []
    },
    {
      "cell_type": "code",
      "source": [
        "conn = sqlite3.connect('ex2.db')\n",
        "c = conn.cursor()\n",
        "\n",
        "# 데이터 조회\n",
        "for row in c.execute('SELECT * FROM books ORDER BY id'):\n",
        "    print(row)\n",
        "\n",
        "# 연결 종료\n",
        "conn.close()"
      ],
      "metadata": {
        "colab": {
          "base_uri": "https://localhost:8080/"
        },
        "id": "r_812WMJDXR9",
        "outputId": "b4a32985-e207-439f-ae9c-7ed3c02bd310"
      },
      "execution_count": null,
      "outputs": [
        {
          "output_type": "stream",
          "name": "stdout",
          "text": [
            "(0, 'python 가이드', 0)\n",
            "(1, 'python 가이드', 1000)\n",
            "(2, 'python 가이드', 2000)\n",
            "(3, 'python 가이드', 3000)\n",
            "(4, 'python 가이드', 4000)\n",
            "(5, 'python 가이드', 5000)\n",
            "(6, 'python 가이드', 6000)\n",
            "(7, 'python 가이드', 7000)\n",
            "(8, 'python 가이드', 8000)\n",
            "(9, 'python 가이드', 9000)\n"
          ]
        }
      ]
    },
    {
      "cell_type": "code",
      "source": [
        "## 실습 3\n",
        "import sqlite3\n",
        "\n",
        "data = {\n",
        "    'id': [1, 2, 3],\n",
        "    'title': ['1', '2', '3'],\n",
        "    'content': ['11', '22', '33', '44', '55']\n",
        "}\n",
        "\n",
        "# 데이터베이스에 연결\n",
        "conn = sqlite3.connect('ex3.db')\n",
        "\n",
        "# 커서 생성\n",
        "cursor = conn.cursor()\n",
        "\n",
        "# post 테이블 생성\n",
        "cursor.execute('CREATE TABLE post (id INTEGER, title TEXT, content TEXT)')\n",
        "\n",
        "# 데이터 삽입\n",
        "for i in range(len(data['id'])):\n",
        "    cursor.execute('INSERT INTO post VALUES (?, ?, ?)', (data['id'][i], data['title'][i], data['content'][i]))\n",
        "\n",
        "# 커밋(변경 사항 저장)\n",
        "conn.commit()\n",
        "\n",
        "# 연결 닫기\n",
        "conn.close()"
      ],
      "metadata": {
        "id": "IRjHtZyaDcC7"
      },
      "execution_count": null,
      "outputs": []
    },
    {
      "cell_type": "code",
      "source": [
        "conn = sqlite3.connect('ex3.db')\n",
        "c = conn.cursor()\n",
        "\n",
        "# 데이터 조회\n",
        "for row in c.execute('SELECT * FROM post'):\n",
        "    print(row)\n",
        "\n",
        "# 연결 종료\n",
        "conn.close()"
      ],
      "metadata": {
        "colab": {
          "base_uri": "https://localhost:8080/"
        },
        "id": "ZPXMVi-zDx4C",
        "outputId": "6b0e991e-3477-49c5-c57e-dabd23ce1f7f"
      },
      "execution_count": null,
      "outputs": [
        {
          "output_type": "stream",
          "name": "stdout",
          "text": [
            "(1, '1', '11')\n",
            "(2, '2', '22')\n",
            "(3, '3', '33')\n"
          ]
        }
      ]
    },
    {
      "cell_type": "code",
      "source": [
        "'''요구사항1. book 크롤링한 데이터를 데이터베이스에 담아야 합니다.\n",
        "        - 데이터베이스를 생성\n",
        "        - 크롤링\n",
        "        - id, title, price, author\n",
        "    요구사항2. 데이터베이스를 읽습니다.\n",
        "    요구사항3. 데이터베이스를 JSON 형태로 출력해야 합니다. 출력 이름은 output.json\n",
        "'''\n",
        "\n",
        "\n",
        "import sqlite3\n",
        "import requests\n",
        "from bs4 import BeautifulSoup\n",
        "\n",
        "url = 'https://paullab.co.kr/bookservice/'\n",
        "response = requests.get(url)\n",
        "response.encoding = 'utf-8'\n",
        "html = response.text\n",
        "\n",
        "soup = BeautifulSoup(html, 'html.parser')\n",
        "\n",
        "title_soup = soup.select('.book_name')\n",
        "price_soup = soup.select('.book_info:nth-of-type(1)')\n",
        "author_soup = soup.select('.book_info:nth-of-type(2)')\n",
        "\n",
        "title_data = [data.text  for data in title_soup]\n",
        "price_data = []\n",
        "author_data = [data.text[4:]  for data in author_soup]\n",
        "\n",
        "for data in price_soup:\n",
        "    data = data.text[4:-1].replace(',','')\n",
        "    if not data.isnumeric():\n",
        "        data = 0\n",
        "    else:\n",
        "        data = int(data)\n",
        "    price_data.append(data)\n",
        "\n",
        "conn = sqlite3.connect('book.sqlite3')\n",
        "c = conn.cursor()\n",
        "\n",
        "c.execute('''\n",
        "    CREATE TABLE books (id integer PRIMARY KEY AUTOINCREMENT, title text, price integer, author text )\n",
        "''')\n",
        "\n",
        "for i in range(len(title_data)):\n",
        "    c.execute(f'INSERT INTO books(title, price, author) VALUES(\"{title_data[i]}\", {price_data[i]}, \"{author_data[i]}\")')\n",
        "conn.commit()\n",
        "\n",
        "fetch_data = c.execute('SELECT * FROM books')\n",
        "table_name = c.description\n",
        "fetch_data = fetch_data.fetchall()\n",
        "conn.close()\n",
        "\n",
        "import json\n",
        "FILE_NAME = \"./output.json\"\n",
        "\n",
        "data_list = []\n",
        "for i in range(len(title_data)):\n",
        "    data = {}\n",
        "    for j in range(len(table_name)):\n",
        "        data[table_name[j][0]] = fetch_data[i][j]\n",
        "    data_list.append(data)\n",
        "\n",
        "f = open(FILE_NAME, 'w', encoding='utf-8')\n",
        "f.write(json.dumps(data_list, ensure_ascii=False))\n",
        "f.close()"
      ],
      "metadata": {
        "id": "BDkeUWHUDzmZ"
      },
      "execution_count": 1,
      "outputs": []
    },
    {
      "cell_type": "code",
      "source": [
        "import requests\n",
        "from bs4 import BeautifulSoup\n",
        "import sqlite3\n",
        "import json\n",
        "\n",
        "conn = sqlite3.connect('books2.db')\n",
        "c = conn.cursor()\n",
        "\n",
        "c.execute('CREATE TABLE books (id integer, title text, price integer, author text)')\n",
        "\n",
        "paullab_url = 'http://paullab.co.kr/bookservice/'\n",
        "response = requests.get(paullab_url)\n",
        "response.encoding = 'utf-8'\n",
        "html = response.text\n",
        "\n",
        "soup = BeautifulSoup(html, 'html.parser')\n",
        "data = []\n",
        "\n",
        "book_name_list = soup.select('.book_detail > .book_name')\n",
        "book_price_list = soup.select('.book_detail > .book_info')[::3]\n",
        "book_author_list = soup.select('.book_detail > .book_info')[1::3]\n",
        "\n",
        "for i in range(len(book_name_list)):\n",
        "    name = book_name_list[i].text\n",
        "    price = book_price_list[i].text[4:].replace('원', '').replace(',', '').replace('무료', '0')\n",
        "    author = book_author_list[i].text[4:]\n",
        "    c.execute('INSERT INTO books VALUES (?, ?, ?, ?)', (i, name, price, author))\n",
        "\n",
        "conn.commit()\n",
        "\n",
        "books = []\n",
        "\n",
        "for row in c.execute('SELECT * FROM books'):\n",
        "    books.append({\n",
        "        'id': row[0],\n",
        "        'title': row[1],\n",
        "        'price': row[2],\n",
        "        'author': row[3],\n",
        "    })\n",
        "\n",
        "with open('.\\output.json', 'w', encoding='utf-8') as file:\n",
        "    json.dump(books, file, indent=\"\\t\", ensure_ascii=False)\n",
        "\n",
        "conn.close()"
      ],
      "metadata": {
        "id": "JVCD2OsTuiAc"
      },
      "execution_count": null,
      "outputs": []
    }
  ]
}