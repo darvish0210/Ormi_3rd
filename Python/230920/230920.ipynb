{
  "nbformat": 4,
  "nbformat_minor": 0,
  "metadata": {
    "colab": {
      "provenance": []
    },
    "kernelspec": {
      "name": "python3",
      "display_name": "Python 3"
    },
    "language_info": {
      "name": "python"
    }
  },
  "cells": [
    {
      "cell_type": "code",
      "execution_count": 1,
      "metadata": {
        "colab": {
          "base_uri": "https://localhost:8080/"
        },
        "id": "241FZXYU4kE_",
        "outputId": "957c0014-cf37-43c8-c2a9-9e1acabeac8a"
      },
      "outputs": [
        {
          "output_type": "stream",
          "name": "stdout",
          "text": [
            "헬로\n"
          ]
        }
      ],
      "source": [
        "#일급함수와 고차함수\n",
        "#일급함수 -> 함수를 다른 객체와 동일하게 취급\n",
        "\n",
        "#함수를 변수에 할당\n",
        "licat = print\n",
        "licat('헬로')"
      ]
    },
    {
      "cell_type": "code",
      "source": [
        "class Cat:\n",
        "    def sound(self):\n",
        "        print(\"애옹\")\n",
        "licat = Cat()\n",
        "licat_sound = licat.sound\n",
        "licat_sound()"
      ],
      "metadata": {
        "colab": {
          "base_uri": "https://localhost:8080/"
        },
        "id": "xSRmEkze7CkF",
        "outputId": "333d39f3-b0f8-4dc4-bedd-ed16383fd3bb"
      },
      "execution_count": 3,
      "outputs": [
        {
          "output_type": "stream",
          "name": "stdout",
          "text": [
            "애옹\n"
          ]
        }
      ]
    },
    {
      "cell_type": "code",
      "source": [
        "l = [10,20,30]\n",
        "la = l.append\n",
        "\n",
        "la(40)\n",
        "l"
      ],
      "metadata": {
        "colab": {
          "base_uri": "https://localhost:8080/"
        },
        "id": "Zk9tsOEh7WGL",
        "outputId": "02a57392-90ad-4dbb-944a-8b585bf47519"
      },
      "execution_count": 4,
      "outputs": [
        {
          "output_type": "execute_result",
          "data": {
            "text/plain": [
              "[10, 20, 30, 40]"
            ]
          },
          "metadata": {},
          "execution_count": 4
        }
      ]
    },
    {
      "cell_type": "code",
      "source": [
        "# 함수를 데이터 구조에 저장\n",
        "\n",
        "class Operator:\n",
        "    def add(self,x,y):\n",
        "        return x+y\n",
        "    def sub(self,x,y):\n",
        "        return x-y\n",
        "    def mul(self,x,y):\n",
        "        return x*y\n",
        "    def div(self,x,y):\n",
        "        return x/y\n",
        "    def _and(self,x,y):\n",
        "        return x&y\n",
        "    def _or(self,x,y):\n",
        "        return x|y\n",
        "\n",
        "\n",
        "op = Operator()\n",
        "logical_op = {\n",
        "    'add' : op.add,\n",
        "    'sub' : op.sub,\n",
        "    'mul' : op.mul,\n",
        "    'div' : op.div,\n",
        "}\n",
        "arithmetic_op = {\n",
        "    '_and' : op._and,\n",
        "    '_or' : op._or,\n",
        "}\n",
        "\n",
        "print(logical_op['add'](2,3))\n",
        "\n"
      ],
      "metadata": {
        "colab": {
          "base_uri": "https://localhost:8080/"
        },
        "id": "ynOTD1Fw9Gzh",
        "outputId": "da4afc95-9f5d-4097-9cb3-3b1117c47a9a"
      },
      "execution_count": 6,
      "outputs": [
        {
          "output_type": "stream",
          "name": "stdout",
          "text": [
            "5\n"
          ]
        }
      ]
    },
    {
      "cell_type": "code",
      "source": [
        "#함수의 인자로 다른 함수에 전달 (콜백함수)\n",
        "\n",
        "def licat_sound(p):\n",
        "    # 무언가 10줄짜리 있음\n",
        "\n",
        "    p('애옹')\n",
        "licat_sound(print) #빌트 인 함수 넣음\n",
        "\n",
        "\n"
      ],
      "metadata": {
        "id": "JqigIRVI-vlk"
      },
      "execution_count": 7,
      "outputs": []
    },
    {
      "cell_type": "code",
      "source": [
        "def square(x):\n",
        "    return x**2\n",
        "def width_circle(r,s):\n",
        "    return s(r)*3.14\n",
        "\n",
        "width_circle(10,square)"
      ],
      "metadata": {
        "colab": {
          "base_uri": "https://localhost:8080/"
        },
        "id": "c8lB6_d__hyw",
        "outputId": "56b81a51-b466-4c4b-8c81-06b739f78a54"
      },
      "execution_count": 8,
      "outputs": [
        {
          "output_type": "execute_result",
          "data": {
            "text/plain": [
              "314.0"
            ]
          },
          "metadata": {},
          "execution_count": 8
        }
      ]
    },
    {
      "cell_type": "code",
      "source": [
        "#연습문제 - 피타고라스 정리 a^2 + b^2 = c^2 쓰기\n",
        "def square(x):\n",
        "    return x**2\n",
        "def root(x):\n",
        "    return x**0.5\n",
        "\n",
        "\n",
        "def length(a,b,square, root):\n",
        "    return root(square(a)+square(b))\n",
        "\n",
        "\n",
        "length(6,8,square,root)"
      ],
      "metadata": {
        "colab": {
          "base_uri": "https://localhost:8080/"
        },
        "id": "rvjPk1X3A4OF",
        "outputId": "826e9d33-d9b1-4f87-f6f3-25ba9d9182f3"
      },
      "execution_count": 10,
      "outputs": [
        {
          "output_type": "execute_result",
          "data": {
            "text/plain": [
              "10.0"
            ]
          },
          "metadata": {},
          "execution_count": 10
        }
      ]
    },
    {
      "cell_type": "code",
      "source": [
        "# 함수를 결과로 반환\n",
        "\n",
        "\n",
        "def create_adder(x):\n",
        "    def adder(y):\n",
        "        return x + y\n",
        "    return adder\n",
        "\n",
        "add_5 = create_adder(5)\n",
        "print(add_5(10))  # 출력: 15\n",
        "\n",
        "#항상 5가 더해지도록"
      ],
      "metadata": {
        "colab": {
          "base_uri": "https://localhost:8080/"
        },
        "id": "F1D1Fb48DUm7",
        "outputId": "cde9a405-abb1-47fb-9973-50143ed89cf0"
      },
      "execution_count": 11,
      "outputs": [
        {
          "output_type": "stream",
          "name": "stdout",
          "text": [
            "15\n"
          ]
        }
      ]
    },
    {
      "cell_type": "code",
      "source": [
        "def f(x):\n",
        "    def ff(y):\n",
        "        return y**x\n",
        "    return ff\n",
        "\n",
        "exponent_2 = f(2) # 항상 제곱 ff\n",
        "exponent_3 = f(3) # 항상 세제곱 ff\n",
        "print(exponent_2(10)) # print(f(10)) => return y **2\n",
        "print(exponent_3(10)) # print(f(10)) => return y **3\n",
        "#변수를 감추기? 는 맞긴함 하지만, 완전한 보호는 불가\n",
        "\n"
      ],
      "metadata": {
        "colab": {
          "base_uri": "https://localhost:8080/"
        },
        "id": "Q9tHgetIDjj3",
        "outputId": "f21e112c-ef1f-477f-e3f7-6a23ad8c67f5"
      },
      "execution_count": 13,
      "outputs": [
        {
          "output_type": "stream",
          "name": "stdout",
          "text": [
            "100\n",
            "1000\n"
          ]
        }
      ]
    },
    {
      "cell_type": "code",
      "source": [
        "def f():\n",
        "    l = [10, 20, 30]\n",
        "    print(id(l))\n",
        "    return l\n",
        "\n",
        "sample = f()\n",
        "id(sample) #주소가 같다. -> 휘발되지 않은 이유는?\n",
        "# l이 참조중 이라서?"
      ],
      "metadata": {
        "colab": {
          "base_uri": "https://localhost:8080/"
        },
        "id": "JJyx854cIrIM",
        "outputId": "5c092be6-7178-4bee-a346-e2aacfed25e8"
      },
      "execution_count": 15,
      "outputs": [
        {
          "output_type": "stream",
          "name": "stdout",
          "text": [
            "138853767934272\n"
          ]
        },
        {
          "output_type": "execute_result",
          "data": {
            "text/plain": [
              "138853767934272"
            ]
          },
          "metadata": {},
          "execution_count": 15
        }
      ]
    },
    {
      "cell_type": "code",
      "source": [
        "import sys\n",
        "\n",
        "sys.getrefcount(sample) # 참조 카운트가 0이 되면 삭제 대상이 되고, 삭제 사이클이 지날 때 삭제됨\n",
        "# ???-> OS에 따라서 참조값이 또 다르다"
      ],
      "metadata": {
        "colab": {
          "base_uri": "https://localhost:8080/"
        },
        "id": "lanPv-UkJEi6",
        "outputId": "162cfc29-3851-48eb-f32d-791e09c9e8c3"
      },
      "execution_count": 16,
      "outputs": [
        {
          "output_type": "execute_result",
          "data": {
            "text/plain": [
              "3"
            ]
          },
          "metadata": {},
          "execution_count": 16
        }
      ]
    },
    {
      "cell_type": "code",
      "source": [
        "# 일급 함수 : 함수를 일급 객체(값, 주소)로 취급\n",
        "# 고차함수 : 함수를 아규먼트로 받거나, return으로 반환하는 함수\n",
        "\n"
      ],
      "metadata": {
        "id": "xucAwpGBKTbK"
      },
      "execution_count": null,
      "outputs": []
    },
    {
      "cell_type": "code",
      "source": [
        "#클로저 : 휘발 되었어야 하는 메모리 영역에 접근하여 함수나 데이터를 활용하는 일\n",
        "\n",
        "# 클로저인 경우\n",
        "def outer_function(x):\n",
        "    def inner_function(y):\n",
        "        return x + y\n",
        "    return inner_function\n",
        "\n",
        "# 함수가 종료되면 x가 휘발되었어야 하지만, return x+y에서 쓰고 있으므로 휘발되지 않음\n",
        "\n",
        "#실무에선 별로 사용하지 않는다 -> 유지보수 성에서 떨어지므로 그닥?\n",
        "# 데이터 은닉과 데코레이터에 필수적이므로, 이 경우엔 사용\n"
      ],
      "metadata": {
        "id": "tuU_Ai4ZK8n3"
      },
      "execution_count": null,
      "outputs": []
    },
    {
      "cell_type": "code",
      "source": [
        "# 데코레이터\n",
        "# [@decorator_function] 로 선언\n",
        "\n",
        "\n",
        "def simple_decorator(function):\n",
        "    def wrapper():\n",
        "        print(\"Before the function call\")\n",
        "        function()\n",
        "        print(\"After the function call\")\n",
        "    return wrapper\n",
        "\n",
        "@simple_decorator # 데코레이터 선언\n",
        "def hello():\n",
        "    print(\"Hello, World!\")\n",
        "\n",
        "hello() # 데코레이터가 없는 상태에서는 simple_decorator(hello)() 와 같습니다.\n",
        "#simple_decorator(hello)() => wrapper()\n",
        "\n",
        "#실무에서 꽤 많이 사용한다.\n",
        "\n"
      ],
      "metadata": {
        "id": "wX86rqcANeme"
      },
      "execution_count": null,
      "outputs": []
    },
    {
      "cell_type": "code",
      "source": [
        "# 데코레이터 예시\n",
        "\n",
        "# step 1\n",
        "def data_Preprocessing(function):\n",
        "    def wrapper():\n",
        "        pass\n",
        "    return wrapper\n",
        "\n",
        "@data_Preprocessing\n",
        "def mean(data):\n",
        "    return sum(data)/len(data)\n",
        "\n",
        "mean([1, 2, '3', 4, '5']) # TypeError 발생\n",
        "\n"
      ],
      "metadata": {
        "colab": {
          "base_uri": "https://localhost:8080/",
          "height": 239
        },
        "id": "reqepdcDP8rd",
        "outputId": "f975512b-a1b7-4f8d-8505-cce879a3a803"
      },
      "execution_count": 17,
      "outputs": [
        {
          "output_type": "error",
          "ename": "TypeError",
          "evalue": "ignored",
          "traceback": [
            "\u001b[0;31m---------------------------------------------------------------------------\u001b[0m",
            "\u001b[0;31mTypeError\u001b[0m                                 Traceback (most recent call last)",
            "\u001b[0;32m<ipython-input-17-4b92d4138894>\u001b[0m in \u001b[0;36m<cell line: 13>\u001b[0;34m()\u001b[0m\n\u001b[1;32m     11\u001b[0m     \u001b[0;32mreturn\u001b[0m \u001b[0msum\u001b[0m\u001b[0;34m(\u001b[0m\u001b[0mdata\u001b[0m\u001b[0;34m)\u001b[0m\u001b[0;34m/\u001b[0m\u001b[0mlen\u001b[0m\u001b[0;34m(\u001b[0m\u001b[0mdata\u001b[0m\u001b[0;34m)\u001b[0m\u001b[0;34m\u001b[0m\u001b[0;34m\u001b[0m\u001b[0m\n\u001b[1;32m     12\u001b[0m \u001b[0;34m\u001b[0m\u001b[0m\n\u001b[0;32m---> 13\u001b[0;31m \u001b[0mmean\u001b[0m\u001b[0;34m(\u001b[0m\u001b[0;34m[\u001b[0m\u001b[0;36m1\u001b[0m\u001b[0;34m,\u001b[0m \u001b[0;36m2\u001b[0m\u001b[0;34m,\u001b[0m \u001b[0;34m'3'\u001b[0m\u001b[0;34m,\u001b[0m \u001b[0;36m4\u001b[0m\u001b[0;34m,\u001b[0m \u001b[0;34m'5'\u001b[0m\u001b[0;34m]\u001b[0m\u001b[0;34m)\u001b[0m \u001b[0;31m# TypeError 발생\u001b[0m\u001b[0;34m\u001b[0m\u001b[0;34m\u001b[0m\u001b[0m\n\u001b[0m\u001b[1;32m     14\u001b[0m \u001b[0;34m\u001b[0m\u001b[0m\n",
            "\u001b[0;31mTypeError\u001b[0m: data_Preprocessing.<locals>.wrapper() takes 0 positional arguments but 1 was given"
          ]
        }
      ]
    },
    {
      "cell_type": "code",
      "source": [
        "# step 2\n",
        "def data_Preprocessing(function):\n",
        "    def wrapper(data):\n",
        "        print(data)\n",
        "    return wrapper\n",
        "\n",
        "@data_Preprocessing\n",
        "def mean(data):\n",
        "    return sum(data)/len(data)\n",
        "\n",
        "mean([1, 2, '3', 4, '5']) # 데이터만 출력하고 함수는 None을 반환"
      ],
      "metadata": {
        "colab": {
          "base_uri": "https://localhost:8080/"
        },
        "id": "5HylOpsYQM8u",
        "outputId": "4f0bc52d-ad4e-4e3b-d2ba-4f02220b664c"
      },
      "execution_count": 18,
      "outputs": [
        {
          "output_type": "stream",
          "name": "stdout",
          "text": [
            "[1, 2, '3', 4, '5']\n"
          ]
        }
      ]
    },
    {
      "cell_type": "code",
      "source": [
        "# step 3\n",
        "def data_Preprocessing(function):\n",
        "    def wrapper(data):\n",
        "        return function(list(map(int, data)))\n",
        "    return wrapper\n",
        "\n",
        "@data_Preprocessing\n",
        "def mean(data):\n",
        "    return sum(data)/len(data)\n",
        "\n",
        "mean([1, 2, '3', 4, '5']) # 출력: 3.0 (정상 작동)\n",
        "\n",
        "#data_preprocessing(mean)(data) => wrapper(data)\n",
        "#여기에선, mean만 function으로 들어가고, data는 따로 wrapper로 들어감"
      ],
      "metadata": {
        "id": "7SDfnkZdWCGF"
      },
      "execution_count": null,
      "outputs": []
    },
    {
      "cell_type": "markdown",
      "source": [
        "![image.png](data:image/png;base64,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)"
      ],
      "metadata": {
        "id": "8gHSx67TQuV5"
      }
    },
    {
      "cell_type": "code",
      "source": [
        "# 실사용 예시?\n",
        "\n",
        "#login 한 사용자만 읽도록하기\n",
        "# 대부분 이미 구현되어있다.\n",
        "def login():\n",
        "    pass\n",
        "\n",
        "@login\n",
        "def 게시판읽기():\n",
        "    pass\n",
        "\n"
      ],
      "metadata": {
        "id": "qamWXofIWA0L"
      },
      "execution_count": null,
      "outputs": []
    },
    {
      "cell_type": "code",
      "source": [
        "#중첩 데코레이터\n",
        "\n",
        "def add_exclamation(function):\n",
        "    def wrapper(text):\n",
        "        print(f'add_exclamation 데코레이터 시작')\n",
        "        result = function(text) + \"!\"\n",
        "        print(f'add_exclamation 데코레이터 종료')\n",
        "        return result\n",
        "    return wrapper\n",
        "\n",
        "def add_question_mark(function):\n",
        "    def wrapper(text):\n",
        "        print(f'add_question_mark 데코레이터 시작')\n",
        "        result = function(text) + \"?\"\n",
        "        print(f'add_question_mark 데코레이터 종료')\n",
        "        return result\n",
        "    return wrapper\n",
        "\n",
        "def add_dot(function):\n",
        "    def wrapper(text):\n",
        "        print(f'add_dot 데코레이터 시작')\n",
        "        result = function(text) + \".\"\n",
        "        print(f'add_dot 데코레이터 종료')\n",
        "        return result\n",
        "    return wrapper\n",
        "\n",
        "@add_exclamation\n",
        "@add_question_mark\n",
        "@add_dot\n",
        "def greet(message):\n",
        "    print('greet실행')\n",
        "    return message\n",
        "\n",
        "result = greet('안녕')\n",
        "print(result)"
      ],
      "metadata": {
        "colab": {
          "base_uri": "https://localhost:8080/"
        },
        "id": "IevBo02iaIDg",
        "outputId": "7e895f0c-6ef3-49a1-eee5-43437349265a"
      },
      "execution_count": 21,
      "outputs": [
        {
          "output_type": "stream",
          "name": "stdout",
          "text": [
            "add_exclamation 데코레이터 시작\n",
            "add_question_mark 데코레이터 시작\n",
            "add_dot 데코레이터 시작\n",
            "greet실행\n",
            "add_dot 데코레이터 종료\n",
            "add_question_mark 데코레이터 종료\n",
            "add_exclamation 데코레이터 종료\n",
            "안녕.?!\n"
          ]
        }
      ]
    },
    {
      "cell_type": "code",
      "source": [
        "#동적 데코레이터\n",
        "\n",
        "def add(n): # 데코레이터를 감싸는 하나의 함수를 더 만들어서 아규먼트를 받는 방법입니다.\n",
        "    def decorator(function): # 여기서부터의 기능은 같습니다.\n",
        "        def new_function(a, b):\n",
        "            print(f'plus 함수가 {n}만큼 증가시키는 데코레이터가 시작됩니다.')\n",
        "            result = function(a, b)\n",
        "            print(result)\n",
        "            print(f'plus 함수가 {n}만큼 증가시키는 데코레이터가 종료됩니다.')\n",
        "            return result + n\n",
        "        return new_function\n",
        "    return decorator\n",
        "\n",
        "@add(1000)\n",
        "def plus(a, b):\n",
        "    print('plus 함수가 호출되었습니다.')\n",
        "    return a + b\n",
        "\n",
        "result = plus(10, 20)\n",
        "print(f'result : {result}')"
      ],
      "metadata": {
        "colab": {
          "base_uri": "https://localhost:8080/"
        },
        "id": "bMSkj4ijbC_b",
        "outputId": "3fe6b802-3125-499c-b1c1-7808aa880f45"
      },
      "execution_count": 22,
      "outputs": [
        {
          "output_type": "stream",
          "name": "stdout",
          "text": [
            "plus 함수가 1000만큼 증가시키는 데코레이터가 시작됩니다.\n",
            "plus 함수가 호출되었습니다.\n",
            "30\n",
            "plus 함수가 1000만큼 증가시키는 데코레이터가 종료됩니다.\n",
            "result : 1030\n"
          ]
        }
      ]
    },
    {
      "cell_type": "code",
      "source": [
        "# 람다 - 일회성으로 쓸 때 쓰는 함수 표현방식\n",
        "\n",
        "sq = lambda x:x**2\n",
        "print(sq(10))"
      ],
      "metadata": {
        "id": "GCVv3yAJbsBL",
        "colab": {
          "base_uri": "https://localhost:8080/"
        },
        "outputId": "7e44f071-4078-4030-db27-27d6c0654bf9"
      },
      "execution_count": 23,
      "outputs": [
        {
          "output_type": "stream",
          "name": "stdout",
          "text": [
            "100\n"
          ]
        }
      ]
    },
    {
      "cell_type": "code",
      "source": [
        "#가변 아규먼트, 가변 키워드 아규먼트 args, kwargs\n",
        "\n",
        "# *을 붙임으로서 선언. *은 포인터가 아니라 '언패킹 연산자'\n",
        "\n",
        "#'가변' 이라는 의미 그대로 여러개 갯수를 넣을 수 있다. 튜플로 들어감.\n",
        "\n",
        "def print_args(*args):\n",
        "    print(args)\n",
        "    for x in args:\n",
        "        print(x)\n",
        "\n",
        "print_args(100, True, 'Licat')\n",
        "\n",
        "\n",
        "\n"
      ],
      "metadata": {
        "id": "-d4WMFEJefVh"
      },
      "execution_count": null,
      "outputs": []
    },
    {
      "cell_type": "code",
      "source": [
        "def print_args(a, b, *args, c): # *args뒤에 일반 변수를 선언하지 못합니다. 에러\n",
        "    print(args)\n",
        "    for x in args:\n",
        "        print(x)\n",
        "\n",
        "print_args(100, True, 'Licat', 'hello', 10)\n",
        "\n"
      ],
      "metadata": {
        "id": "tgGfy1Utz8mD"
      },
      "execution_count": null,
      "outputs": []
    },
    {
      "cell_type": "code",
      "source": [
        "def print_args(a, b, *args, *c): # *args뒤에 또다른 가변 아규먼트를 넣지 못합니다. 에러\n",
        "    print(args)\n",
        "    for x in args:\n",
        "        print(x)\n",
        "\n",
        "print_args(100, True, 'Licat', 'hello', 10)"
      ],
      "metadata": {
        "id": "NniYux6Oz-aw"
      },
      "execution_count": null,
      "outputs": []
    },
    {
      "cell_type": "code",
      "source": [
        "## ** 두개 짜리는 딕셔너리로 가변인수 받기\n",
        "\n",
        "def print_kwargs(a, **kwargs):\n",
        "    print(a)\n",
        "    print(kwargs)\n",
        "    for i in kwargs:\n",
        "        print(i)\n",
        "\n",
        "print_kwargs(100, name='Licat', age='10')"
      ],
      "metadata": {
        "id": "iqpBo8Vsz4g_"
      },
      "execution_count": null,
      "outputs": []
    },
    {
      "cell_type": "code",
      "source": [
        "kwargs = {'a': 1, 'b': 2, 'c': 3}\n",
        "print(kwargs, *kwargs)\n",
        "# print(kwargs, **kwargs) # 왜 에스터리스크가 2개일 때 error가 날까요?\n",
        "# print(kwargs, a=1, b=2, c=3) # 이 코드가 바로 위의 코드와 같습니다."
      ],
      "metadata": {
        "colab": {
          "base_uri": "https://localhost:8080/"
        },
        "id": "5zLJ4d1Z4KYL",
        "outputId": "47edfe57-56ef-4e3c-89c3-a6c46d6d4545"
      },
      "execution_count": 24,
      "outputs": [
        {
          "output_type": "stream",
          "name": "stdout",
          "text": [
            "{'a': 1, 'b': 2, 'c': 3} a b c\n"
          ]
        }
      ]
    },
    {
      "cell_type": "code",
      "source": [
        "class MyIterator:\n",
        "    def __init__(self, stop):\n",
        "        self.current_value = 0  # 현재 값\n",
        "        self.stop = stop  # 순회를 멈출 값\n",
        "\n",
        "    def __iter__(self):\n",
        "        return self\n",
        "\n",
        "    def __next__(self):\n",
        "        if self.current_value >= self.stop:\n",
        "\n",
        "            raise StopIteration\n",
        "        result = self.current_value\n",
        "        self.current_value += 1\n",
        "        return result\n",
        "\n",
        "my_iterator = MyIterator(5)\n",
        "\n",
        "for i in my_iterator:\n",
        "    print(i)"
      ],
      "metadata": {
        "colab": {
          "base_uri": "https://localhost:8080/"
        },
        "id": "drzeavXV6kKD",
        "outputId": "af5f8f6e-c653-4de2-9b0e-b6a89561adc2"
      },
      "execution_count": 26,
      "outputs": [
        {
          "output_type": "stream",
          "name": "stdout",
          "text": [
            "0\n",
            "1\n",
            "2\n",
            "3\n",
            "4\n",
            "멈춥니다\n"
          ]
        }
      ]
    },
    {
      "cell_type": "code",
      "source": [
        "class MyIterator:\n",
        "    def __init__(self, stop):\n",
        "        self.stop = stop  # 순회를 멈출 값\n",
        "\n",
        "    def __iter__(self):\n",
        "        self.current_value = 0  # 현재 값\n",
        "        return self\n",
        "\n",
        "    def __next__(self):\n",
        "        if self.current_value >= self.stop:\n",
        "            raise StopIteration\n",
        "        result = self.current_value\n",
        "        self.current_value += 1\n",
        "        return result\n",
        "\n",
        "my_iterator = MyIterator(5)\n",
        "\n",
        "for i in my_iterator:\n",
        "    print(i)\n",
        "\n",
        "for i in my_iterator:\n",
        "    print(i)"
      ],
      "metadata": {
        "colab": {
          "base_uri": "https://localhost:8080/"
        },
        "id": "GZf8BX58-94k",
        "outputId": "e4a43d59-29d5-4067-f05a-59b78b4fbbd7"
      },
      "execution_count": 27,
      "outputs": [
        {
          "output_type": "stream",
          "name": "stdout",
          "text": [
            "0\n",
            "1\n",
            "2\n",
            "3\n",
            "4\n",
            "0\n",
            "1\n",
            "2\n",
            "3\n",
            "4\n"
          ]
        }
      ]
    },
    {
      "cell_type": "code",
      "source": [
        "## https://pythontutor.com/python-debugger.html#mode=edit 에서 구현 순서 보기\n",
        "\n",
        "class MyIterator:\n",
        "    def __init__(self, stop):\n",
        "        self.stop = stop  # 순회를 멈출 값\n",
        "\n",
        "    def __iter__(self):\n",
        "        self.current_value = 0  # 현재 값\n",
        "        return self\n",
        "\n",
        "    def __next__(self):\n",
        "        if self.current_value >= self.stop:\n",
        "            raise StopIteration\n",
        "        result = self.current_value\n",
        "        self.current_value += 1\n",
        "        return result\n",
        "\n",
        "my_iterator = MyIterator(5)\n",
        "\n",
        "for i in my_iterator:\n",
        "    print(i)\n",
        "\n",
        "\n",
        "\n"
      ],
      "metadata": {
        "id": "lANqM7drAEAQ"
      },
      "execution_count": null,
      "outputs": []
    },
    {
      "cell_type": "code",
      "source": [
        "# 제너레이터\n",
        "\n",
        "def my_generator(data):\n",
        "    for i in data:\n",
        "        yield i\n",
        "\n",
        "my_list = [1, 2, 3, 4, 5]\n",
        "my_iterator = my_generator(my_list)\n",
        "\n",
        "for i in my_iterator:\n",
        "    print(i)"
      ],
      "metadata": {
        "id": "UU0MR3MKFO52"
      },
      "execution_count": null,
      "outputs": []
    },
    {
      "cell_type": "code",
      "source": [
        "def my_generator(data):\n",
        "    for i in data:\n",
        "        yield i * 10\n",
        "\n",
        "for i in my_generator([1, 2, 3]):\n",
        "    print(i)"
      ],
      "metadata": {
        "colab": {
          "base_uri": "https://localhost:8080/"
        },
        "id": "Wmtv6A6bFVir",
        "outputId": "3366ffd6-5b4b-40be-ed24-2b42f942965e"
      },
      "execution_count": 35,
      "outputs": [
        {
          "output_type": "stream",
          "name": "stdout",
          "text": [
            "10\n",
            "20\n",
            "30\n"
          ]
        }
      ]
    },
    {
      "cell_type": "code",
      "source": [
        "# 이럴때 많이 사용합니다.\n",
        "def my_generator():\n",
        "    l = ['짝', '홀']\n",
        "    while True:\n",
        "        yield l[t := False]\n",
        "        yield l[t := True]\n",
        "\n",
        "list(zip([0, 1, 2, 3, 4, 5, 6], my_generator()))"
      ],
      "metadata": {
        "id": "vHW0Ma4SFbIF"
      },
      "execution_count": null,
      "outputs": []
    },
    {
      "cell_type": "code",
      "source": [
        "def my_generator():\n",
        "    count = 0\n",
        "    while True:\n",
        "        yield count\n",
        "        count += 2\n",
        "list(zip([1, 2, 3, 4, 5, 6, 7, 8, 9], 'hello world', my_generator())) # 마치 enumerate처럼"
      ],
      "metadata": {
        "id": "5Twd7oYsFdfA"
      },
      "execution_count": null,
      "outputs": []
    },
    {
      "cell_type": "code",
      "source": [
        "# 회전초밥집에 들어갔습니다. 초밥은 아래와 같은 양식으로 나옵니다.\n",
        "# [['광어초밥', 1000], ['연어초밥', 2000], ['계란초밥', 3000]]\n",
        "# * 각 초밥은 몇 개 나올지 알 수 없습니다.\n",
        "# * 각 초밥은 1000원씩 비싸집니다.\n",
        "# * 초밥에 '어'가 나오는 초밥만 먹습니다.\n",
        "# 내가 먹은 초밥의 비용을 계산하는 코드를 작성해 주세요.\n",
        "def my_generator(data):\n",
        "    for i,j in data:\n",
        "        if '어' in i:\n",
        "           yield j\n",
        "\n",
        "def solution(data):\n",
        "    n = 0\n",
        "    for i in my_generator(data):\n",
        "        n += i\n",
        "    return n\n",
        "\n",
        "print(solution([['광어초밥', 1000], ['연어초밥', 2000], ['계란초밥', 3000], ['문어초밥', 4000], ['장어초밥', 5000]]))\n",
        "def sol(data):\n",
        "    return sum(my_generator(data)) # sum이 통하므로 이걸 쓰는게 간단하고 좋다\n",
        "print(sol([['광어초밥', 1000], ['연어초밥', 2000], ['계란초밥', 3000], ['문어초밥', 4000], ['장어초밥', 5000]]))"
      ],
      "metadata": {
        "colab": {
          "base_uri": "https://localhost:8080/"
        },
        "id": "GXKBQlh1IXkC",
        "outputId": "57e25ab3-feaf-4d15-8382-f5508916f7ca"
      },
      "execution_count": 40,
      "outputs": [
        {
          "output_type": "stream",
          "name": "stdout",
          "text": [
            "12000\n",
            "12000\n"
          ]
        }
      ]
    },
    {
      "cell_type": "code",
      "source": [
        "# nonlocal 선언시 바깥의 전역변수가 아닌 내부의 변수를 가리키게 됨\n",
        "\n",
        "x = 100\n",
        "def outer():\n",
        "    x = 1\n",
        "    def inner():\n",
        "        nonlocal x\n",
        "        x += 1\n",
        "        print(x) # 출력: 2\n",
        "    inner()\n",
        "    print(x) # 출력: 2\n",
        "\n",
        "outer()\n",
        "print(x) # 출력: 100"
      ],
      "metadata": {
        "colab": {
          "base_uri": "https://localhost:8080/"
        },
        "id": "kdSb5TM-Io4M",
        "outputId": "4369b771-1ad8-4457-98f2-9c1847bed3c2"
      },
      "execution_count": 41,
      "outputs": [
        {
          "output_type": "stream",
          "name": "stdout",
          "text": [
            "2\n",
            "2\n",
            "100\n"
          ]
        }
      ]
    },
    {
      "cell_type": "code",
      "source": [
        "#global 사용시 바깥의 x를 가리킴\n",
        "\n",
        "x = 100\n",
        "def outer():\n",
        "    x = 1\n",
        "    def inner():\n",
        "        global x\n",
        "        x += 1\n",
        "        print(x) # 출력: 101\n",
        "    inner()\n",
        "    print(x) # 출력: 1\n",
        "\n",
        "outer()\n",
        "print(x) # 출력: 101"
      ],
      "metadata": {
        "id": "9esXw3dzfcK5"
      },
      "execution_count": null,
      "outputs": []
    },
    {
      "cell_type": "code",
      "source": [
        "# 문제1\n",
        "# 다음과 같이 동작하는 제너레이터 함수 fibonacci(n)를 완성하세요.\n",
        "# 주어진 숫자 n까지의 피보나치 수열을 반환합니다.\n",
        "# 인터넷에서 피보나치 순열 Python 코드를 검색해보셔도 좋습니다.\n",
        "def fib_gen(n):\n",
        "    a,b =1,1\n",
        "    for _ in range(n):\n",
        "        yield a\n",
        "        a,b = b,a+b\n",
        "\n",
        "\n",
        "for i in fib_gen(9):\n",
        "    print(i)\n",
        "\n",
        "\n",
        "# 출력\n",
        "# 1\n",
        "# 1\n",
        "# 2\n",
        "# 3\n",
        "# 5\n",
        "\n",
        "\n",
        "\n",
        "\n",
        "\n"
      ],
      "metadata": {
        "colab": {
          "base_uri": "https://localhost:8080/"
        },
        "id": "PmnTajT0fzuD",
        "outputId": "335af3b7-83c0-4f3f-f232-e95dbf97ca38"
      },
      "execution_count": 116,
      "outputs": [
        {
          "output_type": "stream",
          "name": "stdout",
          "text": [
            "1\n",
            "1\n",
            "2\n",
            "3\n",
            "5\n",
            "8\n",
            "13\n",
            "21\n",
            "34\n"
          ]
        }
      ]
    },
    {
      "cell_type": "code",
      "source": [
        "# 문제2\n",
        "# 주어진 함수의 실행 시간을 측정하여 출력하는 데코레이터 time_it를 작성하세요.\n",
        "# (힌트: time 모듈의 time() 함수를 사용하세요.)\n",
        "\n",
        "import time\n",
        "\n",
        "def time_it(f):\n",
        "    def wrap(n):\n",
        "        start = time.time()\n",
        "        f(n)\n",
        "        end = time.time()\n",
        "        t = end-start\n",
        "        print(t)\n",
        "\n",
        "    return wrap\n",
        "\n",
        "\n",
        "def fib_gen(n):\n",
        "    a,b =1,1\n",
        "    for _ in range(n):\n",
        "        yield a\n",
        "        a,b = b,a+b\n",
        "    return a\n",
        "\n",
        "\n",
        "@time_it\n",
        "def fib10():\n",
        "    for i in fib_gen(10):\n",
        "        print(i)\n",
        "\n",
        "fib10()\n",
        "\n",
        "\n",
        "#강사님이 푼 해답에서는, main함수를 따로 두어서 그 위에 @를 붙였다.\n"
      ],
      "metadata": {
        "colab": {
          "base_uri": "https://localhost:8080/"
        },
        "id": "bD19VOfCqRdv",
        "outputId": "037b857f-39d9-4819-c6a1-18654bd47a49"
      },
      "execution_count": 115,
      "outputs": [
        {
          "output_type": "stream",
          "name": "stdout",
          "text": [
            "1\n",
            "1\n",
            "2\n",
            "3\n",
            "5\n",
            "8\n",
            "13\n",
            "21\n",
            "34\n",
            "55\n",
            "89\n",
            "144\n",
            "233\n",
            "377\n",
            "610\n",
            "987\n",
            "1597\n",
            "2584\n",
            "4181\n",
            "6765\n",
            "0.01965475082397461\n"
          ]
        }
      ]
    }
  ]
}