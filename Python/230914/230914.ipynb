{
  "nbformat": 4,
  "nbformat_minor": 0,
  "metadata": {
    "colab": {
      "provenance": []
    },
    "kernelspec": {
      "name": "python3",
      "display_name": "Python 3"
    },
    "language_info": {
      "name": "python"
    }
  },
  "cells": [
    {
      "cell_type": "code",
      "execution_count": null,
      "metadata": {
        "colab": {
          "base_uri": "https://localhost:8080/"
        },
        "id": "YoTLA3L-_wqG",
        "outputId": "518d9c09-7303-476a-e553-a3a3eebe04b6"
      },
      "outputs": [
        {
          "output_type": "execute_result",
          "data": {
            "text/plain": [
              "False"
            ]
          },
          "metadata": {},
          "execution_count": 3
        }
      ],
      "source": [
        "#if False: 와 같은것?\n",
        "#if f()\n",
        "def f():\n",
        "    return\n",
        "\n",
        "bool(f())\n",
        "bool([])"
      ]
    },
    {
      "cell_type": "code",
      "source": [
        "# 람다 함수에서 if 쓰기\n",
        "my_func = lambda x: '짝수' if x%2==0 else '홀수'\n"
      ],
      "metadata": {
        "id": "km-tAM0ZEYwN"
      },
      "execution_count": null,
      "outputs": []
    },
    {
      "cell_type": "code",
      "source": [
        "# if를 중첩해서 사용하기 1\n",
        "movie = {\n",
        "    '영화': '무빙',\n",
        "    '장르': 'SF',\n",
        "    '서비스': '디즈니',\n",
        "    '비용': 15000,\n",
        "    '평점': 4.9\n",
        "}\n",
        "\n",
        "if movie['장르'] == 'SF':\n",
        "    if movie['서비스'] == '디즈니' or movie['서비스'] == '넷플릭스':\n",
        "        if movie['평점'] >= 4.5:\n",
        "            if movie['비용'] <= 10000:\n",
        "                print('영화시청')"
      ],
      "metadata": {
        "id": "nBgg6ln0GrH2"
      },
      "execution_count": null,
      "outputs": []
    },
    {
      "cell_type": "code",
      "source": [
        "# if를 중첩해서 사용하기 2\n",
        "movie = {\n",
        "    '영화': '무빙',\n",
        "    '장르': 'SF',\n",
        "    '서비스': '디즈니',\n",
        "    '비용': 15000,\n",
        "    '평점': 4.9\n",
        "}\n",
        "\n",
        "if movie['장르'] == 'SF' and (movie['서비스'] == '디즈니' or movie['서비스'] == '넷플릭스') and movie['평점'] >= 4.5 and movie['비용'] <= 20000:\n",
        "    print('영화시청')\n",
        "\n",
        "#반대로, if문이 and와 or로 너무 많이 연결되어 있을경우, 1번처럼 풀어서 쓸 수 있다."
      ],
      "metadata": {
        "id": "X55DYv9FIKfw"
      },
      "execution_count": null,
      "outputs": []
    },
    {
      "cell_type": "code",
      "source": [
        "# match는 최신문법 3.10에 추가됨\n",
        "\n",
        "# 파이썬에 없는 switch 문을 switch 처럼 쓰기 위해 등장\n",
        "\n",
        "def test(i):\n",
        "    match i:\n",
        "        case 1:\n",
        "            print('One')\n",
        "        case 2:\n",
        "            print('Two')\n",
        "        case 3 | 4:\n",
        "            print('Three or Four')\n",
        "        case _ if i > 10:\n",
        "            print('Greater than ten')\n",
        "        case _:\n",
        "            print('Other')\n",
        "\n",
        "test(1) # 출력: One\n",
        "test(2) # 출력: Two\n",
        "test(3) # 출력: Three or Four\n",
        "test(4) # 출력: Three or Four\n",
        "test(5) # 출력: Other\n",
        "test(15) # 출력: Greater than ten\n",
        "\n",
        "\n"
      ],
      "metadata": {
        "id": "QdTj1_xvPQZc"
      },
      "execution_count": null,
      "outputs": []
    },
    {
      "cell_type": "code",
      "source": [
        "#연습문제\n",
        "\n",
        "def attack(atk_type,dmg):\n",
        "    match atk_type:\n",
        "        case '물리공격'|'마법공격':\n",
        "            print(str(dmg)+'의 데미지 입혔습니다.')\n",
        "        case '정신공격':\n",
        "            print(str(dmg)+'ms 만큼 상대방이 혼란을 느낍니다.')\n",
        "\n",
        "\n",
        "attack('물리공격',100) # 물리공격, 마법공격, 정신공격\n",
        "attack('마법공격',100) # 물리공격, 마법공격, 정신공격\n",
        "attack('정신공격',100) # 물리공격, 마법공격, 정신공격\n",
        "\n",
        "\n",
        "\n",
        "#각 공격에 따라 아래의 값이 출력되도록\n",
        "#물리, 마법 : 100의 데미지 입혔습니다.\n",
        "#정신 : 100ms 만큼 상대방이 혼란을 느낍니다."
      ],
      "metadata": {
        "colab": {
          "base_uri": "https://localhost:8080/"
        },
        "id": "BxKrNZ67QvEH",
        "outputId": "f4b2578e-bc41-42da-d09d-7aeec09767fc"
      },
      "execution_count": null,
      "outputs": [
        {
          "output_type": "stream",
          "name": "stdout",
          "text": [
            "100의 데미지 입혔습니다.\n",
            "100의 데미지 입혔습니다.\n",
            "100ms 만큼 상대방이 혼란을 느낍니다.\n"
          ]
        }
      ]
    },
    {
      "cell_type": "markdown",
      "source": [
        "#반복문\n",
        "\n"
      ],
      "metadata": {
        "id": "GCMB5tiYSy9u"
      }
    },
    {
      "cell_type": "code",
      "source": [
        "#for 는 순회 가능한 객체로 반복.\n",
        "#for 는 in과 같이 쓴다.\n",
        "for x in 'hello':\n",
        "    print(x)"
      ],
      "metadata": {
        "colab": {
          "base_uri": "https://localhost:8080/"
        },
        "id": "iyMVbbcTS36e",
        "outputId": "310e84f0-fa9c-4615-bb04-7459a1898600"
      },
      "execution_count": null,
      "outputs": [
        {
          "output_type": "stream",
          "name": "stdout",
          "text": [
            "h\n",
            "e\n",
            "l\n",
            "l\n",
            "o\n"
          ]
        }
      ]
    },
    {
      "cell_type": "code",
      "source": [
        "x = iter('hello')\n",
        "print(next(x)) # next를 쭉 해보면 나오는데, StopIteration 에러로 종료되는 방식"
      ],
      "metadata": {
        "colab": {
          "base_uri": "https://localhost:8080/"
        },
        "id": "Vx7cPt1fTSiF",
        "outputId": "832b54c7-3e9e-47a3-cfc9-cfef46ff6859"
      },
      "execution_count": null,
      "outputs": [
        {
          "output_type": "stream",
          "name": "stdout",
          "text": [
            "<str_iterator object at 0x7a77f1c5c6a0>\n"
          ]
        }
      ]
    },
    {
      "cell_type": "code",
      "source": [
        "#1부터 100까지 짝수 더하기\n",
        "\n",
        "#권장하지 않는 코드. if문 연산을 더 해야해서\n",
        "res = 0\n",
        "for i in range(101):\n",
        "    if i%2 ==0:\n",
        "        res += i\n",
        "\n",
        "#권장 코드\n",
        "for i in range(0,101,2):\n",
        "    res+=i\n",
        "\n"
      ],
      "metadata": {
        "id": "R1jZ5khJV4fD"
      },
      "execution_count": null,
      "outputs": []
    },
    {
      "cell_type": "code",
      "source": [
        "#중첩 for를 어렵게 표현\n",
        "\n",
        "for i in [range(3), range(5), range(7)]:\n",
        "    for j in i:\n",
        "        print(j)\n",
        "\n",
        "\n"
      ],
      "metadata": {
        "id": "qy0tg_QgXbmC"
      },
      "execution_count": null,
      "outputs": []
    },
    {
      "cell_type": "code",
      "source": [
        "#구구단\n",
        "for i in range(2,10):\n",
        "    for j in range(1,10):\n",
        "        print(i,j,i*j)"
      ],
      "metadata": {
        "id": "0qOMer-xbD_o"
      },
      "execution_count": null,
      "outputs": []
    },
    {
      "cell_type": "code",
      "source": [
        "#연습문제 for 중첩 두번\n",
        "s = '135678'\n",
        "# Q1. s의 숫자로 주어진 단수의 구구단만 출력\n",
        "\n",
        "for i in s:\n",
        "    for j in range(1,10):\n",
        "        print(int(i),j,int(i)*j)"
      ],
      "metadata": {
        "id": "ZIqjKKehbWz4"
      },
      "execution_count": null,
      "outputs": []
    },
    {
      "cell_type": "code",
      "source": [
        "#Q2 특이한 구구단\n",
        "# l이 주어지고, 곱해지는 수는 l에 1씩을 더한 수가 곱해지게 출력\n",
        "l = [2,3,6]\n",
        "\n",
        "\n",
        "for i in l:\n",
        "    for j in l:\n",
        "        print(i,j+1,i*(j+1))"
      ],
      "metadata": {
        "colab": {
          "base_uri": "https://localhost:8080/"
        },
        "id": "9I9IBX2nb13d",
        "outputId": "5bd16973-696f-416c-b25c-14739cff6d69"
      },
      "execution_count": null,
      "outputs": [
        {
          "output_type": "stream",
          "name": "stdout",
          "text": [
            "2 3 6\n",
            "2 4 8\n",
            "2 7 14\n",
            "3 3 9\n",
            "3 4 12\n",
            "3 7 21\n",
            "6 3 18\n",
            "6 4 24\n",
            "6 7 42\n"
          ]
        }
      ]
    },
    {
      "cell_type": "code",
      "source": [
        "# enumerate (순회 가능객체, 인덱스 시작값): 순위매길때 많이 씀\n",
        "영화누적관객수 = ['레미제라블','뷰티인사이드','매트릭스','인셉션','어거스트러쉬']\n",
        "for i in enumerate(영화누적관객수,1):\n",
        "    print(i)"
      ],
      "metadata": {
        "colab": {
          "base_uri": "https://localhost:8080/"
        },
        "id": "VtIm3naagv4-",
        "outputId": "1a366547-8393-4331-90a9-3391fe63223f"
      },
      "execution_count": null,
      "outputs": [
        {
          "output_type": "stream",
          "name": "stdout",
          "text": [
            "(1, '레미제라블')\n",
            "(2, '뷰티인사이드')\n",
            "(3, '매트릭스')\n",
            "(4, '인셉션')\n",
            "(5, '어거스트러쉬')\n"
          ]
        }
      ]
    },
    {
      "cell_type": "code",
      "source": [
        "#while 은 조건이 거짓일때 반복 구문을 탈출\n",
        "#언제 쓰는가? OS나 쉘 등에서 쓰는 용도?\n"
      ],
      "metadata": {
        "id": "W3YG4ymPipTw"
      },
      "execution_count": null,
      "outputs": []
    },
    {
      "cell_type": "code",
      "source": [
        "# 왈러스 연산자 (Walrus, :=) 3.8버전에 도입\n",
        "\n",
        "x = (n:=10)*2\n",
        "print(n,x)\n"
      ],
      "metadata": {
        "id": "MgdREL5ql9qu",
        "colab": {
          "base_uri": "https://localhost:8080/"
        },
        "outputId": "5abfc98f-dede-4516-e973-2f7cc8ea41c6"
      },
      "execution_count": null,
      "outputs": [
        {
          "output_type": "stream",
          "name": "stdout",
          "text": [
            "10 20\n"
          ]
        }
      ]
    },
    {
      "cell_type": "code",
      "source": [
        "data = data = [\n",
        "  {\n",
        "    \"_id\": \"fd7e9a0f-e77b-436a-B781-119b66033d49\",\n",
        "    \"index\": \"1\",\n",
        "    \"name\": \"나주헌\",\n",
        "    \"email\": \"user-tzctc1q@suspendisse.org\",\n",
        "    \"phone\": \"010-5547-5841\",\n",
        "    \"country\": \"과테말라\",\n",
        "    \"address\": \"광나루로 99-2\",\n",
        "    \"job\": \"유치원교사\",\n",
        "    \"gender\": \"여성\",\n",
        "    \"age\": \"43\"\n",
        "  },\n",
        "  {\n",
        "    \"_id\": \"8ec6eabb-160a-41e4-A3de-cd33aff0b281\",\n",
        "    \"index\": \"2\",\n",
        "    \"name\": \"엄루다\",\n",
        "    \"email\": \"user-1rz7xby@mi.org\",\n",
        "    \"phone\": \"010-3963-9373\",\n",
        "    \"country\": \"엘살바도르\",\n",
        "    \"address\": \"석촌호수로 37-1\",\n",
        "    \"job\": \"프로게이머\",\n",
        "    \"gender\": \"남성\",\n",
        "    \"age\": \"22\"\n",
        "  },\n",
        "  {\n",
        "    \"_id\": \"bcf804f7-0452-4c31-B9d1-20cc2d38490b\",\n",
        "    \"index\": \"3\",\n",
        "    \"name\": \"형유환\",\n",
        "    \"email\": \"user-ym96wth@have.net\",\n",
        "    \"phone\": \"010-6389-9499\",\n",
        "    \"country\": \"벨리즈\",\n",
        "    \"address\": \"잠실로 33-3\",\n",
        "    \"job\": \"아나운서\",\n",
        "    \"gender\": \"남성\",\n",
        "    \"age\": \"31\"\n",
        "  },\n",
        "  {\n",
        "    \"_id\": \"11006f0d-e88d-41fc-A288-caa2e67927e7\",\n",
        "    \"index\": \"4\",\n",
        "    \"name\": \"위도현\",\n",
        "    \"email\": \"user-tkxj6f5@diam.org\",\n",
        "    \"phone\": \"010-4246-4752\",\n",
        "    \"country\": \"바레인\",\n",
        "    \"address\": \"종로 99-8\",\n",
        "    \"job\": \"작곡가\",\n",
        "    \"gender\": \"여성\",\n",
        "    \"age\": \"42\"\n",
        "  },\n",
        "  {\n",
        "    \"_id\": \"b7421487-da52-4410-B696-17bab958a5d8\",\n",
        "    \"index\": \"5\",\n",
        "    \"name\": \"유성재\",\n",
        "    \"email\": \"user-bgxih63@Sed.net\",\n",
        "    \"phone\": \"010-6359-7592\",\n",
        "    \"country\": \"피지\",\n",
        "    \"address\": \"방학로 71-3\",\n",
        "    \"job\": \"연기자\",\n",
        "    \"gender\": \"여성\",\n",
        "    \"age\": \"48\"\n",
        "  }\n",
        "]\n"
      ],
      "metadata": {
        "id": "IhYvdXozEnCs"
      },
      "execution_count": null,
      "outputs": []
    },
    {
      "cell_type": "code",
      "source": [
        "'''\n",
        "Q1 평균나이 구하기\n",
        "Q2 남녀성비 구하기\n",
        "'''\n",
        "\n",
        "ages = (map(lambda x :x['age'],data))\n",
        "ages = map(int,ages)\n",
        "ages = list(ages)\n",
        "x = sum(ages)/len(ages)\n",
        "\n",
        "\n",
        "gender = list(map(lambda x :x['gender'],data))\n",
        "total = len(gender)\n",
        "man = gender.count('남성')\n",
        "woman = total - man\n",
        "\n",
        "print(man/total,woman/total)\n",
        "\n"
      ],
      "metadata": {
        "colab": {
          "base_uri": "https://localhost:8080/"
        },
        "id": "4H6M4hlFEu7T",
        "outputId": "84cfb45d-fd94-4def-acdd-ee24e2d68a4a"
      },
      "execution_count": null,
      "outputs": [
        {
          "output_type": "stream",
          "name": "stdout",
          "text": [
            "0.4 0.6\n"
          ]
        }
      ]
    },
    {
      "cell_type": "markdown",
      "source": [
        "#클래스"
      ],
      "metadata": {
        "id": "MUkJZixKL8FA"
      }
    },
    {
      "cell_type": "code",
      "source": [
        "#클래스는 도면 혹은 공장. 첫글자는 대문자로 표기\n",
        "\n",
        "class Car:\n",
        "    max_speed = 300\n",
        "    min_speed = 5\n",
        "    car_gear = ['P','D','R',\"N\"]\n",
        "\n",
        "    def start(self):\n",
        "        print('차출발')\n",
        "\n",
        "    def stop(self):\n",
        "        print('차멈춤')\n",
        "\n",
        "\n",
        "#공장에서 차 찍어내기\n",
        "# 각각 인스턴스\n",
        "modelx = Car() #=> 인스턴스 = 클래스()\n",
        "modely = Car()\n",
        "models = Car()\n"
      ],
      "metadata": {
        "id": "6ayI1zNpL-vK"
      },
      "execution_count": null,
      "outputs": []
    },
    {
      "cell_type": "code",
      "source": [
        "class Matrix:\n",
        "\n",
        "    def __init__(self, value):\n",
        "        self.value = value\n",
        "\n",
        "    def __add__(self, other):\n",
        "        result = []\n",
        "        for i in range(len(self.value)):\n",
        "            result.append(self.value[i] + other.value[i])\n",
        "        return result\n",
        "\n",
        "    def __mul__(self, other):\n",
        "        if isinstance(other, int):\n",
        "            return [i*other for i in self.value]\n",
        "        # raise TypeError('int형 외에 곱을 허락하지 않습니다!')\n",
        "\n",
        "\n",
        "m1 = Matrix([10, 20, 30])\n",
        "m2 = Matrix([20, 30, 40])\n",
        "\n",
        "print(m1 * 3)\n",
        "print(m1 * [1, 2, 3])"
      ],
      "metadata": {
        "colab": {
          "base_uri": "https://localhost:8080/"
        },
        "id": "BJiDJXvMg-ku",
        "outputId": "4061ceae-55c4-4e32-c11c-153b34f2ced2"
      },
      "execution_count": null,
      "outputs": [
        {
          "output_type": "stream",
          "name": "stdout",
          "text": [
            "[30, 60, 90]\n",
            "None\n"
          ]
        }
      ]
    },
    {
      "cell_type": "code",
      "source": [
        "# 아래 기본 data를 기반으로 문제를 풀어주세요.\n",
        "data = [\n",
        "  {\n",
        "    \"_id\": \"fd7e9a0f-e77b-436a-B781-119b66033d49\",\n",
        "    \"index\": \"1\",\n",
        "    \"name\": \"나주헌\",\n",
        "    \"gender\": \"여성\",\n",
        "    \"age\": \"43\"\n",
        "  },\n",
        "  {\n",
        "    \"_id\": \"8ec6eabb-160a-41e4-A3de-cd33aff0b281\",\n",
        "    \"index\": \"2\",\n",
        "    \"name\": \"엄루다\",\n",
        "    \"gender\": \"남성\",\n",
        "    \"age\": \"22\"\n",
        "  },\n",
        "  {\n",
        "    \"_id\": \"bcf804f7-0452-4c31-B9d1-20cc2d38490b\",\n",
        "    \"index\": \"3\",\n",
        "    \"name\": \"형유환\",\n",
        "    \"gender\": \"남성\",\n",
        "    \"age\": \"31\"\n",
        "  }\n",
        "]\n",
        "# 문제 1 gender, age값을 추출해보세요. 아래 양식처럼 추출하시면 됩니다. 가능하면 map을 사용해주세요.\n",
        "\n",
        "list(map(lambda x: {\"gender\": x[\"gender\"], \"age\": x[\"age\"]}, data))\n",
        "#혹시 key와 value를 이쁘게? 검색하고 그걸 통째로 추출하나 싶었지만 그런게 아니었다.\n",
        "#\"gender\"와 \"age\"는 그냥 str로 직접 입력한 방식\n"
      ],
      "metadata": {
        "id": "0EK5bv21ldst",
        "colab": {
          "base_uri": "https://localhost:8080/"
        },
        "outputId": "bde8140c-b7f6-4e19-e4eb-f479bfc4b3ab"
      },
      "execution_count": null,
      "outputs": [
        {
          "output_type": "execute_result",
          "data": {
            "text/plain": [
              "[{'gender': '여성', 'age': '43'},\n",
              " {'gender': '남성', 'age': '22'},\n",
              " {'gender': '남성', 'age': '31'}]"
            ]
          },
          "metadata": {},
          "execution_count": 96
        }
      ]
    },
    {
      "cell_type": "code",
      "source": [
        "'''\n",
        " [\n",
        "  {\n",
        "    \"gender\": \"여성\",\n",
        "    \"age\": \"43\"\n",
        "  },\n",
        "  {\n",
        "    \"gender\": \"남성\",\n",
        "    \"age\": \"22\"\n",
        "  },\n",
        "  {\n",
        "    \"gender\": \"남성\",\n",
        "    \"age\": \"31\"\n",
        "  }\n",
        "]\n",
        "'''\n"
      ],
      "metadata": {
        "id": "96nILFzguI8T"
      },
      "execution_count": null,
      "outputs": []
    },
    {
      "cell_type": "code",
      "source": [
        "\n",
        "\n",
        "# 문제 2 User라는 class를 만들어 해당 데이터를 관리해주세요. 아래처럼 저장되어야 합니다.\n",
        "# 다만 꼭 변수 이름이 user_1...user_n 일 필요는 없습니다.\n",
        "# 저장양식: '[user_1, user_2, user_3]'\n",
        "\n",
        "# 문제 3 BankAccount 클래스를 생성하세요. 이 클래스는 owner(계좌주 이름), balance(잔액) 속성을 가져야 합니다.\n",
        "# 이 클래스는 deposit(amount) (입금) 및 withdraw(amount) (출금) 메서드를 가져야 합니다.\n",
        "# 단, 출금 시 잔액보다 큰 금액을 출금하려고 하면 \"잔액 부족\" 메시지를 출력해야 합니다.\n",
        "\n"
      ],
      "metadata": {
        "id": "BVgwrVQC0ZtV"
      },
      "execution_count": null,
      "outputs": []
    },
    {
      "cell_type": "code",
      "source": [
        "# Q1\n",
        "list(map(lambda x: {\"gender\": x[\"gender\"], \"age\": x[\"age\"]}, data))\n",
        "\n"
      ],
      "metadata": {
        "id": "Q1VWpidc4hJp",
        "colab": {
          "base_uri": "https://localhost:8080/"
        },
        "outputId": "2ec29700-a3ce-45b6-d556-8727601195a0"
      },
      "execution_count": null,
      "outputs": [
        {
          "output_type": "execute_result",
          "data": {
            "text/plain": [
              "[{'gender': '여성', 'age': '43'},\n",
              " {'gender': '남성', 'age': '22'},\n",
              " {'gender': '남성', 'age': '31'}]"
            ]
          },
          "metadata": {},
          "execution_count": 98
        }
      ]
    },
    {
      "cell_type": "code",
      "source": [
        "# Q2\n",
        "class User:\n",
        "    def __init__(self, data):\n",
        "        self._id = data['_id']\n",
        "        self.index = data['index']\n",
        "        self.name = data['name']\n",
        "        self.gender = data['gender']\n",
        "        self.age = data['age']\n",
        "\n",
        "user_1 = User(data[0])\n",
        "user_2 = User(data[1])\n",
        "user_3 = User(data[2])\n",
        "\n",
        "user_list = [user_1, user_2, user_3]\n",
        "user_list[0].name\n",
        "for i in user_list:\n",
        "    print(i.name)\n"
      ],
      "metadata": {
        "colab": {
          "base_uri": "https://localhost:8080/"
        },
        "id": "jjmGnR9h6Drc",
        "outputId": "d341c8ed-a04e-41db-deb9-45ad8f521bf4"
      },
      "execution_count": null,
      "outputs": [
        {
          "output_type": "stream",
          "name": "stdout",
          "text": [
            "나주헌\n",
            "엄루다\n",
            "형유환\n"
          ]
        }
      ]
    },
    {
      "cell_type": "code",
      "source": [
        "# Q3\n",
        "\n",
        "class BankAccount:\n",
        "    def __init__(self, owner, balance=0):\n",
        "        self.owner = owner\n",
        "        self.balance = balance\n",
        "\n",
        "    def deposit(self, amount):\n",
        "        self.balance += amount\n",
        "        return self.balance\n",
        "\n",
        "    def withdraw(self, amount):\n",
        "        if amount > self.balance:\n",
        "            print(\"잔액 부족\")\n",
        "        else:\n",
        "            self.balance -= amount\n",
        "            return self.balance"
      ],
      "metadata": {
        "id": "WK12aXJL6NO7"
      },
      "execution_count": null,
      "outputs": []
    }
  ]
}