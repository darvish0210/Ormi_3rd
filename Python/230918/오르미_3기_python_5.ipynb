{
  "cells": [
    {
      "cell_type": "markdown",
      "metadata": {
        "id": "jF1BaqTDggVD"
      },
      "source": [
        "# 클래스 변수와 인스턴스 변수"
      ]
    },
    {
      "cell_type": "code",
      "execution_count": null,
      "metadata": {
        "colab": {
          "base_uri": "https://localhost:8080/"
        },
        "id": "lZjpOk_mgQIW",
        "outputId": "a7b1e818-1898-44aa-c5b9-0f006b696bb1"
      },
      "outputs": [
        {
          "name": "stdout",
          "output_type": "stream",
          "text": [
            "300\n",
            "300\n",
            "500\n"
          ]
        }
      ],
      "source": [
        "class Car:\n",
        "    # 클래스 변수의 위치\n",
        "    max_speed = 300\n",
        "    max_people = 5\n",
        "    car_gear = ['P', 'D', 'R', 'N']\n",
        "\n",
        "modelx = Car()\n",
        "modely = Car()\n",
        "\n",
        "modely.max_speed = 500\n",
        "\n",
        "print(Car.max_speed) # 출력: 300\n",
        "print(modelx.max_speed) # 출력: 300\n",
        "print(modely.max_speed) # 출력: 500(인스턴스 변수를 출력한 것입니다.)"
      ]
    },
    {
      "cell_type": "code",
      "execution_count": null,
      "metadata": {
        "colab": {
          "base_uri": "https://localhost:8080/"
        },
        "id": "mSRYmw4Cg0sS",
        "outputId": "7bd151f4-d833-455f-b8c2-816770f443b9"
      },
      "outputs": [
        {
          "name": "stdout",
          "output_type": "stream",
          "text": [
            "139932765819248\n",
            "139932765819248\n",
            "139932765819280\n"
          ]
        }
      ],
      "source": [
        "class Car:\n",
        "    # 클래스 변수의 위치\n",
        "    max_speed = 1000\n",
        "    max_people = 5\n",
        "    car_gear = ['P', 'D', 'R', 'N']\n",
        "\n",
        "modelx = Car()\n",
        "modely = Car()\n",
        "\n",
        "modely.max_speed = 1000\n",
        "\n",
        "print(id(Car.max_speed)) # 출력: 139932765819248\n",
        "print(id(modelx.max_speed)) # 출력: 139932765819248\n",
        "print(id(modely.max_speed)) # 출력: 139932765819280"
      ]
    },
    {
      "cell_type": "code",
      "execution_count": 1,
      "metadata": {
        "colab": {
          "base_uri": "https://localhost:8080/"
        },
        "id": "32NXM9YxhYj5",
        "outputId": "7a0a0f50-44fd-45e1-a047-de483fea1a6e"
      },
      "outputs": [
        {
          "name": "stdout",
          "output_type": "stream",
          "text": [
            "modelx.kinds: ['x', 'y']\n",
            "modely.kinds: ['x', 'y']\n",
            "modelx.speed: 100\n",
            "modely.speed: 100\n"
          ]
        }
      ],
      "source": [
        "class Car:\n",
        "    kinds = []\n",
        "    speed = 300\n",
        "\n",
        "    def add_kinds(self, name):\n",
        "        self.kinds.append(name)\n",
        "\n",
        "    def change_speed(self, speed):\n",
        "        self.speed = speed\n",
        "\n",
        "modelx = Car()\n",
        "modely = Car()\n",
        "\n",
        "modelx.add_kinds('x')\n",
        "modely.add_kinds('y')\n",
        "\n",
        "Car.speed = 100\n",
        "\n",
        "# modelx.change_speed(500)\n",
        "# modely.change_speed(250)\n",
        "\n",
        "print(f'modelx.kinds: {modelx.kinds}') # ['x', 'y']일까요? ['x']일까요?\n",
        "print(f'modely.kinds: {modely.kinds}') # ['x', 'y']일까요? ['y']일까요?\n",
        "print(f'modelx.speed: {modelx.speed}') # 300일까요? 100일까요?\n",
        "print(f'modely.speed: {modely.speed}') # 300일까요? 100일까요?"
      ]
    },
    {
      "cell_type": "code",
      "execution_count": 2,
      "metadata": {
        "id": "IrdDRNvwjsO2"
      },
      "outputs": [
        {
          "name": "stdout",
          "output_type": "stream",
          "text": [
            "modelx.speed: 500\n",
            "modely.speed: 250\n"
          ]
        }
      ],
      "source": [
        "# 일부러 혼란을 드리려고 어렵게 낸 문제입니다.\n",
        "# 이런 문제는 실무에서 거의 발생하지 않습니다.\n",
        "class Car:\n",
        "    kinds = []\n",
        "    speed = 300\n",
        "\n",
        "    def add_kinds(self, name):\n",
        "        self.kinds.append(name)\n",
        "\n",
        "    def change_speed(self, speed):\n",
        "        self.speed = speed\n",
        "\n",
        "modelx = Car()\n",
        "modely = Car()\n",
        "\n",
        "# Car.speed = 100\n",
        "\n",
        "modelx.change_speed(500)\n",
        "modely.change_speed(250)\n",
        "\n",
        "print(f'modelx.speed: {modelx.speed}')\n",
        "print(f'modely.speed: {modely.speed}')"
      ]
    },
    {
      "cell_type": "code",
      "execution_count": null,
      "metadata": {
        "colab": {
          "base_uri": "https://localhost:8080/"
        },
        "id": "7FxHeUapkiR3",
        "outputId": "c3d3f73c-f90b-486e-82af-baf0d6b6dfd6"
      },
      "outputs": [
        {
          "name": "stdout",
          "output_type": "stream",
          "text": [
            "100\n"
          ]
        }
      ],
      "source": [
        "x = 100\n",
        "def test():\n",
        "    print(x) # 내 메모리 영역에 x가 없네? 그러면 찾아 올라갑니다.\n",
        "\n",
        "test()"
      ]
    },
    {
      "cell_type": "code",
      "execution_count": null,
      "metadata": {
        "colab": {
          "base_uri": "https://localhost:8080/"
        },
        "id": "aF8-zIcFkzPq",
        "outputId": "c7576ce8-acd2-4d4e-c674-a77910ecb43a"
      },
      "outputs": [
        {
          "data": {
            "text/plain": [
              "100"
            ]
          },
          "execution_count": 7,
          "metadata": {},
          "output_type": "execute_result"
        }
      ],
      "source": [
        "x = 100\n",
        "def test():\n",
        "    x = 200 # 값을 읽어올 수 있지만 변경은 안됩니다!\n",
        "    # x는 전역변수는 건드리지 않고 지역변수 200을 선언했을 뿐입니다.\n",
        "\n",
        "test()\n",
        "x"
      ]
    },
    {
      "cell_type": "code",
      "execution_count": null,
      "metadata": {
        "colab": {
          "base_uri": "https://localhost:8080/"
        },
        "id": "dlglNIRDlM9b",
        "outputId": "d9273521-84dc-4b45-b2c7-548d74efa500"
      },
      "outputs": [
        {
          "data": {
            "text/plain": [
              "200"
            ]
          },
          "execution_count": 8,
          "metadata": {},
          "output_type": "execute_result"
        }
      ],
      "source": [
        "x = 100\n",
        "def test():\n",
        "    global x\n",
        "    x = 200 # 전역변수 x를 수정할 수 있게 됩니다!\n",
        "\n",
        "test()\n",
        "x"
      ]
    },
    {
      "cell_type": "code",
      "execution_count": 3,
      "metadata": {
        "id": "NSLf8Ky7lU8_"
      },
      "outputs": [
        {
          "ename": "UnboundLocalError",
          "evalue": "cannot access local variable 'x' where it is not associated with a value",
          "output_type": "error",
          "traceback": [
            "\u001b[1;31m---------------------------------------------------------------------------\u001b[0m",
            "\u001b[1;31mUnboundLocalError\u001b[0m                         Traceback (most recent call last)",
            "\u001b[1;32mc:\\Users\\ksmon\\Documents\\_Codes\\Python\\230918\\오르미_3기_python_5.ipynb 셀 9\u001b[0m line \u001b[0;36m5\n\u001b[0;32m      <a href='vscode-notebook-cell:/c%3A/Users/ksmon/Documents/_Codes/Python/230918/%EC%98%A4%EB%A5%B4%EB%AF%B8_3%EA%B8%B0_python_5.ipynb#X11sZmlsZQ%3D%3D?line=1'>2</a>\u001b[0m \u001b[39mdef\u001b[39;00m \u001b[39mtest\u001b[39m():\n\u001b[0;32m      <a href='vscode-notebook-cell:/c%3A/Users/ksmon/Documents/_Codes/Python/230918/%EC%98%A4%EB%A5%B4%EB%AF%B8_3%EA%B8%B0_python_5.ipynb#X11sZmlsZQ%3D%3D?line=2'>3</a>\u001b[0m     x \u001b[39m+\u001b[39m\u001b[39m=\u001b[39m \u001b[39m100\u001b[39m \u001b[39m# x = x + 100\u001b[39;00m\n\u001b[1;32m----> <a href='vscode-notebook-cell:/c%3A/Users/ksmon/Documents/_Codes/Python/230918/%EC%98%A4%EB%A5%B4%EB%AF%B8_3%EA%B8%B0_python_5.ipynb#X11sZmlsZQ%3D%3D?line=4'>5</a>\u001b[0m test()\n",
            "\u001b[1;32mc:\\Users\\ksmon\\Documents\\_Codes\\Python\\230918\\오르미_3기_python_5.ipynb 셀 9\u001b[0m line \u001b[0;36m3\n\u001b[0;32m      <a href='vscode-notebook-cell:/c%3A/Users/ksmon/Documents/_Codes/Python/230918/%EC%98%A4%EB%A5%B4%EB%AF%B8_3%EA%B8%B0_python_5.ipynb#X11sZmlsZQ%3D%3D?line=1'>2</a>\u001b[0m \u001b[39mdef\u001b[39;00m \u001b[39mtest\u001b[39m():\n\u001b[1;32m----> <a href='vscode-notebook-cell:/c%3A/Users/ksmon/Documents/_Codes/Python/230918/%EC%98%A4%EB%A5%B4%EB%AF%B8_3%EA%B8%B0_python_5.ipynb#X11sZmlsZQ%3D%3D?line=2'>3</a>\u001b[0m     x \u001b[39m+\u001b[39m\u001b[39m=\u001b[39m \u001b[39m100\u001b[39m\n",
            "\u001b[1;31mUnboundLocalError\u001b[0m: cannot access local variable 'x' where it is not associated with a value"
          ]
        }
      ],
      "source": [
        "x = 100\n",
        "def test():\n",
        "    x += 100 # x = x + 100\n",
        "\n",
        "test() # Error, x에 접근 불가"
      ]
    },
    {
      "cell_type": "code",
      "execution_count": null,
      "metadata": {
        "colab": {
          "base_uri": "https://localhost:8080/"
        },
        "id": "oc-dla29mSY9",
        "outputId": "77c0c29c-ba75-40ac-ec47-13ba34789c36"
      },
      "outputs": [
        {
          "data": {
            "text/plain": [
              "200"
            ]
          },
          "execution_count": 11,
          "metadata": {},
          "output_type": "execute_result"
        }
      ],
      "source": [
        "x = 100\n",
        "def test():\n",
        "    global x\n",
        "    x += 100\n",
        "\n",
        "test()\n",
        "x"
      ]
    },
    {
      "cell_type": "code",
      "execution_count": 4,
      "metadata": {
        "id": "koBU4FgXmYt4"
      },
      "outputs": [
        {
          "data": {
            "text/plain": [
              "[100]"
            ]
          },
          "execution_count": 4,
          "metadata": {},
          "output_type": "execute_result"
        }
      ],
      "source": [
        "x = []\n",
        "def test():\n",
        "    x.append(100)\n",
        "\n",
        "test()\n",
        "x"
      ]
    },
    {
      "cell_type": "code",
      "execution_count": 5,
      "metadata": {
        "colab": {
          "base_uri": "https://localhost:8080/"
        },
        "id": "31cqCztum7yk",
        "outputId": "3cb97d2b-5b4a-4d46-8dae-c6109074b9b3"
      },
      "outputs": [
        {
          "data": {
            "text/plain": [
              "[10, 20, 30, 40]"
            ]
          },
          "execution_count": 5,
          "metadata": {},
          "output_type": "execute_result"
        }
      ],
      "source": [
        "# 매우 중요합니다.\n",
        "l = [10, 20, 30]\n",
        "def test(ll):\n",
        "    ll.append(40)\n",
        "\n",
        "test(l)\n",
        "l"
      ]
    },
    {
      "cell_type": "code",
      "execution_count": null,
      "metadata": {
        "colab": {
          "base_uri": "https://localhost:8080/"
        },
        "id": "CTYn0t9dqbG6",
        "outputId": "fe923629-ed5f-40d9-efbe-f3ca38022eb8"
      },
      "outputs": [
        {
          "data": {
            "text/plain": [
              "100"
            ]
          },
          "execution_count": 13,
          "metadata": {},
          "output_type": "execute_result"
        }
      ],
      "source": [
        "# 매우 중요합니다.\n",
        "# 화살표 그릴 수 있어야 합니다.\n",
        "i = 100\n",
        "def test(ii):\n",
        "    ii = 300\n",
        "\n",
        "test(i)\n",
        "i"
      ]
    },
    {
      "cell_type": "code",
      "execution_count": null,
      "metadata": {
        "colab": {
          "base_uri": "https://localhost:8080/"
        },
        "id": "E_slY9nIrgYo",
        "outputId": "a658b506-fe03-4ea4-c187-637bd769f1c9"
      },
      "outputs": [
        {
          "data": {
            "text/plain": [
              "[10, 20, 30]"
            ]
          },
          "execution_count": 14,
          "metadata": {},
          "output_type": "execute_result"
        }
      ],
      "source": [
        "# 매우 중요합니다.\n",
        "l = [10, 20, 30]\n",
        "def test(ll):\n",
        "    ll = 100\n",
        "\n",
        "test(l)\n",
        "l"
      ]
    },
    {
      "cell_type": "code",
      "execution_count": null,
      "metadata": {
        "colab": {
          "base_uri": "https://localhost:8080/"
        },
        "id": "mt_IWuQqkWle",
        "outputId": "99159b4c-bd57-4088-9e72-ecd674deb92c"
      },
      "outputs": [
        {
          "data": {
            "text/plain": [
              "[100]"
            ]
          },
          "execution_count": 4,
          "metadata": {},
          "output_type": "execute_result"
        }
      ],
      "source": [
        "kinds = [] # 전역변수 speed 300\n",
        "\n",
        "def add_kinds(value):\n",
        "    kinds.append(value) # 지역에 해당 변수가 없으므로 전역변수 kinds에 append\n",
        "\n",
        "add_kinds(100)\n",
        "kinds"
      ]
    },
    {
      "cell_type": "code",
      "execution_count": null,
      "metadata": {
        "colab": {
          "base_uri": "https://localhost:8080/"
        },
        "id": "GZKt0t-bkYSa",
        "outputId": "d0652239-9b90-404a-a15a-600052597ca0"
      },
      "outputs": [
        {
          "data": {
            "text/plain": [
              "[]"
            ]
          },
          "execution_count": 5,
          "metadata": {},
          "output_type": "execute_result"
        }
      ],
      "source": [
        "kinds = [] # 전역변수 speed 300\n",
        "\n",
        "def add_kinds(value):\n",
        "    kinds = []\n",
        "    kinds.append(value) # 지역에 해당 변수가 없으므로 전역변수 kinds에 append\n",
        "\n",
        "add_kinds(100)\n",
        "kinds"
      ]
    },
    {
      "cell_type": "code",
      "execution_count": null,
      "metadata": {
        "colab": {
          "base_uri": "https://localhost:8080/"
        },
        "id": "BBDyFttFsmX_",
        "outputId": "977840cf-e146-4a24-886b-4b95f4bb8c97"
      },
      "outputs": [
        {
          "name": "stdout",
          "output_type": "stream",
          "text": [
            "<class 'function'>\n"
          ]
        }
      ],
      "source": [
        "def hello():\n",
        "    print('hello world')\n",
        "\n",
        "print(type(hello)) # 출력: <class 'function'>"
      ]
    },
    {
      "cell_type": "code",
      "execution_count": null,
      "metadata": {
        "id": "mhIU1EGvvqgD"
      },
      "outputs": [],
      "source": [
        "class Point:\n",
        "\n",
        "    def __init__(self, x, y):\n",
        "        self.x = x\n",
        "        self.y = y\n",
        "\n",
        "    def __add__(self, other):\n",
        "        if isinstance(other, Point):\n",
        "            return Point((self.x + other.x), (self.y + other.y))\n",
        "        elif isinstance(other, int) or isinstance(other, float):\n",
        "            return Point((self.x + other), (self.y + other))\n",
        "\n",
        "    def distance(self, other):\n",
        "        dx = self.x - other.x\n",
        "        dy = self.y - other.y\n",
        "        return (dx**2 + dy**2)**0.5\n",
        "\n",
        "dot1 = Point(10, 20)\n",
        "dot2 = Point(20, 30)\n",
        "\n",
        "dot3 = dot1 + 10\n",
        "print(dot1.x, dot1.y) # 출력: 10 20\n",
        "print(dot3.x, dot3.y) # 출력: 20 30\n",
        "\n",
        "dot4 = dot1 + dot2\n",
        "print(dot4.x, dot4.y) # 출력: 30 50\n",
        "print(dot4.distance(dot1)) # 출력: 36.05551275463989"
      ]
    },
    {
      "cell_type": "code",
      "execution_count": null,
      "metadata": {
        "colab": {
          "base_uri": "https://localhost:8080/"
        },
        "id": "R_YMxlH3xIpl",
        "outputId": "31033a6f-a306-428b-f82c-6749f2fb6321"
      },
      "outputs": [
        {
          "name": "stdout",
          "output_type": "stream",
          "text": [
            "hello\n"
          ]
        },
        {
          "data": {
            "text/plain": [
              "world"
            ]
          },
          "execution_count": 23,
          "metadata": {},
          "output_type": "execute_result"
        }
      ],
      "source": [
        "class Counter:\n",
        "\n",
        "    def __init__(self):\n",
        "        self.num = 0\n",
        "\n",
        "    def __len__(self):\n",
        "        return 100\n",
        "\n",
        "    def __call__(self):\n",
        "        return 'hello'\n",
        "\n",
        "    def __getitem__(self, key):\n",
        "        return key*10\n",
        "\n",
        "    def __str__(self):\n",
        "        return 'hello'\n",
        "\n",
        "    def __repr__(self):\n",
        "        return 'world'\n",
        "\n",
        "c = Counter()\n",
        "len(c)\n",
        "c()\n",
        "c[10]\n",
        "print(c) # print(str(c)) # __str__\n",
        "c # __repr__"
      ]
    },
    {
      "cell_type": "markdown",
      "metadata": {
        "id": "uk3hgKh76NTX"
      },
      "source": [
        "# 상속"
      ]
    },
    {
      "cell_type": "code",
      "execution_count": null,
      "metadata": {
        "colab": {
          "base_uri": "https://localhost:8080/",
          "height": 35
        },
        "id": "xg1iLKpPzD8x",
        "outputId": "73e72303-62a8-4271-82fa-0bf1f48faaa3"
      },
      "outputs": [
        {
          "data": {
            "application/vnd.google.colaboratory.intrinsic+json": {
              "type": "string"
            },
            "text/plain": [
              "'world'"
            ]
          },
          "execution_count": 25,
          "metadata": {},
          "output_type": "execute_result"
        }
      ],
      "source": [
        "class A:\n",
        "    def hello(self):\n",
        "        return 'hello'\n",
        "\n",
        "class B(A):\n",
        "    def world(self):\n",
        "        return 'world'\n",
        "\n",
        "b = B()\n",
        "b.hello()\n",
        "b.world()"
      ]
    },
    {
      "cell_type": "code",
      "execution_count": null,
      "metadata": {
        "colab": {
          "base_uri": "https://localhost:8080/",
          "height": 53
        },
        "id": "CfpSDYvtz-lt",
        "outputId": "b1371293-011b-4af5-e943-69b3eed690ed"
      },
      "outputs": [
        {
          "name": "stdout",
          "output_type": "stream",
          "text": [
            "10 20\n"
          ]
        },
        {
          "data": {
            "application/vnd.google.colaboratory.intrinsic+json": {
              "type": "string"
            },
            "text/plain": [
              "'world'"
            ]
          },
          "execution_count": 28,
          "metadata": {},
          "output_type": "execute_result"
        }
      ],
      "source": [
        "class A:\n",
        "    def hello(self):\n",
        "        return 'hello'\n",
        "\n",
        "class B(A):\n",
        "    def __init__(self, a):\n",
        "        print(a, b)\n",
        "\n",
        "    def world(self):\n",
        "        return 'world'\n",
        "\n",
        "b = B(10) # A에서 처리하는 것 아니고 a에서 처리합니다.\n",
        "b.hello()\n",
        "b.world()"
      ]
    },
    {
      "cell_type": "code",
      "execution_count": null,
      "metadata": {
        "colab": {
          "base_uri": "https://localhost:8080/"
        },
        "id": "Y-bE67k10bVQ",
        "outputId": "c36daf3a-7782-490b-a05a-4000e008e06a"
      },
      "outputs": [
        {
          "name": "stdout",
          "output_type": "stream",
          "text": [
            "10 <__main__.B object at 0x7f44707b0d60>\n"
          ]
        },
        {
          "data": {
            "text/plain": [
              "['__class__',\n",
              " '__delattr__',\n",
              " '__dict__',\n",
              " '__dir__',\n",
              " '__doc__',\n",
              " '__eq__',\n",
              " '__format__',\n",
              " '__ge__',\n",
              " '__getattribute__',\n",
              " '__gt__',\n",
              " '__hash__',\n",
              " '__init__',\n",
              " '__init_subclass__',\n",
              " '__le__',\n",
              " '__lt__',\n",
              " '__module__',\n",
              " '__ne__',\n",
              " '__new__',\n",
              " '__reduce__',\n",
              " '__reduce_ex__',\n",
              " '__repr__',\n",
              " '__setattr__',\n",
              " '__sizeof__',\n",
              " '__str__',\n",
              " '__subclasshook__',\n",
              " '__weakref__',\n",
              " 'hello',\n",
              " 'world']"
            ]
          },
          "execution_count": 29,
          "metadata": {},
          "output_type": "execute_result"
        }
      ],
      "source": [
        "class A(object):\n",
        "    def hello(self):\n",
        "        return 'hello'\n",
        "\n",
        "class B(A):\n",
        "    def __init__(self, a):\n",
        "        print(a, b)\n",
        "\n",
        "    def world(self):\n",
        "        return 'world'\n",
        "\n",
        "b = B(10) # A에서 처리하는 것 아니고 a에서 처리합니다.\n",
        "b.hello()\n",
        "b.world()\n",
        "dir(b)"
      ]
    },
    {
      "cell_type": "code",
      "execution_count": null,
      "metadata": {
        "colab": {
          "base_uri": "https://localhost:8080/",
          "height": 53
        },
        "id": "kFVMXuY606H5",
        "outputId": "c3d7849d-8cdd-4f75-b449-80c11195aaed"
      },
      "outputs": [
        {
          "name": "stdout",
          "output_type": "stream",
          "text": [
            "10 <__main__.B object at 0x7f44707b1f30>\n"
          ]
        },
        {
          "data": {
            "application/vnd.google.colaboratory.intrinsic+json": {
              "type": "string"
            },
            "text/plain": [
              "'hello world'"
            ]
          },
          "execution_count": 30,
          "metadata": {},
          "output_type": "execute_result"
        }
      ],
      "source": [
        "class A(object):\n",
        "    def hello(self):\n",
        "        return 'hello'\n",
        "\n",
        "class B(A):\n",
        "    def __init__(self, a):\n",
        "        print(a, b)\n",
        "\n",
        "    def hello(self):\n",
        "        return 'hello world'\n",
        "\n",
        "b = B(10)\n",
        "b.hello() # B에 hello가 A에 hello를 덮습니다."
      ]
    },
    {
      "cell_type": "code",
      "execution_count": null,
      "metadata": {
        "colab": {
          "base_uri": "https://localhost:8080/",
          "height": 35
        },
        "id": "BLbwBSOF1oE1",
        "outputId": "76d4b6b6-bed7-43d1-cf79-0dfcb19effe4"
      },
      "outputs": [
        {
          "data": {
            "application/vnd.google.colaboratory.intrinsic+json": {
              "type": "string"
            },
            "text/plain": [
              "'three'"
            ]
          },
          "execution_count": 32,
          "metadata": {},
          "output_type": "execute_result"
        }
      ],
      "source": [
        "class A(object):\n",
        "    def one(self):\n",
        "        return 'one'\n",
        "\n",
        "class B(A):\n",
        "    def two(self):\n",
        "        return 'two'\n",
        "\n",
        "class C(B):\n",
        "    def three(self):\n",
        "        return 'three'\n",
        "\n",
        "c = C()\n",
        "c.one()\n",
        "c.two()\n",
        "c.three()"
      ]
    },
    {
      "cell_type": "code",
      "execution_count": null,
      "metadata": {
        "colab": {
          "base_uri": "https://localhost:8080/"
        },
        "id": "BsyCoDPD4j9e",
        "outputId": "ca7bca14-fb0b-4a83-8227-d0c7fdfefed5"
      },
      "outputs": [
        {
          "data": {
            "text/plain": [
              "300"
            ]
          },
          "execution_count": 33,
          "metadata": {},
          "output_type": "execute_result"
        }
      ],
      "source": [
        "class A(object):\n",
        "    test = 0\n",
        "    def one(self):\n",
        "        return 'one'\n",
        "\n",
        "class B(A):\n",
        "    def two(self):\n",
        "        return 'two'\n",
        "\n",
        "class C(B):\n",
        "    def three(self):\n",
        "        return 'three'\n",
        "\n",
        "c = C()\n",
        "A.test = 300\n",
        "c.test # 상속을 받을 때 내 메모리 영역의 값(보유하고 있는 값)은 아닙니다! 참조 값입니다."
      ]
    },
    {
      "cell_type": "markdown",
      "metadata": {
        "id": "CF5BCpgS6JAN"
      },
      "source": [
        "# 다중상속"
      ]
    },
    {
      "cell_type": "code",
      "execution_count": null,
      "metadata": {
        "colab": {
          "base_uri": "https://localhost:8080/"
        },
        "id": "n_mUMQZ259bl",
        "outputId": "b7b47f21-fded-48c4-fa9f-8ae343b2c7eb"
      },
      "outputs": [
        {
          "name": "stdout",
          "output_type": "stream",
          "text": [
            "hello A\n"
          ]
        }
      ],
      "source": [
        "class A:\n",
        "    def hello(self):\n",
        "        print('hello A')\n",
        "\n",
        "class B:\n",
        "    def hello(self):\n",
        "        print('hello B')\n",
        "\n",
        "class C(A, B):\n",
        "    pass\n",
        "\n",
        "c = C()\n",
        "c.hello() # 주의! python의 코드의 특성상 hello B라고 오해할만합니다. 2.x와 3.x가 상속에 순서가 다릅니다."
      ]
    },
    {
      "cell_type": "code",
      "execution_count": null,
      "metadata": {
        "colab": {
          "base_uri": "https://localhost:8080/"
        },
        "id": "mJ24temrP-zx",
        "outputId": "c7ccdc8b-9835-4440-ebdc-e536bb988781"
      },
      "outputs": [
        {
          "name": "stdout",
          "output_type": "stream",
          "text": [
            "hello C\n"
          ]
        }
      ],
      "source": [
        "# 주의! python의 2.x와 3.x가 아래 다이아몬드 상속에 순서가 다릅니다.\n",
        "# 3.x에서는 hello C가, 2.x에서는 hello A가 출력됩니다.\n",
        "# 다만 2.x에서 A => class A(object)로 바꾸면 실행 순서는 같아집니다.\n",
        "class A:\n",
        "    def hello(self):\n",
        "        print('hello A')\n",
        "\n",
        "class B(A):\n",
        "    pass\n",
        "\n",
        "class C(A):\n",
        "    def hello(self):\n",
        "        print('hello C')\n",
        "\n",
        "class D(B, C):\n",
        "    pass\n",
        "\n",
        "d = D()\n",
        "d.hello()"
      ]
    },
    {
      "cell_type": "code",
      "execution_count": null,
      "metadata": {
        "colab": {
          "base_uri": "https://localhost:8080/"
        },
        "id": "nWgUZNgl8jux",
        "outputId": "b8b9d9ff-3098-4784-d506-aace6ab0aea4"
      },
      "outputs": [
        {
          "name": "stdout",
          "output_type": "stream",
          "text": [
            "hello C\n"
          ]
        }
      ],
      "source": [
        "# 다중 상속을 했을 때 상속에서 error가 나는 경우 - 정상실행\n",
        "class A:\n",
        "    def hello(self):\n",
        "        print('hello A')\n",
        "\n",
        "class B(A):\n",
        "    def hello(self):\n",
        "        print('hello B')\n",
        "\n",
        "class C(B):\n",
        "    def hello(self):\n",
        "        print('hello C')\n",
        "\n",
        "class D(C, B):\n",
        "    pass\n",
        "\n",
        "d = D()\n",
        "d.hello()"
      ]
    },
    {
      "cell_type": "code",
      "execution_count": null,
      "metadata": {
        "colab": {
          "base_uri": "https://localhost:8080/",
          "height": 270
        },
        "id": "oGfF8_9G8xe1",
        "outputId": "e02a1028-5ee1-400c-e39a-d8e99b169dfe"
      },
      "outputs": [
        {
          "ename": "TypeError",
          "evalue": "ignored",
          "output_type": "error",
          "traceback": [
            "\u001b[0;31m---------------------------------------------------------------------------\u001b[0m",
            "\u001b[0;31mTypeError\u001b[0m                                 Traceback (most recent call last)",
            "\u001b[0;32m<ipython-input-39-718e32a4f214>\u001b[0m in \u001b[0;36m<cell line: 13>\u001b[0;34m()\u001b[0m\n\u001b[1;32m     11\u001b[0m         \u001b[0mprint\u001b[0m\u001b[0;34m(\u001b[0m\u001b[0;34m'hello C'\u001b[0m\u001b[0;34m)\u001b[0m\u001b[0;34m\u001b[0m\u001b[0;34m\u001b[0m\u001b[0m\n\u001b[1;32m     12\u001b[0m \u001b[0;34m\u001b[0m\u001b[0m\n\u001b[0;32m---> 13\u001b[0;31m \u001b[0;32mclass\u001b[0m \u001b[0mD\u001b[0m\u001b[0;34m(\u001b[0m\u001b[0mB\u001b[0m\u001b[0;34m,\u001b[0m \u001b[0mC\u001b[0m\u001b[0;34m)\u001b[0m\u001b[0;34m:\u001b[0m\u001b[0;34m\u001b[0m\u001b[0;34m\u001b[0m\u001b[0m\n\u001b[0m\u001b[1;32m     14\u001b[0m     \u001b[0;32mpass\u001b[0m\u001b[0;34m\u001b[0m\u001b[0;34m\u001b[0m\u001b[0m\n\u001b[1;32m     15\u001b[0m \u001b[0;34m\u001b[0m\u001b[0m\n",
            "\u001b[0;31mTypeError\u001b[0m: Cannot create a consistent method resolution\norder (MRO) for bases B, C"
          ]
        }
      ],
      "source": [
        "# 다중 상속을 했을 때 상속에서 error가 나는 경우 - error\n",
        "class A:\n",
        "    def hello(self):\n",
        "        print('hello A')\n",
        "\n",
        "class B(A):\n",
        "    def hello(self):\n",
        "        print('hello B')\n",
        "\n",
        "class C(B):\n",
        "    def hello(self):\n",
        "        print('hello C')\n",
        "\n",
        "class D(B, C):\n",
        "    pass\n",
        "\n",
        "d = D()\n",
        "d.hello()"
      ]
    },
    {
      "cell_type": "code",
      "execution_count": null,
      "metadata": {
        "colab": {
          "base_uri": "https://localhost:8080/",
          "height": 270
        },
        "id": "ZJ7iymPjZKKj",
        "outputId": "168d59d0-1e1e-438b-d862-0188c8b121ed"
      },
      "outputs": [
        {
          "ename": "TypeError",
          "evalue": "ignored",
          "output_type": "error",
          "traceback": [
            "\u001b[0;31m---------------------------------------------------------------------------\u001b[0m",
            "\u001b[0;31mTypeError\u001b[0m                                 Traceback (most recent call last)",
            "\u001b[0;32m<ipython-input-50-dcf2ea0558ff>\u001b[0m in \u001b[0;36m<cell line: 10>\u001b[0;34m()\u001b[0m\n\u001b[1;32m      8\u001b[0m     \u001b[0;32mpass\u001b[0m\u001b[0;34m\u001b[0m\u001b[0;34m\u001b[0m\u001b[0m\n\u001b[1;32m      9\u001b[0m \u001b[0;34m\u001b[0m\u001b[0m\n\u001b[0;32m---> 10\u001b[0;31m \u001b[0;32mclass\u001b[0m \u001b[0mHybridElectricCar\u001b[0m\u001b[0;34m(\u001b[0m\u001b[0mHybridCar\u001b[0m\u001b[0;34m,\u001b[0m \u001b[0mElectricCar\u001b[0m\u001b[0;34m)\u001b[0m\u001b[0;34m:\u001b[0m\u001b[0;34m\u001b[0m\u001b[0;34m\u001b[0m\u001b[0m\n\u001b[0m\u001b[1;32m     11\u001b[0m     \u001b[0;32mpass\u001b[0m\u001b[0;34m\u001b[0m\u001b[0;34m\u001b[0m\u001b[0m\n\u001b[1;32m     12\u001b[0m \u001b[0;34m\u001b[0m\u001b[0m\n",
            "\u001b[0;31mTypeError\u001b[0m: Cannot create a consistent method resolution\norder (MRO) for bases HybridCar, ElectricCar"
          ]
        }
      ],
      "source": [
        "class Car(object):\n",
        "    pass\n",
        "\n",
        "class HybridCar(Car):\n",
        "    pass\n",
        "\n",
        "class ElectricCar(HybridCar):\n",
        "    pass\n",
        "\n",
        "class HybridElectricCar(HybridCar, ElectricCar):\n",
        "    pass\n",
        "\n",
        "modelz = HybridElectricCar()"
      ]
    },
    {
      "cell_type": "markdown",
      "metadata": {
        "id": "XuL_61Ol9akc"
      },
      "source": [
        "# 연습문제\n",
        "\n",
        "게임에서 케릭터를 구현할 예정입니다. 아래 클래스를 적절하게 조합하여 hero 인스턴스와 villain 인스턴스를 만들어주세요.\n",
        "* 명시된 class외 다른 클래스를 더 추가할 수 있습니다.\n",
        "* 안에 들어가는 멤버나 메서드는 자유롭게 작성할 수 있습니다.\n",
        "\n",
        "1. class Body(능력치)\n",
        "2. class Weapon(무기)\n",
        "3. class WeaponEnhancement(무기강화)\n",
        "4. class Skill(기술)\n",
        "5. class Equipment(장비)\n",
        "6. class Role(히어로인지, 빌런인지, 몹인지)\n"
      ]
    },
    {
      "cell_type": "code",
      "execution_count": null,
      "metadata": {
        "colab": {
          "base_uri": "https://localhost:8080/"
        },
        "id": "JYu6tACBDGaR",
        "outputId": "b342886e-8626-4d4e-e543-24a6c90fb64d"
      },
      "outputs": [
        {
          "data": {
            "text/plain": [
              "25000"
            ]
          },
          "execution_count": 46,
          "metadata": {},
          "output_type": "execute_result"
        }
      ],
      "source": [
        "class Weapon:\n",
        "    def setDamage(self, damage):\n",
        "        self.damage = damage\n",
        "\n",
        "\n",
        "class WeaponEnhancement(Weapon):\n",
        "    def setEnhance(self, success):\n",
        "        if success == True:\n",
        "            self.damage *= 5\n",
        "        else:\n",
        "            self.damage = 0\n",
        "\n",
        "\n",
        "class Equipment(WeaponEnhancement):\n",
        "    pass\n",
        "\n",
        "\n",
        "class Role:\n",
        "    def setRole(self, role):\n",
        "        self.role = role\n",
        "\n",
        "\n",
        "class Skill:\n",
        "    def jarvis(self):\n",
        "        return '자비스! 도와줘!'\n",
        "\n",
        "    def beam(self):\n",
        "        return '나가라 빔!'\n",
        "\n",
        "\n",
        "class Body(Role, Skill, Equipment):\n",
        "    def __init__(self, role, hp, mp, power):\n",
        "        self.setRole(role)\n",
        "\n",
        "ironman = Body('hero', 100, 100, 100)\n",
        "thanos = Body('villain', 100, 100, 80)\n",
        "ironman.role\n",
        "ironman.jarvis()\n",
        "ironman.setDamage(1000)\n",
        "ironman.damage\n",
        "ironman.setEnhance(True)\n",
        "ironman.setEnhance(True)\n",
        "ironman.damage"
      ]
    },
    {
      "cell_type": "markdown",
      "metadata": {
        "id": "pdNBSKzZKIgl"
      },
      "source": [
        "```\n",
        "문제 1:\n",
        "동물 클래스 Animal을 만들고 어주세요. Dog와 Cat 클래스를 각각 정의하십시오.\n",
        "\n",
        "Animal 클래스는 name 속성을 가집니다. 이 클래스는 make_sound 메서드를 갖고 있습니다.\n",
        "\n",
        "Dog와 Cat 클래스는 Animal 클래스를 상속받는 클래스입니다.Dog 클래스의 make_sound 메서드는 \"멍멍!\"을, Cat 클래스의 make_sound 메서드는 \"야옹!\"을 출력하도록 재정의하세요.\n",
        "\n",
        "* 더 완성도 높은 클래스를 만들어보세요. 추가 속성이나 메서드 작성 가능합니다.\n",
        "\n",
        "문제 2:\n",
        "Person이라는 기본 클래스를 만들어주세요. Person 클래스는 `이름`과 `나이`라는 두 개의 속성과 `소개하기`라는 메서드를 가지며, 이 메서드는 \"Hello World!, 제 이름은 [이름]이고 제 나이는 [나이]살 입니다.\"라는 메시지를 출력합니다.\n",
        "\n",
        "Person 클래스를 상속받는 Student 클래스를 정의하십시오. Student 클래스는 추가적으로 `학년` 속성을 가집니다. Student 클래스에서 `소개하기` 메서드를 오버라이드하여 \"Hello World!, 제 이름은 [이름]이고 제 나이는 [나이]살 입니다. 그리고 저는 [학년]학년입니다. \"라는 메시지를 출력하도록 만드세요.\n",
        "```"
      ]
    },
    {
      "cell_type": "code",
      "execution_count": null,
      "metadata": {
        "colab": {
          "base_uri": "https://localhost:8080/",
          "height": 35
        },
        "id": "VQPWmt7MAfv4",
        "outputId": "f5601c96-ac8e-4adb-8bf7-0caa720c7de6"
      },
      "outputs": [
        {
          "data": {
            "application/vnd.google.colaboratory.intrinsic+json": {
              "type": "string"
            },
            "text/plain": [
              "'안녕하세요! 제 이름은 jun이고 제 나이는 10입니다. 3학년 입니다.'"
            ]
          },
          "execution_count": 51,
          "metadata": {},
          "output_type": "execute_result"
        }
      ],
      "source": [
        " # 1번\n",
        "class Animal:\n",
        "    def __init__(self, name):\n",
        "        self.name = name\n",
        "\n",
        "    def make_sound(self):\n",
        "        pass\n",
        "\n",
        "\n",
        "class Dog(Animal):\n",
        "    def make_sound(self):\n",
        "        return \"멍멍!\"\n",
        "\n",
        "\n",
        "class Cat(Animal):\n",
        "    def make_sound(self):\n",
        "        return \"야옹!\"\n",
        "\n",
        "# 2번\n",
        "class Person:\n",
        "    def __init__(self, name, age):\n",
        "        self.name = name\n",
        "        self.age = age\n",
        "\n",
        "    def introduce(self):\n",
        "        return f'안녕하세요! 제 이름은 {self.name}이고 제 나이는 {self.age}입니다'\n",
        "\n",
        "\n",
        "class Student(Person):\n",
        "    def __init__(self, name, age, grade):\n",
        "        super().__init__(name, age)\n",
        "        self.grade = grade\n",
        "\n",
        "    def introduce(self):\n",
        "        return f'안녕하세요! 제 이름은 {self.name}이고 제 나이는 {self.age}입니다. {self.grade}학년 입니다.'\n",
        "\n",
        "\n",
        "s = Student('jun', 10, 3)\n",
        "s.introduce()"
      ]
    },
    {
      "cell_type": "code",
      "execution_count": null,
      "metadata": {
        "id": "kHEgQfRx9XlA"
      },
      "outputs": [],
      "source": []
    }
  ],
  "metadata": {
    "colab": {
      "provenance": []
    },
    "kernelspec": {
      "display_name": "Python 3",
      "name": "python3"
    },
    "language_info": {
      "codemirror_mode": {
        "name": "ipython",
        "version": 3
      },
      "file_extension": ".py",
      "mimetype": "text/x-python",
      "name": "python",
      "nbconvert_exporter": "python",
      "pygments_lexer": "ipython3",
      "version": "3.11.5"
    }
  },
  "nbformat": 4,
  "nbformat_minor": 0
}
