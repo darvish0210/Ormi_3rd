{
  "nbformat": 4,
  "nbformat_minor": 0,
  "metadata": {
    "colab": {
      "provenance": []
    },
    "kernelspec": {
      "name": "python3",
      "display_name": "Python 3"
    },
    "language_info": {
      "name": "python"
    }
  },
  "cells": [
    {
      "cell_type": "code",
      "execution_count": null,
      "metadata": {
        "id": "mOhLSolK2YU7"
      },
      "outputs": [],
      "source": [
        "# Q2 암호문 https://pyalgo.co.kr/?page=2#\n",
        "\n",
        "#입력\t출력\n",
        "#'a10b9r1ce33uab8wc918v2cv11v9'\t'1월 6일'\n",
        "# a10b9 r1 c e3 3uab8wc918 v2 c v1 1 v9\n",
        "# => r1 e3 v2 v1 v9 = 1+3+2+1+9 = 16 => 1월 6일\n",
        "\n",
        "#편지 안에 내용은 문자열로 주어집니다.\n",
        "#문자열 중에 r, e, v 뒤에 나오는 값을 더하여 나온 최종 숫자에서 앞자리를 월로 뒷자리를 일로 판단합니다.\n",
        "#r, e, v 뒤에 나오는 숫자는 1부터 10까지입니다. 이를 넘어가는 숫자가 나올 경우 앞 숫자만 뽑아냅니다.\n"
      ]
    },
    {
      "cell_type": "code",
      "source": [
        "import re\n",
        "s = 'a10b9r1ce33uab8wc918v2cv11v9'\n",
        "p = re.compile('[rev]1?[0-9]')\n",
        "p.findall(s)\n",
        "# [rev]1?[1-9]\n",
        "# 이러면 11을 잡아버린다?\n"
      ],
      "metadata": {
        "colab": {
          "base_uri": "https://localhost:8080/"
        },
        "id": "2F6bLwXq2pPA",
        "outputId": "f30ff086-c1fc-475b-e08a-e1e7ab7faef0"
      },
      "execution_count": 3,
      "outputs": [
        {
          "output_type": "execute_result",
          "data": {
            "text/plain": [
              "['r1', 'e3', 'v2', 'v11', 'v9']"
            ]
          },
          "metadata": {},
          "execution_count": 3
        }
      ]
    },
    {
      "cell_type": "code",
      "source": [
        "# 10을 잡으려면 어떻게 해야할까?\n",
        "s1 = 'r10e10v10r1e1v2'\n",
        "p1 = re.compile(r'[rev]10|[rev][1-9]')\n",
        "p1.findall(s1)\n",
        "\n",
        "#그냥 이렇게?"
      ],
      "metadata": {
        "colab": {
          "base_uri": "https://localhost:8080/"
        },
        "id": "olAwo3QP5SYU",
        "outputId": "8ab19430-7dcb-4240-9361-b41cff2ec120"
      },
      "execution_count": 31,
      "outputs": [
        {
          "output_type": "execute_result",
          "data": {
            "text/plain": [
              "['r10', 'e10', 'v10', 'r1', 'e1', 'v2']"
            ]
          },
          "metadata": {},
          "execution_count": 31
        }
      ]
    },
    {
      "cell_type": "code",
      "source": [
        "# 일단 답 입력해보기 시도\n",
        "import re\n",
        "def solution(data):\n",
        "    n = 0\n",
        "    p = re.compile(r'[rev]10|[rev][1-9]')\n",
        "    f = p.findall(data)\n",
        "    for i in f:\n",
        "        x = int(i[1:])\n",
        "        n += x\n",
        "    a = str(n)\n",
        "\n",
        "    ans = (a[0])+'월 ' +(a[1])+'일'\n",
        "\n",
        "    return ans\n",
        "# import re는 사이트내에서 기본제공\n",
        "#성공! 이지만 테스트케이스를 써보니 아무래도 오답같다\n",
        "#테스트케이스의 경우, 사이트 내의 AI에게 물어보니 제공해주었다\n",
        "\n",
        "s1 =  'r9e10v1'\n",
        "#출력: '1월 9일' 20인데?\n",
        "s2 =  'r2e4v6'\n",
        "#출력: '6월 2일' 12인데??\n",
        "s3= 'r5v1v9e7r3'\n",
        "#출력: '1월 2일' 25인데??\n",
        "s4= 'e2v3v2v2'\n",
        "#출력: '7월 2일' 9인데??\n",
        "s5= 'r5e6r1v2e10v10'\n",
        "#출력: '12월 6일' 34인데?\n",
        "\n",
        "#근데 테스트 케이스의 상태가 이상한듯?\n",
        "\n",
        "print(solution(s1))\n",
        "print(solution(s2))\n",
        "print(solution(s3))\n",
        "print(solution(s4))\n",
        "print(solution(s5))"
      ],
      "metadata": {
        "colab": {
          "base_uri": "https://localhost:8080/",
          "height": 496
        },
        "id": "WiQvLt5m7kng",
        "outputId": "b93dd304-99eb-47d9-c0b5-3e80c3657a01"
      },
      "execution_count": 45,
      "outputs": [
        {
          "output_type": "stream",
          "name": "stdout",
          "text": [
            "20\n",
            "2월 0일\n",
            "12\n",
            "1월 2일\n",
            "25\n",
            "2월 5일\n",
            "9\n"
          ]
        },
        {
          "output_type": "error",
          "ename": "IndexError",
          "evalue": "ignored",
          "traceback": [
            "\u001b[0;31m---------------------------------------------------------------------------\u001b[0m",
            "\u001b[0;31mIndexError\u001b[0m                                Traceback (most recent call last)",
            "\u001b[0;32m<ipython-input-45-e0809d6b99eb>\u001b[0m in \u001b[0;36m<cell line: 33>\u001b[0;34m()\u001b[0m\n\u001b[1;32m     31\u001b[0m \u001b[0mprint\u001b[0m\u001b[0;34m(\u001b[0m\u001b[0msolution\u001b[0m\u001b[0;34m(\u001b[0m\u001b[0ms2\u001b[0m\u001b[0;34m)\u001b[0m\u001b[0;34m)\u001b[0m\u001b[0;34m\u001b[0m\u001b[0;34m\u001b[0m\u001b[0m\n\u001b[1;32m     32\u001b[0m \u001b[0mprint\u001b[0m\u001b[0;34m(\u001b[0m\u001b[0msolution\u001b[0m\u001b[0;34m(\u001b[0m\u001b[0ms3\u001b[0m\u001b[0;34m)\u001b[0m\u001b[0;34m)\u001b[0m\u001b[0;34m\u001b[0m\u001b[0;34m\u001b[0m\u001b[0m\n\u001b[0;32m---> 33\u001b[0;31m \u001b[0mprint\u001b[0m\u001b[0;34m(\u001b[0m\u001b[0msolution\u001b[0m\u001b[0;34m(\u001b[0m\u001b[0ms4\u001b[0m\u001b[0;34m)\u001b[0m\u001b[0;34m)\u001b[0m\u001b[0;34m\u001b[0m\u001b[0;34m\u001b[0m\u001b[0m\n\u001b[0m\u001b[1;32m     34\u001b[0m \u001b[0mprint\u001b[0m\u001b[0;34m(\u001b[0m\u001b[0msolution\u001b[0m\u001b[0;34m(\u001b[0m\u001b[0ms5\u001b[0m\u001b[0;34m)\u001b[0m\u001b[0;34m)\u001b[0m\u001b[0;34m\u001b[0m\u001b[0;34m\u001b[0m\u001b[0m\n",
            "\u001b[0;32m<ipython-input-45-e0809d6b99eb>\u001b[0m in \u001b[0;36msolution\u001b[0;34m(data)\u001b[0m\n\u001b[1;32m     10\u001b[0m     \u001b[0ma\u001b[0m \u001b[0;34m=\u001b[0m \u001b[0mstr\u001b[0m\u001b[0;34m(\u001b[0m\u001b[0mn\u001b[0m\u001b[0;34m)\u001b[0m\u001b[0;34m\u001b[0m\u001b[0;34m\u001b[0m\u001b[0m\n\u001b[1;32m     11\u001b[0m     \u001b[0mprint\u001b[0m\u001b[0;34m(\u001b[0m\u001b[0ma\u001b[0m\u001b[0;34m)\u001b[0m\u001b[0;34m\u001b[0m\u001b[0;34m\u001b[0m\u001b[0m\n\u001b[0;32m---> 12\u001b[0;31m     \u001b[0mans\u001b[0m \u001b[0;34m=\u001b[0m \u001b[0;34m(\u001b[0m\u001b[0ma\u001b[0m\u001b[0;34m[\u001b[0m\u001b[0;36m0\u001b[0m\u001b[0;34m]\u001b[0m\u001b[0;34m)\u001b[0m\u001b[0;34m+\u001b[0m\u001b[0;34m'월 '\u001b[0m \u001b[0;34m+\u001b[0m\u001b[0;34m(\u001b[0m\u001b[0ma\u001b[0m\u001b[0;34m[\u001b[0m\u001b[0;36m1\u001b[0m\u001b[0;34m]\u001b[0m\u001b[0;34m)\u001b[0m\u001b[0;34m+\u001b[0m\u001b[0;34m'일'\u001b[0m\u001b[0;34m\u001b[0m\u001b[0;34m\u001b[0m\u001b[0m\n\u001b[0m\u001b[1;32m     13\u001b[0m \u001b[0;34m\u001b[0m\u001b[0m\n\u001b[1;32m     14\u001b[0m     \u001b[0;32mreturn\u001b[0m \u001b[0mans\u001b[0m\u001b[0;34m\u001b[0m\u001b[0;34m\u001b[0m\u001b[0m\n",
            "\u001b[0;31mIndexError\u001b[0m: string index out of range"
          ]
        }
      ]
    },
    {
      "cell_type": "code",
      "source": [
        "# 수업시간에 풀었던 답은...\n",
        "\n",
        "def solution(data):\n",
        "    p = re.compile(r'([rev])(10|[1-9])')\n",
        "    x = p.findall(data)\n",
        "    n = 0\n",
        "    for i in x:\n",
        "        n+=int(i[1])\n",
        "    ans = str(n)[0] +'월 '+ str(n)[1]+'일'\n",
        "    print(ans)\n",
        "data = 'a10b9r10ce33uab8wc918v2cv11v9'\n",
        "solution(data)"
      ],
      "metadata": {
        "colab": {
          "base_uri": "https://localhost:8080/"
        },
        "id": "I1a50L6a5Jqo",
        "outputId": "ce2a3df2-ae15-48be-e5b6-bdb586c3f1dc"
      },
      "execution_count": 50,
      "outputs": [
        {
          "output_type": "stream",
          "name": "stdout",
          "text": [
            "2월 5일\n"
          ]
        }
      ]
    },
    {
      "cell_type": "code",
      "source": [
        "# 출정인원 선발 https://pyalgo.co.kr/?page=3#\n",
        "\n",
        "'''\n",
        "입력\t                                                                                         출력\n",
        "[['A', 25, 24, 11, 12], ['B', 13, 22, 16, 14]]\t                                                  []\n",
        "[['A', 25, 25, 25, 25], ['B', 10, 12, 13, 11], ['C', 24, 22, 23, 21], ['D', 13, 22, 16, 14]]\t['A']\n",
        "\n",
        "'''\n",
        "\n",
        "'''\n",
        "0 ≤ 체력, 정신력, 기술력, 방어력 ≤ 25\n",
        "1 ≤ 기술자 수 ≤ 10\n",
        "기술자 이름은 중복되지 않습니다.\n",
        "기술자 배열은 2차원 배열로 주어집니다. 기술자의 이름, 체력, 정신력, 기술력, 방어력이 담긴 배열이 담긴 배열을 입력받습니다.\n",
        "체력, 정신력, 기술력, 방어력의 총합을 구하여 점수가 높은 순으로 상위 30%의 지원자를 선발해야 합니다. 동점자가 있는 경우에도 총인원에 30%가 넘지 않도록 선발해야합니다.\n",
        "상위 동일 점수가 30%가 넘어가는 경우에도 아무도 선발하지 못합니다.\n",
        "기술자들의 이름은 알파벳의 역순으로 출력합니다.\n",
        "'''\n",
        "\n",
        "\n"
      ],
      "metadata": {
        "id": "jNiliTdTHlc7"
      },
      "execution_count": null,
      "outputs": []
    },
    {
      "cell_type": "code",
      "source": [
        "#총합 구하기\n",
        "입력 = [['A', 25, 24, 11, 12], ['B', 13, 22, 16, 14]]\n",
        "임시 = {}\n",
        "for i in 입력:\n",
        "    임시[i[0]] = sum(i[1:])\n",
        "print(임시)\n",
        "print(len(임시)*0.3)"
      ],
      "metadata": {
        "colab": {
          "base_uri": "https://localhost:8080/"
        },
        "id": "dEvjy4pdIDQR",
        "outputId": "04b32528-8045-47ba-8316-a1f0f8c34409"
      },
      "execution_count": 56,
      "outputs": [
        {
          "output_type": "stream",
          "name": "stdout",
          "text": [
            "{'A': 72, 'B': 65}\n",
            "0.6\n"
          ]
        }
      ]
    },
    {
      "cell_type": "code",
      "source": [
        "#정렬 및 정리? 까지\n",
        "\n",
        "입력 = [['A', 25, 25, 25, 25], ['B', 10, 12, 13, 11], ['C', 24, 22, 23, 21], ['D', 13, 22, 16, 14],['G', 13, 22, 16, 14],['F', 13, 22, 16, 14], ['E', 25, 25, 25, 25]]\n",
        "임시 = {}\n",
        "for i in 입력:\n",
        "    임시[i[0]] = sum(i[1:])\n",
        "print(임시)\n",
        "\n",
        "정렬됨 = sorted(임시.items(),key = lambda x: x[1],reverse = True)\n",
        "print(정렬됨)\n",
        "N = (int(len(임시)*0.3))\n",
        "\n",
        "\n",
        "리스트 = [x[0] for x in 정렬됨]\n",
        "print(리스트)\n",
        "정답리스트 = 리스트[:N]\n",
        "print(정답리스트)\n",
        "\n",
        "#알파벳 역순?\n",
        "정답리스트.sort(reverse = True)\n",
        "print(정답리스트)\n",
        "\n",
        "#이렇게 하니 test3을 실패함"
      ],
      "metadata": {
        "colab": {
          "base_uri": "https://localhost:8080/"
        },
        "id": "yr2AfmORIq5s",
        "outputId": "0d6b7d2b-3613-4a7b-f743-44964b05b2cb"
      },
      "execution_count": 93,
      "outputs": [
        {
          "output_type": "stream",
          "name": "stdout",
          "text": [
            "{'A': 100, 'B': 46, 'C': 90, 'D': 65, 'G': 65, 'F': 65, 'E': 100}\n",
            "[('A', 100), ('E', 100), ('C', 90), ('D', 65), ('G', 65), ('F', 65), ('B', 46)]\n",
            "['A', 'E', 'C', 'D', 'G', 'F', 'B']\n",
            "['A', 'E']\n",
            "['E', 'A']\n"
          ]
        }
      ]
    },
    {
      "cell_type": "code",
      "source": [
        "#상위 동일점수 처리를 어떻게 해야할까?\n",
        "\n",
        "입력 = [['A', 25, 25, 25, 25], ['B', 10, 12, 13, 11], ['C', 14, 2, 3, 21], ['D', 13, 22, 16, 14],['G', 13, 22, 16, 14],['F', 13, 22, 16, 14], ['E', 25, 25, 25, 25]]\n",
        "# 입력 = [['A', 25, 25, 25, 25],\n",
        "# ['B', 25, 25, 25, 25],\n",
        "# ['C', 25, 25, 25, 25],\n",
        "# ['D', 25, 25, 25, 25],\n",
        "# ['E', 25, 25, 25, 25],\n",
        "#       ]\n",
        "임시 = {}\n",
        "for i in 입력:\n",
        "    임시[i[0]] = sum(i[1:])\n",
        "print(임시)\n",
        "\n",
        "정렬됨 = sorted(임시.items(),key = lambda x: x[1],reverse = True)\n",
        "print(정렬됨)\n",
        "N = (int(len(임시)*0.3))\n",
        "\n",
        "\n",
        "삼십퍼리스트 = [x for x in 정렬됨[:N]]\n",
        "\n",
        "판별수치 = (삼십퍼리스트[-1][1])\n",
        "print(판별수치)\n",
        "리스트2 = [x for x in 정렬됨 if x[1]>=판별수치]\n",
        "\n",
        "if len(리스트2) == len(정렬됨):\n",
        "    print([])\n",
        "elif len(리스트2) == len(삼십퍼리스트):\n",
        "    print(삼십퍼리스트)"
      ],
      "metadata": {
        "colab": {
          "base_uri": "https://localhost:8080/"
        },
        "id": "nFysU3ZuTHAq",
        "outputId": "2d8c4a69-4aeb-47b0-d679-f9b59e7b0cd2"
      },
      "execution_count": 110,
      "outputs": [
        {
          "output_type": "stream",
          "name": "stdout",
          "text": [
            "{'A': 100, 'B': 46, 'C': 40, 'D': 65, 'G': 65, 'F': 65, 'E': 100}\n",
            "[('A', 100), ('E', 100), ('D', 65), ('G', 65), ('F', 65), ('B', 46), ('C', 40)]\n",
            "100\n",
            "[('A', 100), ('E', 100)]\n"
          ]
        }
      ]
    },
    {
      "cell_type": "code",
      "source": [
        "def solution(data):\n",
        "    ans = []\n",
        "    tmp = {}\n",
        "    for i in data:\n",
        "        tmp[i[0]] = sum(i[1:])\n",
        "    N = int(len(tmp)*0.3)\n",
        "    if N<1:\n",
        "        return []\n",
        "    srt = sorted(tmp.items(),key = lambda x: x[1],reverse = True)\n",
        "    List = [x for x in srt[:N]]\n",
        "    limit_n = List[-1][1]\n",
        "    List2 = [x for x in srt if x[1]>=limit_n]\n",
        "    if len(List2) == len(srt):\n",
        "        return []\n",
        "    elif len(List2) == len(List):\n",
        "        ans = [x[0] for x in List]\n",
        "        ans.sort(reverse = True)\n",
        "        return ans\n",
        "    else:\n",
        "        return []\n",
        "#통과는 되긴했는데 뭔가? 이상한거 같음 다시 봐야할듯?"
      ],
      "metadata": {
        "colab": {
          "base_uri": "https://localhost:8080/",
          "height": 147
        },
        "id": "LS3UMpOPQhT1",
        "outputId": "b6a8a663-1ee7-49b2-c6d1-bc5b3bb09e5f"
      },
      "execution_count": 111,
      "outputs": [
        {
          "output_type": "error",
          "ename": "TabError",
          "evalue": "ignored",
          "traceback": [
            "\u001b[0;36m  File \u001b[0;32m\"<ipython-input-111-e70186911ae0>\"\u001b[0;36m, line \u001b[0;32m17\u001b[0m\n\u001b[0;31m    ans.sort(reverse = True)\u001b[0m\n\u001b[0m    ^\u001b[0m\n\u001b[0;31mTabError\u001b[0m\u001b[0;31m:\u001b[0m inconsistent use of tabs and spaces in indentation\n"
          ]
        }
      ]
    },
    {
      "cell_type": "code",
      "source": [],
      "metadata": {
        "id": "hq0J_FCAP6u-"
      },
      "execution_count": null,
      "outputs": []
    }
  ]
}