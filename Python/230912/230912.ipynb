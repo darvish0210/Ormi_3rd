{
  "nbformat": 4,
  "nbformat_minor": 0,
  "metadata": {
    "colab": {
      "provenance": []
    },
    "kernelspec": {
      "name": "python3",
      "display_name": "Python 3"
    },
    "language_info": {
      "name": "python"
    }
  },
  "cells": [
    {
      "cell_type": "markdown",
      "source": [
        "# 함수"
      ],
      "metadata": {
        "id": "G5jUvSuQ6ate"
      }
    },
    {
      "cell_type": "code",
      "source": [
        "def printnum():\n",
        "    print('1')\n",
        "    print('2')\n",
        "    print('3')\n",
        "\n",
        "a = printnum()\n",
        "print(a)"
      ],
      "metadata": {
        "colab": {
          "base_uri": "https://localhost:8080/"
        },
        "id": "OtLoo4Ez6iQp",
        "outputId": "955ccf22-756e-48ba-9799-70bbf06094cd"
      },
      "execution_count": null,
      "outputs": [
        {
          "output_type": "stream",
          "name": "stdout",
          "text": [
            "1\n",
            "2\n",
            "3\n",
            "None\n"
          ]
        }
      ]
    },
    {
      "cell_type": "code",
      "source": [
        "def printnum():\n",
        "    print('1')\n",
        "    print('2')\n",
        "\n",
        "print('3')\n",
        "printnum()"
      ],
      "metadata": {
        "colab": {
          "base_uri": "https://localhost:8080/"
        },
        "id": "AjoZcr3D660v",
        "outputId": "90dedbb1-dd28-47de-c361-c20104f1266e"
      },
      "execution_count": null,
      "outputs": [
        {
          "output_type": "stream",
          "name": "stdout",
          "text": [
            "3\n",
            "1\n",
            "2\n"
          ]
        }
      ]
    },
    {
      "cell_type": "markdown",
      "source": [
        "#연습문제\n"
      ],
      "metadata": {
        "id": "9Mgv-CN0B9Q4"
      }
    },
    {
      "cell_type": "code",
      "source": [
        "# a와 b를 더한 값과 a와 b를 뺀 값을 곱하는 함수 만들기\n",
        "\n",
        "def aabb(a=0,b=0):\n",
        "    return (a+b)*(a-b)\n",
        "aabb(5)\n",
        "\n",
        "a,b = 2,3\n",
        "#maybe....\n",
        "def mul(a=0,b=0):\n",
        "    return a*b\n",
        "def sum(a=0,b=0):\n",
        "    return a+b\n",
        "def subs(a=0,b=0):\n",
        "    return a-b\n",
        "\n",
        "mul(sum(a,b),subs(a,b))\n"
      ],
      "metadata": {
        "colab": {
          "base_uri": "https://localhost:8080/"
        },
        "id": "QiRiPr2kCAq7",
        "outputId": "4eed2b5b-8fcc-4c79-ff15-08f85acc09ac"
      },
      "execution_count": null,
      "outputs": [
        {
          "output_type": "execute_result",
          "data": {
            "text/plain": [
              "-5"
            ]
          },
          "metadata": {},
          "execution_count": 7
        }
      ]
    },
    {
      "cell_type": "code",
      "source": [
        "x = 100\n",
        "def f():\n",
        "    x = 200\n",
        "    return x\n",
        "f()\n",
        "print(x)"
      ],
      "metadata": {
        "colab": {
          "base_uri": "https://localhost:8080/"
        },
        "id": "TUx4e5GGD5D6",
        "outputId": "26d8704c-05aa-4ead-bd03-1b6f914e4b40"
      },
      "execution_count": null,
      "outputs": [
        {
          "output_type": "stream",
          "name": "stdout",
          "text": [
            "100\n"
          ]
        }
      ]
    },
    {
      "cell_type": "code",
      "source": [
        "\n",
        "a = 100\n",
        "def f():\n",
        "    a = a + 1\n",
        "    return a\n",
        "f() # error"
      ],
      "metadata": {
        "colab": {
          "base_uri": "https://localhost:8080/",
          "height": 349
        },
        "id": "SI76V4fPHwqW",
        "outputId": "1ce202cb-452b-4fe1-b329-1b0331fde9a2"
      },
      "execution_count": null,
      "outputs": [
        {
          "output_type": "error",
          "ename": "UnboundLocalError",
          "evalue": "ignored",
          "traceback": [
            "\u001b[0;31m---------------------------------------------------------------------------\u001b[0m",
            "\u001b[0;31mUnboundLocalError\u001b[0m                         Traceback (most recent call last)",
            "\u001b[0;32m<ipython-input-12-1b17932ec4b2>\u001b[0m in \u001b[0;36m<cell line: 6>\u001b[0;34m()\u001b[0m\n\u001b[1;32m      4\u001b[0m     \u001b[0ma\u001b[0m \u001b[0;34m=\u001b[0m \u001b[0ma\u001b[0m \u001b[0;34m+\u001b[0m \u001b[0;36m1\u001b[0m\u001b[0;34m\u001b[0m\u001b[0;34m\u001b[0m\u001b[0m\n\u001b[1;32m      5\u001b[0m     \u001b[0;32mreturn\u001b[0m \u001b[0ma\u001b[0m\u001b[0;34m\u001b[0m\u001b[0;34m\u001b[0m\u001b[0m\n\u001b[0;32m----> 6\u001b[0;31m \u001b[0mf\u001b[0m\u001b[0;34m(\u001b[0m\u001b[0;34m)\u001b[0m \u001b[0;31m# error\u001b[0m\u001b[0;34m\u001b[0m\u001b[0;34m\u001b[0m\u001b[0m\n\u001b[0m",
            "\u001b[0;32m<ipython-input-12-1b17932ec4b2>\u001b[0m in \u001b[0;36mf\u001b[0;34m()\u001b[0m\n\u001b[1;32m      2\u001b[0m \u001b[0ma\u001b[0m \u001b[0;34m=\u001b[0m \u001b[0;36m100\u001b[0m\u001b[0;34m\u001b[0m\u001b[0;34m\u001b[0m\u001b[0m\n\u001b[1;32m      3\u001b[0m \u001b[0;32mdef\u001b[0m \u001b[0mf\u001b[0m\u001b[0;34m(\u001b[0m\u001b[0;34m)\u001b[0m\u001b[0;34m:\u001b[0m\u001b[0;34m\u001b[0m\u001b[0;34m\u001b[0m\u001b[0m\n\u001b[0;32m----> 4\u001b[0;31m     \u001b[0ma\u001b[0m \u001b[0;34m=\u001b[0m \u001b[0ma\u001b[0m \u001b[0;34m+\u001b[0m \u001b[0;36m1\u001b[0m\u001b[0;34m\u001b[0m\u001b[0;34m\u001b[0m\u001b[0m\n\u001b[0m\u001b[1;32m      5\u001b[0m     \u001b[0;32mreturn\u001b[0m \u001b[0ma\u001b[0m\u001b[0;34m\u001b[0m\u001b[0;34m\u001b[0m\u001b[0m\n\u001b[1;32m      6\u001b[0m \u001b[0mf\u001b[0m\u001b[0;34m(\u001b[0m\u001b[0;34m)\u001b[0m \u001b[0;31m# error\u001b[0m\u001b[0;34m\u001b[0m\u001b[0;34m\u001b[0m\u001b[0m\n",
            "\u001b[0;31mUnboundLocalError\u001b[0m: local variable 'a' referenced before assignment"
          ]
        }
      ]
    },
    {
      "cell_type": "code",
      "source": [
        "a = 100\n",
        "def f():\n",
        "    b = a + 1\n",
        "    return b\n",
        "f() # 이건 된다"
      ],
      "metadata": {
        "colab": {
          "base_uri": "https://localhost:8080/"
        },
        "id": "HpSmkdgpIddV",
        "outputId": "7fe6cb3f-13c7-4e6f-dde4-0b6f69ac3fdb"
      },
      "execution_count": null,
      "outputs": [
        {
          "output_type": "execute_result",
          "data": {
            "text/plain": [
              "101"
            ]
          },
          "metadata": {},
          "execution_count": 13
        }
      ]
    },
    {
      "cell_type": "code",
      "source": [
        "a = 10\n",
        "def f():\n",
        "    a = 100\n",
        "    print(a)\n",
        "    def ff():\n",
        "        a=1000\n",
        "        print(a)\n",
        "        def fff():\n",
        "            # a = 10000\n",
        "            # global a # global을 쓰면 가장 위로 돌아감\n",
        "            print(a)\n",
        "        fff()\n",
        "    ff()\n",
        "f()\n",
        "print(a)\n"
      ],
      "metadata": {
        "colab": {
          "base_uri": "https://localhost:8080/"
        },
        "id": "pAOcn0_0Hzef",
        "outputId": "c68d1fbc-f2fb-4d48-ae2d-f5c6d7c37567"
      },
      "execution_count": null,
      "outputs": [
        {
          "output_type": "stream",
          "name": "stdout",
          "text": [
            "100\n",
            "1000\n",
            "1000\n",
            "10\n"
          ]
        }
      ]
    },
    {
      "cell_type": "code",
      "source": [
        "# 재귀는 어지간하면 하지 말고 반복문을 쓰는 것을 권장\n",
        "\n",
        "# 외우면 좋은 재귀\n",
        "# 1. 팩토리얼\n",
        "# 2. 문자열 뒤집기"
      ],
      "metadata": {
        "id": "x7IEGpOlIm5t"
      },
      "execution_count": null,
      "outputs": []
    },
    {
      "cell_type": "code",
      "source": [
        "# 팩토리얼\n",
        "def facto(n):\n",
        "    if n==1:\n",
        "        return 1\n",
        "    return n * facto(n-1)\n",
        "facto(5)"
      ],
      "metadata": {
        "colab": {
          "base_uri": "https://localhost:8080/"
        },
        "id": "jUMg8htKLhdc",
        "outputId": "bb0572b2-308a-4236-b4fc-b21e59e18afc"
      },
      "execution_count": null,
      "outputs": [
        {
          "output_type": "execute_result",
          "data": {
            "text/plain": [
              "120"
            ]
          },
          "metadata": {},
          "execution_count": 23
        }
      ]
    },
    {
      "cell_type": "code",
      "source": [
        "# 문자열 뒤집기\n",
        "def popstr(s):\n",
        "    if len(s)<=1:\n",
        "        return s\n",
        "    return popstr(s[1:])+s[0]\n",
        "    # popy = s[-1]\n",
        "    # s = s[:-1]\n",
        "    # return popy + popstr(s)\n",
        "x = 'hello world'\n",
        "print(popstr(x))\n"
      ],
      "metadata": {
        "colab": {
          "base_uri": "https://localhost:8080/"
        },
        "id": "FlK4wF_ZL8kz",
        "outputId": "2e152b70-88aa-4b83-f0f8-3d04dfe8cefe"
      },
      "execution_count": null,
      "outputs": [
        {
          "output_type": "stream",
          "name": "stdout",
          "text": [
            "dlrow olleh\n"
          ]
        }
      ]
    },
    {
      "cell_type": "code",
      "source": [
        "def f():\n",
        "    a=10\n",
        "    b=20\n",
        "    c=30\n",
        "    return a,b,c\n",
        "f()"
      ],
      "metadata": {
        "colab": {
          "base_uri": "https://localhost:8080/"
        },
        "id": "hKYI1Rq2mhPP",
        "outputId": "2e45d46f-edd9-448f-87f8-d53c2deb1583"
      },
      "execution_count": null,
      "outputs": [
        {
          "output_type": "execute_result",
          "data": {
            "text/plain": [
              "(10, 20, 30)"
            ]
          },
          "metadata": {},
          "execution_count": 38
        }
      ]
    },
    {
      "cell_type": "code",
      "source": [
        "#함수도 변수처럼 취급가능\n",
        "x = 10\n",
        "y = 20\n",
        "a = [x,y]\n",
        "def add(x,y):\n",
        "    return x+y\n",
        "def sub(x,y):\n",
        "    return x-y\n",
        "\n",
        "aa = [add,sub]\n",
        "aa[0](10,20)"
      ],
      "metadata": {
        "colab": {
          "base_uri": "https://localhost:8080/"
        },
        "id": "0VhEcgEOmuIL",
        "outputId": "697426f0-d70b-4b9e-aacf-ba79694694d3"
      },
      "execution_count": null,
      "outputs": [
        {
          "output_type": "execute_result",
          "data": {
            "text/plain": [
              "30"
            ]
          },
          "metadata": {},
          "execution_count": 43
        }
      ]
    },
    {
      "cell_type": "code",
      "source": [
        "# 람다 스타일 - 보통 재사용과는 거리가 멀다?\n",
        "\n",
        "\n",
        "add2 = lambda x,y:x+y\n",
        "sub2 = lambda x,y:x-y\n"
      ],
      "metadata": {
        "id": "W1adWOs0omLU"
      },
      "execution_count": null,
      "outputs": []
    },
    {
      "cell_type": "code",
      "source": [
        "x = map(int,'1234')\n",
        "\n",
        "for i in x:\n",
        "    print(i)\n",
        "for i in x:\n",
        "    print(i)\n",
        "#이렇게 해도 프린트는 한번만 수행된다\n",
        "\n"
      ],
      "metadata": {
        "colab": {
          "base_uri": "https://localhost:8080/"
        },
        "id": "epIeMd-spJbP",
        "outputId": "81bb6625-7402-463c-ebb3-85c988d8260a"
      },
      "execution_count": null,
      "outputs": [
        {
          "output_type": "stream",
          "name": "stdout",
          "text": [
            "1\n",
            "2\n",
            "3\n",
            "4\n"
          ]
        }
      ]
    },
    {
      "cell_type": "code",
      "source": [
        "#람다 사용 예시\n",
        "def f(x):\n",
        "    return x*2\n",
        "\n",
        "list(map(f,'1234'))\n",
        "\n",
        "# '1' * 2 = 11\n",
        "# 즉 , 리스트 안에 11 22 33 44\n",
        "\n",
        "# map 메소드는 함수를 인자로 받는데, 이때 f는 한번만 쓰니까, 람다식을 쓰면 좋다.\n",
        "list (map(lambda x:x*2,'1234'))"
      ],
      "metadata": {
        "colab": {
          "base_uri": "https://localhost:8080/"
        },
        "id": "GLB7TC9up_s-",
        "outputId": "4c5a0203-6802-4819-fdb4-428f65158827"
      },
      "execution_count": null,
      "outputs": [
        {
          "output_type": "execute_result",
          "data": {
            "text/plain": [
              "['11', '22', '33', '44']"
            ]
          },
          "metadata": {},
          "execution_count": 46
        }
      ]
    },
    {
      "cell_type": "code",
      "source": [
        "def filter_func(x):\n",
        "    return x>10\n",
        "\n",
        "list(filter(filter_func,[1,2,5,7,8,9,11,434,113]))"
      ],
      "metadata": {
        "colab": {
          "base_uri": "https://localhost:8080/"
        },
        "id": "I367aXR3xqPK",
        "outputId": "b970a2e2-73d6-410d-e0e2-19383fc8ab75"
      },
      "execution_count": null,
      "outputs": [
        {
          "output_type": "execute_result",
          "data": {
            "text/plain": [
              "[11, 434, 113]"
            ]
          },
          "metadata": {},
          "execution_count": 47
        }
      ]
    },
    {
      "cell_type": "code",
      "source": [
        "list(zip('abc','1234567',[9,8,7,6,5,4]))"
      ],
      "metadata": {
        "colab": {
          "base_uri": "https://localhost:8080/"
        },
        "id": "24KpWbqkyLlD",
        "outputId": "27451d7f-5fbc-4ded-b996-bc93643d5991"
      },
      "execution_count": null,
      "outputs": [
        {
          "output_type": "execute_result",
          "data": {
            "text/plain": [
              "[('a', '1', 9), ('b', '2', 8), ('c', '3', 7)]"
            ]
          },
          "metadata": {},
          "execution_count": 49
        }
      ]
    },
    {
      "cell_type": "markdown",
      "source": [
        "#연습문제\n",
        " https://codingdojang.com/scode/408\n",
        "\n",
        "1차원의 점들이 주어졌을 때, 그 중 가장 거리가 짧은 것의 쌍을 출력하는 함수"
      ],
      "metadata": {
        "id": "O1hasZqgyro5"
      }
    },
    {
      "cell_type": "code",
      "source": [
        "s = [1,3,4,8,13,17,20]\n",
        "list(zip(s,s[1:]))\n",
        "\n",
        "# sorted(zip(s,s[1:]), key = lambda x:x[1]-x[0])[0] 정답"
      ],
      "metadata": {
        "colab": {
          "base_uri": "https://localhost:8080/"
        },
        "id": "OJQ2In_3y4Ys",
        "outputId": "2c1b480c-d0b2-4528-e829-05f85380e28b"
      },
      "execution_count": null,
      "outputs": [
        {
          "output_type": "execute_result",
          "data": {
            "text/plain": [
              "(3, 4)"
            ]
          },
          "metadata": {},
          "execution_count": 51
        }
      ]
    },
    {
      "cell_type": "code",
      "source": [
        "# 2.x에서 range와 그 외 값들에 대한 히스토리\n",
        "# print(range(10)) # 출력: [0, 1, 2, 3, 4, 5, 6, 7, 8, 9]\n",
        "# 메모리를 모두 차지해야 합니다.\n",
        "\n",
        "# print(range(100000000000000000000000000000000000000))\n",
        "# 메모리의 효율이 극도로 안좋아짐\n",
        "\n",
        "# 그런데 3.x에서 range(10000000000000000000000000000)는 메모리 효율이 안좋나요?\n",
        "# 시작과, 끝, 스텝값만 가지고 있기 때문에 메모리 낭비가 전혀 없습니다.\n",
        "\n",
        "# 2.x에서도 3.x와 같은 range타입이 있었습니다. xrange문법입니다. xrange문법이 3.x되면서 range가 된겁니다.\n",
        "# 2.x에서 사용가능 문법\n",
        "# print(xrange(10)) # 출력: xrange(10)\n",
        "# for i in xrange(10): # 출력: 순회 가능\n",
        "#     print(i)"
      ],
      "metadata": {
        "id": "QayWuTnw-nDp"
      },
      "execution_count": null,
      "outputs": []
    },
    {
      "cell_type": "code",
      "source": [
        "# range(start, stop, step) # 슬라이싱과 비슷한 형태를 지니고 있습니다.\n",
        "print(range(10)) # 값을 가지고 있지 않습니다.\n",
        "print(list(range(10)))\n",
        "x = range(10)\n",
        "print(type(x))\n",
        "print(list(range(0, 10, 2)))\n",
        "print(list(range(10, 0, -2)))\n",
        "# print(list(range(10, 0, 2.1))) # error, numpy 모듈 사용하면 가능합니다.\n",
        "# print(list(range(10.1, 2.0, 2))) # error, numpy 모듈 사용하면 가능합니다.\n",
        "print(list(range(0, 10, -2)))"
      ],
      "metadata": {
        "id": "hJpfuHs9-rN6"
      },
      "execution_count": null,
      "outputs": []
    },
    {
      "cell_type": "code",
      "source": [
        "# 연습문제\n",
        "\n",
        "data = [\n",
        "    [2,'hello wor ld',30],\n",
        "    [3,'hworl',33],\n",
        "    [5,'hello wo',35],\n",
        "    [4,'hello w',31],\n",
        "    [6,'hello w',39]\n",
        "\n",
        "]\n",
        "#Q1 첫번째 요소로 정렬\n",
        "\n",
        "sorted(data)\n",
        "\n",
        "#Q2 두번째 요소로 정렬\n",
        "\n",
        "sorted(data, key = lambda x:len(x[1]))\n",
        "\n",
        "#Q3 세번째 요소로 정렬\n",
        "\n",
        "sorted(data, key = lambda x:x[2])\n",
        "\n",
        "#Q4 첫번째 요소와 세번째 요소의 차이가 큰 순서로 정렬\n",
        "\n",
        "sorted(data, key = lambda x: x[2]-x[0],reverse=True)\n",
        "sorted(data, key = lambda x: x[0]-x[2])"
      ],
      "metadata": {
        "colab": {
          "base_uri": "https://localhost:8080/"
        },
        "id": "saH1KArOA4Mw",
        "outputId": "f619dfd0-8ae9-4267-e6a1-62df19bb0e00"
      },
      "execution_count": null,
      "outputs": [
        {
          "output_type": "execute_result",
          "data": {
            "text/plain": [
              "[[6, 'hello w', 39],\n",
              " [3, 'hworl', 33],\n",
              " [5, 'hello wo', 35],\n",
              " [2, 'hello wor ld', 30],\n",
              " [4, 'hello w', 31]]"
            ]
          },
          "metadata": {},
          "execution_count": 59
        }
      ]
    },
    {
      "cell_type": "code",
      "source": [
        "x = [['weniv CTO bingy',2],['weniv CEO licat',1],  ['weniv COO mura',2]]\n",
        "\n",
        "\n"
      ],
      "metadata": {
        "id": "glNMqxasBggw",
        "colab": {
          "base_uri": "https://localhost:8080/"
        },
        "outputId": "fb2049d7-6d1b-453f-eebe-b19a00269b7c"
      },
      "execution_count": 141,
      "outputs": [
        {
          "output_type": "execute_result",
          "data": {
            "text/plain": [
              "[['weniv CTO bingy', 2], ['weniv CEO licat', 1], ['weniv COO mura', 2]]"
            ]
          },
          "metadata": {},
          "execution_count": 141
        }
      ]
    },
    {
      "cell_type": "code",
      "source": [
        "#연습문제 1 회문 만들기\n",
        "# 1.1 슬라이싱\n",
        "def is_palindrome(x):\n",
        "    if x[::-1] == x:\n",
        "        return True\n",
        "\n",
        "    else:\n",
        "        return False\n",
        "is_palindrome('level')\n"
      ],
      "metadata": {
        "colab": {
          "base_uri": "https://localhost:8080/"
        },
        "id": "_9Hvcl97SAwK",
        "outputId": "f3fcf8cd-9685-4727-a6d8-109601c3721b"
      },
      "execution_count": null,
      "outputs": [
        {
          "output_type": "execute_result",
          "data": {
            "text/plain": [
              "True"
            ]
          },
          "metadata": {},
          "execution_count": 128
        }
      ]
    },
    {
      "cell_type": "code",
      "source": [
        "# 1.2 내부에 문자열 뒤집기 함수 정의해서 쓰기\n",
        "def is_palindrome(x):\n",
        "    def str_reverse(s):\n",
        "        if len(s)<=1:\n",
        "            return s\n",
        "        return str_reverse(s[1:])+s[0]\n",
        "    if x == str_reverse(x):\n",
        "        return True\n",
        "\n",
        "    else:\n",
        "        return False\n",
        "\n"
      ],
      "metadata": {
        "colab": {
          "base_uri": "https://localhost:8080/"
        },
        "id": "JaGGaAfnV479",
        "outputId": "869121de-3cac-4902-8547-64742aa3d1bf"
      },
      "execution_count": null,
      "outputs": [
        {
          "output_type": "execute_result",
          "data": {
            "text/plain": [
              "False"
            ]
          },
          "metadata": {},
          "execution_count": 132
        }
      ]
    },
    {
      "cell_type": "code",
      "source": [
        "#연습문제 2 짝수 제거하기\n",
        "\n",
        "n = [2,3,4,5,6,7,8,9,10]\n",
        "list(filter(lambda x:x%2==1,n))\n"
      ],
      "metadata": {
        "colab": {
          "base_uri": "https://localhost:8080/"
        },
        "id": "2DjwbxY_XUt1",
        "outputId": "5d9574b7-b2bb-44ae-a63a-623bca524787"
      },
      "execution_count": null,
      "outputs": [
        {
          "output_type": "execute_result",
          "data": {
            "text/plain": [
              "[3, 5, 7, 9]"
            ]
          },
          "metadata": {},
          "execution_count": 130
        }
      ]
    },
    {
      "cell_type": "code",
      "source": [
        "# 재귀 스타일 문제1 답\n",
        "def is_palindrome(x):\n",
        "    if len(x) <2:\n",
        "        return True\n",
        "    if x[0] != x[-1]:\n",
        "        return False\n",
        "    return is_palindrome(x[1:-1])\n",
        "\n"
      ],
      "metadata": {
        "id": "ggPZLJvBf7D6"
      },
      "execution_count": null,
      "outputs": []
    }
  ]
}