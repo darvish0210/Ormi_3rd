{
  "cells": [
    {
      "cell_type": "code",
      "execution_count": 1,
      "metadata": {
        "id": "KDMJE7mpUHVC"
      },
      "outputs": [],
      "source": [
        "# 쉬운예제\n",
        "f = open('python.csv', 'w')\n",
        "s = '''제목,평점,이미지,줄거리\n",
        "무빙,5.0,img,줄거리\n",
        "무빙,5.0,img,줄거리\n",
        "무빙,5.0,img,줄거리\n",
        "'''\n",
        "f.write(s)\n",
        "f.close()"
      ]
    },
    {
      "cell_type": "code",
      "execution_count": 4,
      "metadata": {
        "id": "8DI_orkOVGJI"
      },
      "outputs": [],
      "source": [
        "# 어려운 예제\n",
        "# django의 동작원리와도 관련이 있습니다.\n",
        "import requests\n",
        "from bs4 import BeautifulSoup\n",
        "\n",
        "paullab_url = 'http://paullab.co.kr/bookservice/'\n",
        "response = requests.get(paullab_url)\n",
        "response.encoding = 'utf-8'\n",
        "html = response.text\n",
        "\n",
        "soup = BeautifulSoup(html, 'html.parser')\n",
        "\n",
        "bookservices = soup.select('.col-lg-6 > h2')     # col-lg-6 클래스 안의 h2 태그 탐색\n",
        "contents = ''\n",
        "\n",
        "for no, book in enumerate(bookservices, 1):\n",
        "    contents += f'''\n",
        "                <section>\n",
        "                <h2>{no}. {book.text}</h2>\n",
        "                <img src=''>\n",
        "                </section>\n",
        "                '''\n",
        "\n",
        "# 이미지 양식: https://paullab.co.kr/bookservice/img/notion.jpg\n",
        "f = open('python.html', 'w')\n",
        "s = f'''<html>\n",
        "<head>\n",
        "</head>\n",
        "<body>\n",
        "{contents}\n",
        "</body>\n",
        "</html>\n",
        "'''\n",
        "f.write(s)\n",
        "f.close()"
      ]
    },
    {
      "cell_type": "code",
      "execution_count": null,
      "metadata": {
        "id": "5HNWW6W7nvAF"
      },
      "outputs": [],
      "source": [
        "# 파이썬(Python) 3 포맷팅 방식\n",
        "print('나의 이름은 {}입니다'.format('한사람'))\n",
        "print('나의 이름은 {0}입니다. 나이는 {1}세이고 성별은 {2}입니다.'.format('한사람',33,'남성'))\n",
        "print('나이는 {1}세이고 성별은 {2}입니다. 나의 이름은 {0}입니다. '.format('한사람',33,'남성'))\n",
        "print('나이는 {age}세이고 성별은 {gender}입니다. 나의 이름은 {name}입니다. '\n",
        "         .format(name='한사람',age=33,gender='남성'))\n",
        "print('만세삼창 :  {0}!!! {0}!!! {0}!!! '.format('만세'))\n",
        "print('삼삼칠 박수 :  {0}!!! {0}!!! {1}!!! '.format('짝'*3,'짝'*7))\n",
        "print('-' * 40)\n",
        "\n",
        "# 파이썬(Python) 3.6 f-string 방식\n",
        "something = '볼펜'\n",
        "EA = 2\n",
        "one_length = 5.343\n",
        "scale = 'cm'\n",
        "\n",
        "print(f'{something} {EA}개의 길이는 {one_length*EA}{scale} 입니다.')\n",
        "print(f'{something} {EA}개의 길이는 {one_length*EA:.1f}{scale} 입니다.')"
      ]
    },
    {
      "cell_type": "code",
      "execution_count": null,
      "metadata": {
        "id": "KBkFrP4z5t3r"
      },
      "outputs": [],
      "source": [
        "print('[{:15}]'.format('10')) # 양식 같음, 자료형만 다름\n",
        "print('[{:15}]'.format(10)) # 양식 같음, 자료형만 다름"
      ]
    },
    {
      "cell_type": "code",
      "execution_count": null,
      "metadata": {
        "id": "_G747xGF6mxV"
      },
      "outputs": [],
      "source": []
    },
    {
      "cell_type": "code",
      "execution_count": 6,
      "metadata": {
        "colab": {
          "base_uri": "https://localhost:8080/",
          "height": 72
        },
        "id": "eAcP6oun_qWE",
        "outputId": "ebe6dbb8-6ac8-4224-83d9-a602433fe11b"
      },
      "outputs": [
        {
          "name": "stdout",
          "output_type": "stream",
          "text": [
            "50000\n",
            "00005\n"
          ]
        },
        {
          "data": {
            "application/vnd.google.colaboratory.intrinsic+json": {
              "type": "string"
            },
            "text/plain": [
              "'0000012345'"
            ]
          },
          "execution_count": 6,
          "metadata": {},
          "output_type": "execute_result"
        }
      ],
      "source": [
        "int_a = 5\n",
        "print(f'{int_a:0<5}') # <는 왼쪽정렬, 빈자리를 0으로 채울수도 있음\n",
        "print(f'{int_a:0>5}') # <는 왼쪽정렬, 빈자리를 0으로 채울수도 있음\n",
        "\n",
        "'12345'.zfill(10)"
      ]
    },
    {
      "cell_type": "code",
      "execution_count": 18,
      "metadata": {
        "colab": {
          "base_uri": "https://localhost:8080/"
        },
        "id": "kXK9VUuf_8qj",
        "outputId": "0a490b79-b436-4358-b2c4-cd75160d2bb4"
      },
      "outputs": [
        {
          "name": "stdout",
          "output_type": "stream",
          "text": [
            "45\n",
            "25\n"
          ]
        },
        {
          "data": {
            "text/plain": [
              "233168"
            ]
          },
          "execution_count": 18,
          "metadata": {},
          "output_type": "execute_result"
        }
      ],
      "source": [
        "# 문제1: 1 ~ 9 까지 더하는 프로그램\n",
        "g1 = (i for i in range(10))\n",
        "print(sum(g1))\n",
        "# 문제2: 1 ~ 9 까지 홀수의 합\n",
        "g2 = (i for i in range(1,10,2))\n",
        "print(sum(g2))\n",
        "\n",
        "# 문제3: 1000 미만의 자연수에서 3의 배수와 5의 배수의 총합을 구하는 프로그램을 작성\n",
        "\n",
        "g3 = (i for i in range(3,1000,3))\n",
        "g5 = (i for i in range(5,1000,5))\n",
        "g15 = (i for i in range(15,1000,15))\n",
        "\n",
        "x = sum(g3)+sum(g5)-sum(g15)\n",
        "print(x)\n",
        "\n",
        "\n"
      ]
    },
    {
      "cell_type": "code",
      "execution_count": null,
      "metadata": {
        "id": "XREEORnUIjKJ"
      },
      "outputs": [],
      "source": [
        "# 문제1: 1 ~ 9 까지 더하는 프로그램\n",
        "sum(list(range(10))) # list로 형변환 하는 것은 데이터가 클수록 부하가 큽니다.\n",
        "sum([i for i in range(1, 10)]) # 일반 list로 형변환 하는 것보다는 빠르지만 이것도 역시나 부하가 있습니다.\n",
        "sum(range(1, 10))\n",
        "(9 * (1 + 9)) / 2\n",
        "\n",
        "# 문제2: 1 ~ 9 까지 홀수의 합\n",
        "sum([i for i in range(1, 10, 2)])\n",
        "sum([i for i in range(10) if i % 2 == 1])\n",
        "sum(filter(lambda x:x%2==1, range(10)))\n",
        "sum(range(1, 10, 2))\n",
        "s = 0\n",
        "for i in range(10):\n",
        "    if i % 2 == 1:\n",
        "        s += i\n",
        "\n",
        "# 문제3: 1000 미만의 자연수에서 3의 배수와 5의 배수의 총합을 구하는 프로그램을 작성\n",
        "sum(range(0, 1000, 3)) + sum(range(0, 1000, 5)) - sum(range(0, 1000, 15))\n",
        "s = 0\n",
        "for i in range(1000):\n",
        "    if i % 3 == 0 or i % 5 == 0:\n",
        "        s += i\n",
        "s"
      ]
    },
    {
      "cell_type": "code",
      "execution_count": 20,
      "metadata": {
        "colab": {
          "base_uri": "https://localhost:8080/"
        },
        "id": "RIS-K1FiLKN8",
        "outputId": "4dd84d69-f0fc-4355-f476-4bd31e14f706"
      },
      "outputs": [
        {
          "name": "stdout",
          "output_type": "stream",
          "text": [
            "[1, 2, 3, 4, 5, 6, 7, 8, 9]\n",
            "45\n"
          ]
        }
      ],
      "source": [
        "m = [[1,2,3],[4,5,6],[7,8,9]]\n",
        "print(sum(m,[]))\n",
        "print(sum(sum(m,[])))"
      ]
    },
    {
      "cell_type": "code",
      "execution_count": null,
      "metadata": {
        "id": "EKuCnFOhQzBn"
      },
      "outputs": [],
      "source": [
        "# 문제5: 자주 나오는 알파벳과 알파벳 갯수를 많이 나오는 순서대로 출력하세요.\n",
        "import collections\n",
        "\n",
        "s = \"Hello, World! This is a sample string for testing purposes.\"\n",
        "# 방법1\n",
        "# s = s.replace(',', '').replace('!', '').replace('.', '').replace(' ', '')\n",
        "\n",
        "# 방법2\n",
        "# table = str.maketrans(',!.', '   ')\n",
        "# s = s.translate(table).replace(' ', '')\n",
        "\n",
        "# 방법3\n",
        "table = str.maketrans('', '', ',!. ')\n",
        "s = s.translate(table)\n",
        "\n",
        "c = collections.Counter(s)\n",
        "c.most_common"
      ]
    },
    {
      "cell_type": "code",
      "execution_count": null,
      "metadata": {
        "id": "ek14GGrIQ2Ko"
      },
      "outputs": [],
      "source": [
        "d = {}\n",
        "s = \"Hello, World! This is a sample string for testing purposes.\"\n",
        "s = s.replace(',', '').replace('!', '').replace('.', '').replace(' ', '')\n",
        "\n",
        "# 풀이1, 순회를 돌면서 dict에 있으면 += 1, 없으면 =1 대입하면서 푼다\n",
        "for i in s:\n",
        "    if i in d:\n",
        "        d[i] += 1\n",
        "    else:\n",
        "        d[i] = 1\n",
        "d\n",
        "\n",
        "# 풀이2, set으로 만들어서 count를 한다.\n",
        "s = \"Hello, World! This is a sample string for testing purposes.\"\n",
        "for i in set(s):\n",
        "    d[i] = s.count(i) #카운트는 원본 s에서 하는 것이 포인트\n",
        "d"
      ]
    },
    {
      "cell_type": "code",
      "execution_count": 29,
      "metadata": {
        "colab": {
          "base_uri": "https://localhost:8080/"
        },
        "id": "scbsf00MQ9zB",
        "outputId": "9f35c7d0-cbf4-454e-c74f-001c8cf14cdd"
      },
      "outputs": [
        {
          "name": "stdout",
          "output_type": "stream",
          "text": [
            "         *\n",
            "        ***\n",
            "       *****\n",
            "      *******\n",
            "     *********\n",
            "    ***********\n",
            "   *************\n",
            "  ***************\n",
            " *****************\n"
          ]
        }
      ],
      "source": [
        "#문제6 트리 만들기\n",
        "\n",
        "for i in range(1,10):\n",
        "    print(' '*(10-i)+'*'*(i*2-1))"
      ]
    },
    {
      "cell_type": "code",
      "execution_count": 30,
      "metadata": {
        "colab": {
          "base_uri": "https://localhost:8080/"
        },
        "id": "WWiuTgdiR_eU",
        "outputId": "cccf8d03-9e83-4107-ccb3-efad31a7252d"
      },
      "outputs": [
        {
          "name": "stdout",
          "output_type": "stream",
          "text": [
            "        *         \n",
            "       ***        \n",
            "      *****       \n",
            "     *******      \n",
            "    *********     \n",
            "   ***********    \n",
            "  *************   \n",
            " ***************  \n",
            "***************** \n"
          ]
        }
      ],
      "source": [
        "for i in range(1, 10):\n",
        "    print(f\"{'*' * ((2 * i) - 1):^18}\")"
      ]
    },
    {
      "cell_type": "code",
      "execution_count": 77,
      "metadata": {
        "colab": {
          "base_uri": "https://localhost:8080/"
        },
        "id": "jAs3zL9dXCLi",
        "outputId": "dd2919b1-bb82-4d19-ddbc-a41d4ca77be6"
      },
      "outputs": [
        {
          "name": "stdout",
          "output_type": "stream",
          "text": [
            "[4, 6, 9, 11]\n",
            "[1, 2, 3, 4]\n",
            "[3, 8, 18, 28]\n"
          ]
        }
      ],
      "source": [
        "# 다음 자료구조 클래스를 만들어주세요.\n",
        "# 데이터는 <1, 2, 3, 4> 형식으로 숫자만 저장됩니다.\n",
        "# print()를 하면 <1, 2, 3, 4>와 같이 출력이 되어야 합니다.\n",
        "# 메서드는 append, remove가 있습니다.\n",
        "# 아래 연산은 길이가 다르면 error가 납니다.\n",
        "# 나누기 연산은 지원하지 않습니다.\n",
        "# <1, 2, 3, 4> + <1, 2, 3 ,4> == <2, 4, 6, 8>와 같이 같은 순서에 요소를 더합니다.\n",
        "# <1, 2, 3, 4> - <1, 2, 1 ,2> == <0, 0, 2, 2>와 같이 같은 순서에 요소를 뺍니다.\n",
        "# <1, 2, 3, 4> * 3 == <3, 6, 9, 12>가 됩니다.\n",
        "\n",
        "class OperList:\n",
        "\n",
        "    def __init__(self,*args):\n",
        "        self.list = list(args)\n",
        "\n",
        "\n",
        "    def __repr__(self):\n",
        "        return('<'+str(self.list)[1:-1]+ '>')\n",
        "    def __str__(self):\n",
        "        return('<'+str(self.list)[1:-1]+ '>')\n",
        "\n",
        "    def append(self,args):\n",
        "        self.list.append(args)\n",
        "\n",
        "    def remove(self,args):\n",
        "        self.list.remove(args)\n",
        "\n",
        "    def __len__(self):\n",
        "        return self.list.__len__()\n",
        "\n",
        "\n",
        "\n",
        "\n",
        "\n",
        "    def __add__(self, other):\n",
        "        if len(self.list) != len(other.list):\n",
        "            raise\n",
        "        for i in range(len(self.list)):\n",
        "            self.list[i] += other.list[i]\n",
        "        return self.list\n",
        "    def __sub__(self, other):\n",
        "        if len(self.list) != len(other.list):\n",
        "            raise\n",
        "        for i in range(len(self.list)):\n",
        "            self.list[i] -= other.list[i]\n",
        "        return self.list\n",
        "    def __mul__(self, other):\n",
        "        if len(self.list) != len(other.list):\n",
        "            raise\n",
        "        for i in range(len(self.list)):\n",
        "            self.list[i] *= other.list[i]\n",
        "        return self.list\n",
        "\n",
        "\n",
        "\n",
        "\n",
        "\n",
        "l = OperList(1, 2, 3, 4)\n",
        "ll = OperList(3, 4, 6, 7)\n",
        "\n",
        "print(l + ll)\n",
        "print(l - ll)\n",
        "print(l * ll)\n",
        "\n",
        "\n",
        "\n",
        "# + - * 기호는 그냥 add,sub,mul로 써도 알아서 인식된다.\n",
        "# append와 remove를 쓸 때, self.list = self.list.remove(n) 이라고 써서 None이 나왔는데, 이거 때문에 당황했었다.\n"
      ]
    },
    {
      "cell_type": "code",
      "execution_count": null,
      "metadata": {
        "id": "LI9xgqcXfhJW"
      },
      "outputs": [],
      "source": [
        "class OperList:\n",
        "    def __init__(self, *args):\n",
        "        self.__operlist = list(args)\n",
        "\n",
        "    def __str__(self):\n",
        "        return f'<{str(self.__operlist)[1:-1]}>'\n",
        "\n",
        "    def __repr__(self):\n",
        "        return f'<{str(self.__operlist)[1:-1]}>'\n",
        "\n",
        "    def __len__(self):\n",
        "        return self.__operlist.__len__()\n",
        "\n",
        "    def __add__(self, other):\n",
        "        if len(self.__operlist) != len(other.__operlist):\n",
        "            raise\n",
        "        for i in range(len(self.__operlist)):\n",
        "            self.__operlist[i] += other.__operlist[i]\n",
        "        return self.__operlist\n",
        "\n",
        "    def __sub__(self, other):\n",
        "        if len(self.__operlist) != len(other.__operlist):\n",
        "            raise\n",
        "        for i in range(len(self.__operlist)):\n",
        "            self.__operlist[i] -= other.__operlist[i]\n",
        "        return self.__operlist\n",
        "\n",
        "    def __mul__(self, other):\n",
        "        if not isinstance(other, int):\n",
        "            raise\n",
        "        for i in range(len(self.__operlist)):\n",
        "            self.__operlist[i] *= other\n",
        "        return self.__operlist\n",
        "\n",
        "    def append(self, data):\n",
        "        self.__operlist.append(data)\n",
        "\n",
        "    def remove(self, data):\n",
        "        self.__operlist.remove(data)\n",
        "\n",
        "\n",
        "l = OperList(1, 2, 3, 4)\n",
        "ll = OperList(3, 4, 6, 7)\n",
        "# l + ll\n",
        "l * 2"
      ]
    },
    {
      "cell_type": "code",
      "execution_count": null,
      "metadata": {
        "id": "sKsWXSK0kd8G"
      },
      "outputs": [],
      "source": [
        "과제1:\n",
        "마지막 문제 손코딩(만약 여유가 되시면 좀 더 고도화 한 다음 손코딩 해주세요.)\n",
        "\n",
        "과제2:\n",
        "student.csv에는 아래와 같은 텍스트가 담겨있습니다.\n",
        "'''\n",
        "학년,반,번,이름,국어,영어,수학,사회\n",
        "3,3,1,licat,90,80,30,40\n",
        "3,3,2,mura,80,70,60,30\n",
        "3,3,3,binky,30,80,70,30\n",
        "'''\n",
        "학생들의 평균을 구해 아래와 같이 student.csv출력되게 해주세요.(xx이라 표기된 곳에 평균 값이 들어가야 합니다.)\n",
        "'''\n",
        "학년,반,번,이름,국어,영어,수학,사회,평균\n",
        "3,3,1,licat,90,80,30,40,xx\n",
        "3,3,2,mura,80,70,60,30,xx\n",
        "3,3,3,binky,30,80,70,30,xx\n",
        "'''"
      ]
    },
    {
      "cell_type": "code",
      "execution_count": 192,
      "metadata": {
        "id": "Ppvw_DuelVca"
      },
      "outputs": [],
      "source": [
        "f = open('student.csv','w')\n",
        "s = '학년,반,번,이름,국어,영어,수학,사회 \\n 3,3,1,licat,90,80,30,40 \\n 3,3,2,mura,80,70,60,30 \\n 3,3,3,binky,30,80,70,30 \\n'\n",
        "\n",
        "f.write(s)\n",
        "\n",
        "\n",
        "f.close()"
      ]
    },
    {
      "cell_type": "code",
      "execution_count": 193,
      "metadata": {
        "colab": {
          "base_uri": "https://localhost:8080/"
        },
        "id": "fG148l6Elag8",
        "outputId": "89c77942-6b2b-4288-ef80-f32d06c825f8"
      },
      "outputs": [
        {
          "name": "stdout",
          "output_type": "stream",
          "text": [
            "['학년,반,번,이름,국어,영어,수학,사회,평균 \\n', '3,3,1,licat,90,80,30,40,60.0\\n', '3,3,2,mura,80,70,60,30,60.0\\n', '3,3,3,binky,30,80,70,30,52.5\\n']\n"
          ]
        }
      ],
      "source": [
        "f = open('student.csv','r')\n",
        "tmp_line1= f.readline()\n",
        "\n",
        "new_z = []\n",
        "new_z.append(tmp_line1.strip()+(',평균 \\n'))\n",
        "\n",
        "z = []\n",
        "while True:\n",
        "    x = f.readline()\n",
        "    if not x:\n",
        "        break\n",
        "    x = x.strip()\n",
        "    z.append(x)\n",
        "\n",
        "for i in z:\n",
        "    list_z = i.split(',')\n",
        "    y = list_z[-4:]\n",
        "    sliced = map(int,y)\n",
        "    q = sum(sliced)/4\n",
        "    i = i+','+str(q)+'\\n'\n",
        "    new_z.append(i)\n",
        "print(new_z)\n",
        "f = open('student.csv','w')\n",
        "for i in new_z:\n",
        "    f.write(i)\n",
        "f.close()"
      ]
    },
    {
      "cell_type": "code",
      "execution_count": 139,
      "metadata": {
        "colab": {
          "base_uri": "https://localhost:8080/"
        },
        "id": "_lz70UQg2Dev",
        "outputId": "219719a8-5979-4c65-8243-85c454a9249f"
      },
      "outputs": [
        {
          "name": "stdout",
          "output_type": "stream",
          "text": [
            "['3', '3', '1', 'licat', '90', '80', '30', '40']\n"
          ]
        }
      ],
      "source": [
        "s = '3,3,1,licat,90,80,30,40'\n",
        "\n",
        "s = list(s.split(','))\n",
        "print(s)"
      ]
    }
  ],
  "metadata": {
    "colab": {
      "provenance": []
    },
    "kernelspec": {
      "display_name": "Python 3",
      "name": "python3"
    },
    "language_info": {
      "name": "python"
    }
  },
  "nbformat": 4,
  "nbformat_minor": 0
}
