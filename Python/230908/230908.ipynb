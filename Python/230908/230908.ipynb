{
  "nbformat": 4,
  "nbformat_minor": 0,
  "metadata": {
    "colab": {
      "provenance": [],
      "toc_visible": true
    },
    "kernelspec": {
      "name": "python3",
      "display_name": "Python 3"
    },
    "language_info": {
      "name": "python"
    }
  },
  "cells": [
    {
      "cell_type": "markdown",
      "source": [
        "# 주석"
      ],
      "metadata": {
        "id": "YgcYXYriKaxs"
      }
    },
    {
      "cell_type": "code",
      "execution_count": null,
      "metadata": {
        "id": "QTVi-pJe2xcW",
        "colab": {
          "base_uri": "https://localhost:8080/"
        },
        "outputId": "4cf09872-2990-4151-9638-6423db7dcbf4"
      },
      "outputs": [
        {
          "output_type": "stream",
          "name": "stdout",
          "text": [
            "hello world\n"
          ]
        }
      ],
      "source": [
        "#주석처리1\n",
        "print('hello world')  #주석처리2"
      ]
    },
    {
      "cell_type": "code",
      "source": [
        "'''\n",
        "여러줄 주석은 이렇게 합니다\n",
        "'''\n",
        "print('완료!')"
      ],
      "metadata": {
        "colab": {
          "base_uri": "https://localhost:8080/"
        },
        "id": "pMxgW5R2K3jt",
        "outputId": "849f8a23-d3df-45c3-e766-f8a56fe6adc2"
      },
      "execution_count": null,
      "outputs": [
        {
          "output_type": "stream",
          "name": "stdout",
          "text": [
            "완료!\n"
          ]
        }
      ]
    },
    {
      "cell_type": "code",
      "source": [
        "#PS 함수주석은 함수 내부에."
      ],
      "metadata": {
        "id": "ecr5zfKMKBWA"
      },
      "execution_count": null,
      "outputs": []
    },
    {
      "cell_type": "markdown",
      "source": [
        "# 입력과 출력"
      ],
      "metadata": {
        "id": "KT2xNUnWL-aX"
      }
    },
    {
      "cell_type": "code",
      "source": [
        "x = input()\n",
        "x+x"
      ],
      "metadata": {
        "colab": {
          "base_uri": "https://localhost:8080/",
          "height": 54
        },
        "id": "d3lL-yIjMB8F",
        "outputId": "fe6354e0-d373-4528-833a-8a83785b0198"
      },
      "execution_count": null,
      "outputs": [
        {
          "name": "stdout",
          "output_type": "stream",
          "text": [
            "10\n"
          ]
        },
        {
          "output_type": "execute_result",
          "data": {
            "text/plain": [
              "'1010'"
            ],
            "application/vnd.google.colaboratory.intrinsic+json": {
              "type": "string"
            }
          },
          "metadata": {},
          "execution_count": 9
        }
      ]
    },
    {
      "cell_type": "code",
      "source": [
        "x = 'hello'\n",
        "print(x)\n",
        "print(x,x)"
      ],
      "metadata": {
        "colab": {
          "base_uri": "https://localhost:8080/"
        },
        "id": "2gMiNOrNMRf2",
        "outputId": "61e27649-4088-4692-a1b4-951a97c8e061"
      },
      "execution_count": null,
      "outputs": [
        {
          "output_type": "stream",
          "name": "stdout",
          "text": [
            "hello\n",
            "hello hello\n"
          ]
        }
      ]
    },
    {
      "cell_type": "code",
      "source": [],
      "metadata": {
        "id": "EWfVFviAN5XA"
      },
      "execution_count": null,
      "outputs": []
    },
    {
      "cell_type": "markdown",
      "source": [
        "# 변수\n",
        "* Python에서 변수는 포스트잇이다. 값을 가리킨다."
      ],
      "metadata": {
        "id": "R-KiqnbTOZfU"
      }
    },
    {
      "cell_type": "code",
      "source": [
        "x = 'a'\n",
        "y = x\n",
        "z = y\n",
        "\n",
        "y='b'\n",
        "print (x,y,z)"
      ],
      "metadata": {
        "colab": {
          "base_uri": "https://localhost:8080/"
        },
        "id": "9cmWndOcOcAO",
        "outputId": "05fe54a6-fff5-49d4-acda-1793a77e16d3"
      },
      "execution_count": null,
      "outputs": [
        {
          "output_type": "stream",
          "name": "stdout",
          "text": [
            "a b a\n"
          ]
        }
      ]
    },
    {
      "cell_type": "code",
      "source": [
        "#2진수\n",
        "x = 0b110\n",
        "print(x)\n",
        "#8진수\n",
        "y = 0o110\n",
        "print(y)\n",
        "#16진수\n",
        "z = 0x111\n",
        "print(z)\n"
      ],
      "metadata": {
        "colab": {
          "base_uri": "https://localhost:8080/"
        },
        "id": "aD6W9eTuar7K",
        "outputId": "3b04e44c-54c3-4ca6-95fd-dc0e97628823"
      },
      "execution_count": null,
      "outputs": [
        {
          "output_type": "stream",
          "name": "stdout",
          "text": [
            "6\n",
            "72\n",
            "273\n"
          ]
        }
      ]
    },
    {
      "cell_type": "code",
      "source": [
        "x = 1.0\n",
        "y = 1.0\n",
        "z = x\n",
        "print(x,y,z)\n",
        "print(type(x))\n",
        "print(type(y))\n",
        "print(type(z))\n",
        "id(x),id(y),id(z)"
      ],
      "metadata": {
        "colab": {
          "base_uri": "https://localhost:8080/"
        },
        "id": "DcNPIJLWis88",
        "outputId": "8ba742f8-436b-4566-98e5-40540beccc9e"
      },
      "execution_count": null,
      "outputs": [
        {
          "output_type": "stream",
          "name": "stdout",
          "text": [
            "1.0 1.0 1.0\n",
            "<class 'float'>\n",
            "<class 'float'>\n",
            "<class 'float'>\n"
          ]
        },
        {
          "output_type": "execute_result",
          "data": {
            "text/plain": [
              "(135926972085136, 135926495315568, 135926972085136)"
            ]
          },
          "metadata": {},
          "execution_count": 33
        }
      ]
    },
    {
      "cell_type": "code",
      "source": [
        "a = 'hello world'\n",
        "a = \"hello world\"\n",
        "a = '''hello world'''\n",
        "a = \"\"\"hello world\"\"\"\n"
      ],
      "metadata": {
        "id": "2-emWpcKpOXq"
      },
      "execution_count": null,
      "outputs": []
    },
    {
      "cell_type": "code",
      "source": [
        "#문제 : '010-1000-2000'을 입력받아 01010002000으로 출력하기\n",
        "a = ''.join('010-1000-2000'.split('-'))\n",
        "a"
      ],
      "metadata": {
        "colab": {
          "base_uri": "https://localhost:8080/",
          "height": 35
        },
        "id": "j0vc0Ut1M5m5",
        "outputId": "30095ee0-f3a5-41e0-fd70-e2dfe1929469"
      },
      "execution_count": null,
      "outputs": [
        {
          "output_type": "execute_result",
          "data": {
            "text/plain": [
              "'01010002000'"
            ],
            "application/vnd.google.colaboratory.intrinsic+json": {
              "type": "string"
            }
          },
          "metadata": {},
          "execution_count": 5
        }
      ]
    },
    {
      "cell_type": "code",
      "source": [
        "name = 'yoon'\n",
        "age = 10\n",
        "\n",
        "print('내 이름은 %s' %name) #구식 format\n",
        "print('내 이름은 {} 내 나이는 {}'.format(name,age)) #format은 String의 메소드\n",
        "print(f'내 이름은 {name} 내 나이는 {age}') #최신 format - 가장 권고됨\n"
      ],
      "metadata": {
        "colab": {
          "base_uri": "https://localhost:8080/"
        },
        "id": "egSpOyYyOEAb",
        "outputId": "63fd49d8-e5a6-4e34-81c8-947963e27639"
      },
      "execution_count": null,
      "outputs": [
        {
          "output_type": "stream",
          "name": "stdout",
          "text": [
            "내 이름은 yoon\n",
            "내 이름은 yoon 내 나이는 10\n",
            "내 이름은 yoon 내 나이는 10\n"
          ]
        }
      ]
    },
    {
      "cell_type": "markdown",
      "source": [
        "연습문제 풀이\n",
        "-https://school.programmers.co.kr/learn/courses/30/lessons/17681?language=python3"
      ],
      "metadata": {
        "id": "lqQCDfMMXcTe"
      }
    },
    {
      "cell_type": "code",
      "source": [
        "n = 5\n",
        "arr1 = [9, 20, 28, 18, 11]\n",
        "arr2 = [30, 1, 21, 17, 28]\n",
        "\n",
        "#1. 2진수는 정수형이다\n",
        "#2. 다만 bin()는 문자열이다\n",
        "\n",
        "x = bin(arr1[0] | arr2[0])\n",
        "x1 = x[2:]\n",
        "x2 = x1.replace('1','#').replace('0',' ')\n",
        "x2\n",
        "\n",
        "# 여기서 3 같은 경우 자릿수가 꽉차지 않을 수 있으니, zfill을 써야한다. <- 이 문제를 소개한 이유!\n"
      ],
      "metadata": {
        "colab": {
          "base_uri": "https://localhost:8080/",
          "height": 35
        },
        "id": "90WaX8EtaPUA",
        "outputId": "67e7a1b6-8707-41ea-9a8a-4d9d6216fc53"
      },
      "execution_count": null,
      "outputs": [
        {
          "output_type": "execute_result",
          "data": {
            "text/plain": [
              "'#####'"
            ],
            "application/vnd.google.colaboratory.intrinsic+json": {
              "type": "string"
            }
          },
          "metadata": {},
          "execution_count": 21
        }
      ]
    },
    {
      "cell_type": "code",
      "source": [
        "연습문제2"
      ],
      "metadata": {
        "id": "V-t2A7GPePiK"
      },
      "execution_count": null,
      "outputs": []
    },
    {
      "cell_type": "code",
      "source": [
        "#336699 = 6번\n",
        "#123123 = 2번\n",
        "# 36913699 == 몇번?\n",
        "\n",
        "s = '36913699'\n",
        "x = s.count('3') + s.count('6') + s.count('9')\n",
        "x"
      ],
      "metadata": {
        "colab": {
          "base_uri": "https://localhost:8080/"
        },
        "id": "eH1EIialeJU_",
        "outputId": "1f41b64e-faec-4f20-ccc4-566c87fbfd6a"
      },
      "execution_count": null,
      "outputs": [
        {
          "output_type": "execute_result",
          "data": {
            "text/plain": [
              "7"
            ]
          },
          "metadata": {},
          "execution_count": 27
        }
      ]
    },
    {
      "cell_type": "code",
      "source": [
        "# 심화\n",
        "# 제시된 숫자 N 까지 총 박수친 횟수?\n",
        "# n = 100\n",
        "\n",
        "s = str(list(range(101)))\n",
        "x = ''.join(s).replace(',','')\n",
        "# ans = x.count('3') + x.count('6') + x.count('9')\n",
        "# ans\n",
        "s.count('3')"
      ],
      "metadata": {
        "colab": {
          "base_uri": "https://localhost:8080/"
        },
        "id": "dCiJco9-fwK3",
        "outputId": "6f74dda5-1b61-4d49-cc3d-f60d4bf1587b"
      },
      "execution_count": null,
      "outputs": [
        {
          "output_type": "execute_result",
          "data": {
            "text/plain": [
              "20"
            ]
          },
          "metadata": {},
          "execution_count": 35
        }
      ]
    },
    {
      "cell_type": "markdown",
      "source": [
        "# 추가 연습문제\n",
        "\n",
        "https://school.programmers.co.kr/learn/courses/30/lessons/72410"
      ],
      "metadata": {
        "id": "yRqomW3nqL5W"
      }
    },
    {
      "cell_type": "code",
      "source": [
        "'''\n",
        "문제1 문자열 s의 마지막 문자를 2번 더 반복하기\n",
        "ex)\n",
        "s='jun'\n",
        "s = 'junnn'\n",
        "\n",
        "문제2 대문자는 소문자로 치환하기\n",
        "ex)\n",
        "s = 'Jun'\n",
        "s = 'jun'\n",
        "\n",
        "문제3 'abcde',숫자,대쉬(-),언더스코어(_) 전부 제거하기\n",
        "ex)\n",
        "s = 'hello_world123'\n",
        "s = 'hlloworl'\n",
        "'''\n",
        "\n",
        "# s = 'juffas'\n",
        "# s = s+ s[-1]*2\n",
        "# s\n",
        "\n",
        "\n",
        "\n",
        "# s = 'yOON1_3-2'\n",
        "# s = s.lower()\n",
        "# s\n",
        "\n",
        "\n",
        "# translate를 써서 변환 후 replace로 공백 제거\n",
        "# table = str.maketrans('abcde01234567890_-','                  ')\n",
        "\n",
        "s = 'hello_world123'\n",
        "# s = s.translate(table)\n",
        "# s = s.replace(' ','')\n",
        "\n",
        "#maketranse의 인자를 더 주면 공백지우기를 안해도 된다\n",
        "# table = str.maketrans('','','abcde01234567890_-')\n",
        "\n",
        "\n",
        "# for문을 안쓰고 replace 연타 하는 방법\n",
        "s = s.replace('_','').replace('-','').replace(' ','').replace('1','').replace('2','').replace('3','').replace('4','').replace('5','').replace('6','').replace('7','').replace('8','').replace('9','').replace('0','').replace('a','').replace('b','').replace('c','').replace('d','').replace('e','')\n"
      ],
      "metadata": {
        "colab": {
          "base_uri": "https://localhost:8080/",
          "height": 35
        },
        "id": "nJhFLBeqqOYe",
        "outputId": "00a71ac4-5dc3-4dce-9a2b-5b6092128644"
      },
      "execution_count": 70,
      "outputs": [
        {
          "output_type": "execute_result",
          "data": {
            "text/plain": [
              "'hlloworl'"
            ],
            "application/vnd.google.colaboratory.intrinsic+json": {
              "type": "string"
            }
          },
          "metadata": {},
          "execution_count": 70
        }
      ]
    }
  ]
}