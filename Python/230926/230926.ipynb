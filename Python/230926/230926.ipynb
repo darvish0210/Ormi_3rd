{
  "nbformat": 4,
  "nbformat_minor": 0,
  "metadata": {
    "colab": {
      "provenance": []
    },
    "kernelspec": {
      "name": "python3",
      "display_name": "Python 3"
    },
    "language_info": {
      "name": "python"
    }
  },
  "cells": [
    {
      "cell_type": "code",
      "execution_count": 8,
      "metadata": {
        "colab": {
          "base_uri": "https://localhost:8080/"
        },
        "id": "vLJ8L9Gi0mYM",
        "outputId": "60c8b385-7787-458d-dcad-59511fcb7c60"
      },
      "outputs": [
        {
          "output_type": "stream",
          "name": "stdout",
          "text": [
            "{'data': 12, 'next': {'data': 99, 'next': {'data': 37, 'next': None}}}\n",
            "12\n",
            "37\n"
          ]
        }
      ],
      "source": [
        "#큐(Queue)\n",
        "\n",
        "#먼저 들어간 데이터가 먼저 나옴\n",
        "\n",
        "#연결 리스트 (Linked List)\n",
        "\n",
        "# 왜 쓰는가? : 빠르고, 다른 자료구조를 구현하는데 밑바탕이 된다\n",
        "\n",
        "l_list = {\n",
        "    'head':{\n",
        "        'data':12,\n",
        "        'next':{\n",
        "            'data':99,\n",
        "            'next':{\n",
        "                'data':37,\n",
        "                'next':None\n",
        "            }\n",
        "        }\n",
        "    }\n",
        "}\n",
        "print(l_list['head'])\n",
        "print(l_list['head']['data'])\n",
        "print(l_list['head']['next']['next']['data'])\n",
        "\n",
        "\n",
        "\n"
      ]
    },
    {
      "cell_type": "code",
      "source": [
        "# head -> [90, next] -> [2, next] -> [77, next] -> [35, next] -> [21, next] -> None\n",
        "# print 35?\n",
        "l_list = {\n",
        "    'head':{\n",
        "        'data':90,\n",
        "        'next':{\n",
        "            'data':2,\n",
        "            'next':{\n",
        "                'data':77,\n",
        "                'next':{\n",
        "                    'data':35,\n",
        "                    'next':{\n",
        "                        'data':21,\n",
        "                        'next':None\n",
        "                    }\n",
        "                }\n",
        "\n",
        "            }\n",
        "        }\n",
        "    }\n",
        "}\n",
        "\n",
        "print(l_list['head']['next']['next']['next']['data'])"
      ],
      "metadata": {
        "colab": {
          "base_uri": "https://localhost:8080/"
        },
        "id": "fHajAOug74Gr",
        "outputId": "0977ec62-557b-4834-93e0-2f70487fdbb3"
      },
      "execution_count": 11,
      "outputs": [
        {
          "output_type": "stream",
          "name": "stdout",
          "text": [
            "35\n"
          ]
        }
      ]
    },
    {
      "cell_type": "code",
      "source": [
        "# head -> [90, next] -> [2, next] -> [77, next] -> [35, next] -> [21, next] -> None\n",
        "linked_list = {}\n",
        "node1 = {'data': 90, 'next': None} # 이제 이것을 인스턴스로 만들겁니다!\n",
        "node2 = {'data': 2, 'next': None}\n",
        "node3 = {'data': 77, 'next': None}\n",
        "node4 = {'data': 35, 'next': None}\n",
        "node5 = {'data': 21, 'next': None}\n",
        "\n",
        "node1['next'] = node2\n",
        "node2['next'] = node3\n",
        "node3['next'] = node4\n",
        "node4['next'] = node5\n",
        "\n",
        "linked_list['head'] = node1\n",
        "\n",
        "linked_list['head']['next']['next']['next']['data']"
      ],
      "metadata": {
        "colab": {
          "base_uri": "https://localhost:8080/"
        },
        "id": "RjDagljZAz38",
        "outputId": "2ca77ec9-1b8b-4de1-f1ad-3b98a9ea55af"
      },
      "execution_count": 12,
      "outputs": [
        {
          "output_type": "execute_result",
          "data": {
            "text/plain": [
              "35"
            ]
          },
          "metadata": {},
          "execution_count": 12
        }
      ]
    },
    {
      "cell_type": "code",
      "source": [
        "class Node:\n",
        "    def __init__(self,data):\n",
        "        self.data = data\n",
        "        self.next = None\n",
        "\n",
        "head = Node('head')\n",
        "node1 = Node(90)\n",
        "node2 = Node(2)\n",
        "node3 = Node(77)\n",
        "node4 = Node(35)\n",
        "node5 = Node(21)\n",
        "\n",
        "head.next = node1\n",
        "node1.next = node2\n",
        "node2.next = node3\n",
        "node3.next = node4\n",
        "node4.next = node5\n",
        "\n",
        "head.next.next.next.next.data"
      ],
      "metadata": {
        "colab": {
          "base_uri": "https://localhost:8080/"
        },
        "id": "kUEm6ozEBiMT",
        "outputId": "ee8ef64d-7407-4e37-d7c3-486e4013f3a5"
      },
      "execution_count": 14,
      "outputs": [
        {
          "output_type": "execute_result",
          "data": {
            "text/plain": [
              "35"
            ]
          },
          "metadata": {},
          "execution_count": 14
        }
      ]
    },
    {
      "cell_type": "code",
      "source": [
        "# 메서드 추가해볼게요!\n",
        "# pop, find\n",
        "\n",
        "class Node:\n",
        "    def __init__(self, data):\n",
        "        self.data = data\n",
        "        self.next = None\n",
        "\n",
        "class LinkedList: # list, tuple, dict처럼 하나에 자료형을 만드는 것입니다!\n",
        "    def __init__(self):\n",
        "        init = Node('init')\n",
        "        self.head = init\n",
        "        self.tail = init\n",
        "        self.count = 0\n",
        "\n",
        "    def __len__(self):\n",
        "        return self.count\n",
        "\n",
        "    def __getitem__(self, index):\n",
        "        current = self.head.next\n",
        "        for _ in range(index):\n",
        "            current = current.next\n",
        "        return current.data\n",
        "\n",
        "    def __str__(self):\n",
        "        current = self.head.next\n",
        "        result = ''\n",
        "        for _ in range(self.count):\n",
        "            result += f'{str(current.data)}, '\n",
        "            current = current.next\n",
        "        return f'<{result[:-2]}>'\n",
        "\n",
        "    def __repr__(self):\n",
        "        current = self.head.next\n",
        "        result = ''\n",
        "        for _ in range(self.count):\n",
        "            result += f'{str(current.data)}, '\n",
        "            current = current.next\n",
        "        return f'<{result[:-2]}>'\n",
        "\n",
        "    def append(self, data):\n",
        "        new_node = Node(data)\n",
        "        self.count += 1\n",
        "        self.tail.next = new_node # 처음에는 Node('init').next\n",
        "        self.tail = new_node\n",
        "\n",
        "    def pop(self):\n",
        "        if self.count == 0:\n",
        "            raise IndexError('pop from empty list')\n",
        "        last_node_data = self.tail.data\n",
        "        current = self.head.next\n",
        "        for _ in range(self.count):\n",
        "            if current.next is self.tail:\n",
        "                self.tail = current\n",
        "                break\n",
        "            current = current.next\n",
        "        self.count -= 1\n",
        "        return last_node_data\n",
        "\n",
        "    def find(self):\n",
        "        if self.count == 0:\n",
        "            return -1\n",
        "        current = self.head.next\n",
        "        for _ in range(self.count):\n",
        "            current = current.next\n",
        "\n",
        "\n",
        "l = LinkedList()\n",
        "l.append(10)\n",
        "l.append(20)\n",
        "l.append(30)\n",
        "l.append(40)\n",
        "\n",
        "len(l)\n",
        "print(l) # 출력: <10, 20, 30, 40>\n",
        "l[2]\n",
        "\n",
        "print(l.pop()) # 출력: 40\n",
        "print(l) # 출력: <10, 20, 30>\n",
        "\n",
        "print(l.pop()) # 출력: 30\n",
        "print(l) # 출력: <10, 20>\n",
        "\n",
        "print(l.pop()) # 출력: 20\n",
        "print(l) # 출력: <10>\n",
        "len(l)\n",
        "\n",
        "# error 확인\n",
        "print(l.pop())\n",
        "print(l)\n",
        "\n",
        "# print(l.pop())\n",
        "# print(l)"
      ],
      "metadata": {
        "colab": {
          "base_uri": "https://localhost:8080/"
        },
        "id": "GFyaUiYFWpE4",
        "outputId": "c6bca59a-aad8-4132-b6e9-c115f402e941"
      },
      "execution_count": 32,
      "outputs": [
        {
          "output_type": "stream",
          "name": "stdout",
          "text": [
            "<10, 20, 30, 40>\n",
            "40\n",
            "<10, 20, 30>\n",
            "30\n",
            "<10, 20>\n",
            "20\n",
            "<10>\n",
            "10\n",
            "<>\n"
          ]
        }
      ]
    },
    {
      "cell_type": "code",
      "source": [
        "# __iter__, insert 메소드는 과제 (순회, 삽입)"
      ],
      "metadata": {
        "id": "59c2ijG-YtoN"
      },
      "execution_count": null,
      "outputs": []
    },
    {
      "cell_type": "code",
      "source": [
        "# https://school.programmers.co.kr/learn/courses/30/lessons/120807\n",
        "# 숫자 비교\n",
        "# 정수 num1과 num2가 매개변수로 주어집니다.\n",
        "# 두 수가 같으면 1 다르면 -1을 retrun하도록 solution 함수를 완성해주세요.\n",
        "\n",
        "solution = lambda num1, num2: 1 if num1 == num2 else -1\n",
        "solution(10, 20)"
      ],
      "metadata": {
        "id": "rXPpN5B2uaZu"
      },
      "execution_count": null,
      "outputs": []
    },
    {
      "cell_type": "code",
      "source": [
        "# https://school.programmers.co.kr/learn/courses/30/lessons/120583\n",
        "# 중복된 숫자 개수\n",
        "# 문자열이 s로 주어졌을 때 가장 많이 나온 문자의 수와\n",
        "# 두번째로 나온 많이 나온 문자의 수 차는 얼마인가?\n",
        "# 예를 들어 'abcccdeef'\n",
        "# ccc => 3번\n",
        "# ee => 2번\n",
        "# 3 - 2 = 1\n",
        "s = 'abcccdeef'\n",
        "result = {}\n",
        "for i in set(s):\n",
        "    result[i] = s.count(i)\n",
        "# result\n",
        "\n",
        "sorted(result.items(), key=lambda x:x[1], reverse=True)"
      ],
      "metadata": {
        "colab": {
          "base_uri": "https://localhost:8080/"
        },
        "id": "21CBZuq3tDaa",
        "outputId": "9a6b4938-31fd-4b92-dde3-a874f93c5ce1"
      },
      "execution_count": 34,
      "outputs": [
        {
          "output_type": "execute_result",
          "data": {
            "text/plain": [
              "[('c', 3), ('e', 2), ('a', 1), ('f', 1), ('d', 1), ('b', 1)]"
            ]
          },
          "metadata": {},
          "execution_count": 34
        }
      ]
    },
    {
      "cell_type": "code",
      "source": [
        "import collections\n",
        "\n",
        "s = collections.Counter('abcccdeef')\n",
        "s.most_common()"
      ],
      "metadata": {
        "id": "qJMzXYwFuT2A"
      },
      "execution_count": null,
      "outputs": []
    },
    {
      "cell_type": "code",
      "source": [
        "# https://school.programmers.co.kr/learn/courses/30/lessons/120585\n",
        "# 키큰사람\n",
        "\n",
        "# 같은 값이 있었을 경우\n",
        "x = 15\n",
        "for num, value in enumerate(sorted([10, 20, 30, 40, 15, 15, 15, 15, 11, 12, 19])):\n",
        "    if value >= 15:\n",
        "        print(num)\n",
        "        break"
      ],
      "metadata": {
        "colab": {
          "base_uri": "https://localhost:8080/"
        },
        "id": "GDvgRJfCut58",
        "outputId": "8c5fd22f-598e-49e3-bdfe-6b7e17d0e8bf"
      },
      "execution_count": 35,
      "outputs": [
        {
          "output_type": "stream",
          "name": "stdout",
          "text": [
            "3\n"
          ]
        }
      ]
    },
    {
      "cell_type": "code",
      "source": [
        "# https://school.programmers.co.kr/learn/courses/30/lessons/120906\n",
        "# 자리수 더하기\n",
        "N = 930211\n",
        "ans = 0\n",
        "\n",
        "for i in str(N):\n",
        "    ans+=int(i)\n",
        "print(ans)\n",
        "\n",
        "print(sum(map(int,str(N))))"
      ],
      "metadata": {
        "colab": {
          "base_uri": "https://localhost:8080/"
        },
        "id": "t7elfziOxEC0",
        "outputId": "35f7ac1d-734c-4e40-f0c5-f10c36554a4a"
      },
      "execution_count": 40,
      "outputs": [
        {
          "output_type": "stream",
          "name": "stdout",
          "text": [
            "16\n"
          ]
        },
        {
          "output_type": "execute_result",
          "data": {
            "text/plain": [
              "16"
            ]
          },
          "metadata": {},
          "execution_count": 40
        }
      ]
    },
    {
      "cell_type": "code",
      "source": [
        "# https://school.programmers.co.kr/learn/courses/30/lessons/120844\n",
        "# 배열 회전시키기\n",
        "\n",
        "l = [1,2,3,4,5,6,7,8,9]\n",
        "\n",
        "x = [l[-1]]+l[:-1]\n",
        "print(x)\n",
        "l.insert(0,l.pop())\n",
        "print(l)"
      ],
      "metadata": {
        "colab": {
          "base_uri": "https://localhost:8080/"
        },
        "id": "agK_a_a_x_Im",
        "outputId": "5f6f95fc-f56c-4f22-ccfe-e9611a39f011"
      },
      "execution_count": 46,
      "outputs": [
        {
          "output_type": "stream",
          "name": "stdout",
          "text": [
            "[9, 1, 2, 3, 4, 5, 6, 7, 8]\n",
            "[9, 1, 2, 3, 4, 5, 6, 7, 8]\n"
          ]
        }
      ]
    },
    {
      "cell_type": "code",
      "source": [
        "#콜렉션 모듈\n",
        "import collections\n",
        "\n",
        "y = [1,2,3,4,5,6]\n",
        "d = collections.deque(y,maxlen=6) # maxlen을 쓰면 알아서 사라지게?도 될듯?\n",
        "\n",
        "# d.append\n",
        "# d.appendleft\n",
        "# d.extend\n",
        "# d.extendleft\n",
        "\n",
        "d.append(10)\n",
        "\n",
        "# d.rotate(1) 회전 가능\n",
        "\n",
        "print(d)\n"
      ],
      "metadata": {
        "colab": {
          "base_uri": "https://localhost:8080/"
        },
        "id": "0dAZtA75zdLi",
        "outputId": "d12db1e7-81a5-41ea-ee69-d0321cb62047"
      },
      "execution_count": 51,
      "outputs": [
        {
          "output_type": "stream",
          "name": "stdout",
          "text": [
            "deque([2, 3, 4, 5, 6, 10], maxlen=6)\n"
          ]
        },
        {
          "output_type": "execute_result",
          "data": {
            "text/plain": [
              "[2, 3, 4, 5, 6, 10]"
            ]
          },
          "metadata": {},
          "execution_count": 51
        }
      ]
    },
    {
      "cell_type": "code",
      "source": [
        "# https://school.programmers.co.kr/learn/courses/30/lessons/120864\n",
        "# 숨어있는 숫자의 덧셈2\n",
        "import re\n",
        "def solution(my_string):\n",
        "    answer = 0\n",
        "    p = re.compile(r'[\\d]{1,4}')\n",
        "    answer = sum(map(int,p.findall(my_string)))\n",
        "    return answer\n",
        "\n"
      ],
      "metadata": {
        "colab": {
          "base_uri": "https://localhost:8080/"
        },
        "id": "Unsz23VZ0fFC",
        "outputId": "07b04b90-08ab-4abe-f100-fd19458bf347"
      },
      "execution_count": 66,
      "outputs": [
        {
          "output_type": "execute_result",
          "data": {
            "text/plain": [
              "37"
            ]
          },
          "metadata": {},
          "execution_count": 66
        }
      ]
    },
    {
      "cell_type": "code",
      "source": [
        "# 트리 기본\n",
        "\n",
        "t = {\n",
        "    'root': {\n",
        "        'value': 5,\n",
        "        'left': {\n",
        "            'value': 3,\n",
        "            'left': None,\n",
        "            'right': None\n",
        "        },\n",
        "        'right': {\n",
        "            'value': 8,\n",
        "            'left': {\n",
        "                'value': 7,\n",
        "                'left': None,\n",
        "                'right': None\n",
        "            },\n",
        "            'right': {\n",
        "                'value': 9,\n",
        "                'left': None,\n",
        "                'right': None\n",
        "            }\n",
        "        }\n",
        "    }\n",
        "}\n",
        "t['root']['value']"
      ],
      "metadata": {
        "colab": {
          "base_uri": "https://localhost:8080/"
        },
        "id": "dmh1l0cxB4gi",
        "outputId": "edc40a6e-4777-4b69-9e72-1bc9702bd17e"
      },
      "execution_count": 67,
      "outputs": [
        {
          "output_type": "execute_result",
          "data": {
            "text/plain": [
              "5"
            ]
          },
          "metadata": {},
          "execution_count": 67
        }
      ]
    },
    {
      "cell_type": "code",
      "source": [
        "# 간소화를 한 tree입니다.\n",
        "# linked list와 마찬가지로 완벽한 자료구조를 만드려면 시간이 걸립니다.\n",
        "class Node:\n",
        "    def __init__(self, value):\n",
        "        self.value = value\n",
        "        self.left = None\n",
        "        self.right = None\n",
        "\n",
        "\n",
        "class Tree:\n",
        "    def __init__(self, data):\n",
        "        init = Node(data)\n",
        "        self.root = init\n",
        "        self.count = 1\n",
        "\n",
        "    def __len__(self):\n",
        "        return self.count\n",
        "\n",
        "    def insert(self, data):\n",
        "        new_node = Node(data)\n",
        "        current_node = self.root\n",
        "        while current_node:\n",
        "            if data == current_node.value: # 같은 데이터 만나면 넣어주지 않습니다!\n",
        "                return\n",
        "            elif data < current_node.value:\n",
        "                if not current_node.left: # 왼쪽으로 갔더니 비어있는 경우!\n",
        "                    current_node.left = new_node\n",
        "                    self.count += 1\n",
        "                    return\n",
        "                current_node = current_node.left\n",
        "            elif data > current_node.value:\n",
        "                if not current_node.right: # 오른쪽으로 갔더니 비어있는 경우!\n",
        "                    current_node.right = new_node\n",
        "                    self.count += 1\n",
        "                    return\n",
        "                current_node = current_node.right\n",
        "    # 깊스너큐\n",
        "\n",
        "    def DFS(self):\n",
        "        #깊이 우선 탐색 Depth First Search\n",
        "        #Stack\n",
        "        result = []\n",
        "        stack = [self.root]\n",
        "\n",
        "        while stack:\n",
        "            current = stack.pop()\n",
        "            if current.right:\n",
        "                stack.append(current.right)\n",
        "            if current.left:\n",
        "                stack.append(current.left)\n",
        "            result.append(current.value)\n",
        "        return result\n",
        "\n",
        "    def BFS(self):\n",
        "        #너비 우선 탐색 Breadth-first search\n",
        "        pass\n",
        "\n",
        "tree = Tree(5)\n",
        "tree.insert(3)\n",
        "tree.insert(8)\n",
        "tree.insert(1)\n",
        "tree.insert(4)\n",
        "tree.insert(6)\n",
        "tree.insert(9)\n",
        "\n",
        "tree.DFS()"
      ],
      "metadata": {
        "colab": {
          "base_uri": "https://localhost:8080/"
        },
        "id": "p4q6hsLBM1xo",
        "outputId": "3cc7496d-cefe-4751-a116-58f72593e1b6"
      },
      "execution_count": 75,
      "outputs": [
        {
          "output_type": "execute_result",
          "data": {
            "text/plain": [
              "[5, 3, 1, 4, 8, 6, 9]"
            ]
          },
          "metadata": {},
          "execution_count": 75
        }
      ]
    },
    {
      "cell_type": "code",
      "source": [
        "# 문제2 iter, insert 구현하기\n",
        "class Node:\n",
        "    def __init__(self, data):\n",
        "        self.data = data\n",
        "        self.next = None\n",
        "\n",
        "class LinkedList: # list, tuple, dict처럼 하나에 자료형을 만드는 것입니다!\n",
        "    def __init__(self):\n",
        "        init = Node('init')\n",
        "        self.head = init\n",
        "        self.tail = init\n",
        "        self.count = 0\n",
        "\n",
        "    def __len__(self):\n",
        "        return self.count\n",
        "\n",
        "    def __getitem__(self, index):\n",
        "        current = self.head.next\n",
        "        for _ in range(index):\n",
        "            current = current.next\n",
        "        return current.data\n",
        "\n",
        "    def __str__(self):\n",
        "        current = self.head.next\n",
        "        result = ''\n",
        "        for _ in range(self.count):\n",
        "            result += f'{str(current.data)}, '\n",
        "            current = current.next\n",
        "        return f'<{result[:-2]}>'\n",
        "\n",
        "    def __repr__(self):\n",
        "        current = self.head.next\n",
        "        result = ''\n",
        "        for _ in range(self.count):\n",
        "            result += f'{str(current.data)}, '\n",
        "            current = current.next\n",
        "        return f'<{result[:-2]}>'\n",
        "\n",
        "    def append(self, data):\n",
        "        new_node = Node(data)\n",
        "        self.count += 1\n",
        "        self.tail.next = new_node # 처음에는 Node('init').next\n",
        "        self.tail = new_node\n",
        "\n",
        "    def pop(self):\n",
        "        if self.count == 0:\n",
        "            raise IndexError('pop from empty list')\n",
        "        last_node_data = self.tail.data\n",
        "        current = self.head.next\n",
        "        for _ in range(self.count):\n",
        "            if current.next is self.tail:\n",
        "                self.tail = current\n",
        "                break\n",
        "            current = current.next\n",
        "        self.count -= 1\n",
        "        return last_node_data\n",
        "\n",
        "    def find(self, data):\n",
        "        if self.count == 0:\n",
        "            return -1\n",
        "        current = self.head.next\n",
        "        for i in range(self.count):\n",
        "            if current.data == data:\n",
        "                return i\n",
        "            current = current.next\n",
        "        return -1\n",
        "\n",
        "    def __iter__(self):\n",
        "        cur = self.head.next\n",
        "        while cur:\n",
        "            yield cur.data\n",
        "            cur = cur.next\n",
        "\n",
        "\n",
        "\n",
        "    def insert(self,data,n):\n",
        "        if n<0:\n",
        "            raise IndexError('negative number not allowed')\n",
        "        if n-1>self.count:\n",
        "            raise IndexError('Too big index number')\n",
        "        new_node = Node(data)\n",
        "        cur = self.head.next\n",
        "        for _ in range(n-2):\n",
        "            cur = cur.next\n",
        "        new_node.next = cur.next\n",
        "        cur.next = new_node\n",
        "        self.count += 1\n",
        "#10 20 30 40\n",
        "l = LinkedList()\n",
        "l.append(10)\n",
        "l.append(20)\n",
        "l.append(30)\n",
        "l.append(40)\n",
        "l.append(50)\n",
        "l.append(60)\n",
        "\n",
        "l.insert(100,7)\n",
        "\n",
        "print(l)"
      ],
      "metadata": {
        "colab": {
          "base_uri": "https://localhost:8080/"
        },
        "id": "veDNURnPN0zP",
        "outputId": "7f0faf07-9358-464a-c27d-95357ef31ef0"
      },
      "execution_count": 113,
      "outputs": [
        {
          "output_type": "stream",
          "name": "stdout",
          "text": [
            "<10, 20, 30, 40, 50, 60, 100>\n"
          ]
        }
      ]
    }
  ]
}