{
  "nbformat": 4,
  "nbformat_minor": 0,
  "metadata": {
    "colab": {
      "provenance": []
    },
    "kernelspec": {
      "name": "python3",
      "display_name": "Python 3"
    },
    "language_info": {
      "name": "python"
    }
  },
  "cells": [
    {
      "cell_type": "code",
      "execution_count": 1,
      "metadata": {
        "colab": {
          "base_uri": "https://localhost:8080/"
        },
        "id": "BJg7w1yKCr2a",
        "outputId": "1345bd83-2d55-4b51-f32f-793ffb39565c"
      },
      "outputs": [
        {
          "output_type": "execute_result",
          "data": {
            "text/plain": [
              "6"
            ]
          },
          "metadata": {},
          "execution_count": 1
        }
      ],
      "source": [
        "# 간소화를 한 tree입니다.\n",
        "# linked list와 마찬가지로 완벽한 자료구조를 만드려면 시간이 걸립니다.\n",
        "class Node:\n",
        "    def __init__(self, value):\n",
        "        self.value = value\n",
        "        self.left = None\n",
        "        self.right = None\n",
        "\n",
        "\n",
        "class Tree:\n",
        "    def __init__(self, data):\n",
        "        init = Node(data)\n",
        "        self.root = init\n",
        "        self.count = 1\n",
        "\n",
        "    def __len__(self):\n",
        "        return self.count\n",
        "\n",
        "    def insert(self, data):\n",
        "        new_node = Node(data)\n",
        "        current_node = self.root\n",
        "        while current_node:\n",
        "            if data == current_node.value: # 같은 데이터 만나면 넣어주지 않습니다!\n",
        "                return\n",
        "            elif data < current_node.value:\n",
        "                if not current_node.left: # 왼쪽으로 갔더니 비어있는 경우!\n",
        "                    current_node.left = new_node\n",
        "                    self.count += 1\n",
        "                    return\n",
        "                current_node = current_node.left\n",
        "            elif data > current_node.value:\n",
        "                if not current_node.right: # 오른쪽으로 갔더니 비어있는 경우!\n",
        "                    current_node.right = new_node\n",
        "                    self.count += 1\n",
        "                    return\n",
        "                current_node = current_node.right\n",
        "\n",
        "    # 깊스너큐(깊이우선 탐색은 스택, 너비우선 탐색은 큐)\n",
        "    def DFS(self):\n",
        "        # 깊이우선탐색, DFS(Depth First Search)\n",
        "        # Stack 이용!\n",
        "        stack = [self.root]\n",
        "        cur = None\n",
        "        result = []\n",
        "        while stack:\n",
        "            cur = stack.pop()\n",
        "            if cur.right:\n",
        "                stack.append(cur.right)\n",
        "            if cur.left:\n",
        "                stack.append(cur.left)\n",
        "            result.append(cur.value)\n",
        "        return result\n",
        "\n",
        "    def BFS(self):\n",
        "        # 너비우선탐색, BFS(Breadth First Search)\n",
        "        # Queue 이용!\n",
        "        pass\n",
        "\n",
        "tree = Tree(5)\n",
        "tree.insert(3)\n",
        "tree.insert(8)\n",
        "tree.insert(1)\n",
        "tree.insert(4)\n",
        "tree.insert(6)\n",
        "tree.insert(9)\n",
        "\n",
        "tree.root.value\n",
        "tree.root.left.value\n",
        "tree.root.right.value\n",
        "tree.root.right.left.value"
      ]
    },
    {
      "cell_type": "code",
      "source": [
        "# https://pyalgo.co.kr/?page=14"
      ],
      "metadata": {
        "id": "PIAB6J7SGxIN"
      },
      "execution_count": null,
      "outputs": []
    },
    {
      "cell_type": "code",
      "source": [
        "#선택 정렬\n",
        "\n",
        "\n",
        "def 최솟값_인덱스_리턴_함수 (리스트):\n",
        "    최솟값인덱스 = 0\n",
        "    for 증가값 in range(0, len(리스트)):\n",
        "        if 리스트[증가값] < 리스트[최솟값인덱스]:\n",
        "            최솟값인덱스 = 증가값\n",
        "    return 최솟값인덱스\n",
        "\n",
        "def 선택정렬(리스트):\n",
        "    최종결과값 = []\n",
        "    while 리스트:\n",
        "        최솟값_인덱스_저장 = 최솟값_인덱스_리턴_함수(리스트)\n",
        "        최솟값 = 리스트.pop(최솟값_인덱스_저장)\n",
        "        최종결과값.append(최솟값)\n",
        "    return 최종결과값\n",
        "\n",
        "주어진리스트 = [199, 22, 33, 12, 32, 64, 72, 222, 233]\n",
        "\n",
        "print(선택정렬(주어진리스트))"
      ],
      "metadata": {
        "id": "fwqCKUlEM1gm"
      },
      "execution_count": null,
      "outputs": []
    },
    {
      "cell_type": "code",
      "source": [
        "# 삽입 정렬\n",
        "\n",
        "def 삽입값이들어갈_인덱스 (결과값, 삽입값):\n",
        "    for 증가값 in range(0, len(결과값)):\n",
        "        if 삽입값 < 결과값[증가값]:\n",
        "            return 증가값\n",
        "    return len(결과값)\n",
        "\n",
        "def 삽입정렬(입력_리스트_하나):\n",
        "    결과값 = []\n",
        "    while 입력_리스트_하나:\n",
        "        삽입값 = 입력_리스트_하나.pop(0)\n",
        "        삽입값_인덱스 = 삽입값이들어갈_인덱스(결과값, 삽입값)\n",
        "        결과값.insert(삽입값_인덱스, 삽입값)\n",
        "    return 결과값\n",
        "\n",
        "주어진리스트 = [199, 22, 33, 12, 32, 64, 72, 222, 233]\n",
        "\n",
        "print(삽입정렬(주어진리스트))"
      ],
      "metadata": {
        "id": "aiiLGecfM6hM"
      },
      "execution_count": null,
      "outputs": []
    },
    {
      "cell_type": "code",
      "source": [
        "def 병합정렬(입력리스트):\n",
        "    입력리스트길이 = len(입력리스트)\n",
        "    if 입력리스트길이 <= 1:\n",
        "        return 입력리스트\n",
        "\n",
        "    중간값 = 입력리스트길이 // 2\n",
        "    그룹_하나 = 병합정렬(입력리스트[:중간값])\n",
        "    그룹_둘 = 병합정렬(입력리스트[중간값:])\n",
        "    결과값 = [ ]\n",
        "\n",
        "    while 그룹_하나 and 그룹_둘:\n",
        "        if 그룹_하나[0] < 그룹_둘[0]:\n",
        "            결과값.append(그룹_하나.pop(0))\n",
        "        else:\n",
        "            결과값.append(그룹_둘.pop(0))\n",
        "    while 그룹_하나:\n",
        "        결과값.append(그룹_하나.pop(0))\n",
        "    while 그룹_둘:\n",
        "        결과값.append(그룹_둘.pop(0))\n",
        "    return 결과값\n",
        "\n",
        "주어진리스트 = [199, 22, 33, 12, 32, 64, 72, 222, 233]\n",
        "\n",
        "print(병합정렬(주어진리스트))\n"
      ],
      "metadata": {
        "id": "1fZwgklzRewM"
      },
      "execution_count": null,
      "outputs": []
    },
    {
      "cell_type": "code",
      "source": [
        "# 퀵 소트\n",
        "\n",
        "def 퀵정렬(입력리스트):\n",
        "    입력리스트길이 = len(입력리스트)\n",
        "    if 입력리스트길이 <= 1:\n",
        "        return 입력리스트\n",
        "    기준값 = 입력리스트[-1]\n",
        "    그룹_하나 = []\n",
        "    그룹_둘 = []\n",
        "    for 증가값 in range(0 , 입력리스트길이-1):\n",
        "        if 입력리스트[증가값] < 기준값:\n",
        "            그룹_하나.append(입력리스트[증가값])\n",
        "        else:\n",
        "            그룹_둘.append(입력리스트[증가값])\n",
        "    return 퀵정렬(그룹_하나) + [기준값] + 퀵정렬(그룹_둘)\n",
        "\n",
        "주어진리스트 = [66, 77, 54, 32, 10, 5, 11, 15]\n",
        "\n",
        "print(퀵정렬(주어진리스트))"
      ],
      "metadata": {
        "id": "H7b_fw7BZKK3"
      },
      "execution_count": null,
      "outputs": []
    },
    {
      "cell_type": "code",
      "source": [
        "# 페이지 교체 알고리즘\n",
        "\n",
        "# https://school.programmers.co.kr/learn/courses/30/lessons/17680\n",
        "\n",
        "# 코딩문제에서 LRU가 뭔지 안알려준다"
      ],
      "metadata": {
        "id": "BIm8HLQlasO_"
      },
      "execution_count": null,
      "outputs": []
    },
    {
      "cell_type": "code",
      "source": [
        "# FIFO\n",
        "# 순서 : 0, 4, 6, 5, 4, 7, 8\n",
        "\n",
        "# [0] # 5\n",
        "# [0, 4] # 5\n",
        "# [0, 4, 6] # 5\n",
        "# [4, 6, 5] # 5\n",
        "# [4, 6, 5] # 1\n",
        "# [6, 5, 7] # 5\n",
        "# [6, 5, 8] # 5\n",
        "\n",
        "순서 = [0, 4, 6, 5, 4, 7, 8]\n",
        "c = []\n",
        "time = 0\n",
        "\n",
        "for i in 순서:\n",
        "    if i not in c:\n",
        "        time += 5\n",
        "        c.append(i)\n",
        "    else:\n",
        "        time += 1\n",
        "    if len(c) > 3:\n",
        "        c.pop(0)\n",
        "    print(c)\n",
        "\n",
        "time"
      ],
      "metadata": {
        "id": "s0mTBCqie0-v"
      },
      "execution_count": null,
      "outputs": []
    },
    {
      "cell_type": "code",
      "source": [
        "# LRU\n",
        "# 순서 : 0, 4, 6, 5, 4, 7, 8\n",
        "\n",
        "# [0] # 5\n",
        "# [0, 4] # 5\n",
        "# [0, 4, 6] # 5\n",
        "# [4, 6, 5] # 5\n",
        "# [6, 5, 4] # 1\n",
        "# [5, 4, 7] # 5\n",
        "# [4, 7, 8] # 5\n",
        "\n",
        "순서 = [0, 4, 6, 5, 4, 7, 8]\n",
        "c = []\n",
        "time = 0\n",
        "\n",
        "for i in 순서:\n",
        "    if i not in c:\n",
        "        time += 5\n",
        "        c.append(i)\n",
        "    else:\n",
        "        c.remove(i)\n",
        "        c.append(i)\n",
        "        time += 1\n",
        "    if len(c) > 3:\n",
        "        c.pop(0)\n",
        "    print(c)\n",
        "\n",
        "time"
      ],
      "metadata": {
        "id": "yX88zhmCe2s1"
      },
      "execution_count": null,
      "outputs": []
    },
    {
      "cell_type": "code",
      "source": [
        "#슬라이딩 윈도우\n",
        "\n",
        "data = [3, 2, 5, 7, 6, 4, 2, 2, 5, 3, 8, 5, 4, 6, 3, 4, 5, 1, 1, 2, 3]\n",
        "for i in range(len(data)-3):\n",
        "    if sum(data[i:i+3]) == 10:\n",
        "        print(data[i:i+3])\n"
      ],
      "metadata": {
        "id": "yq-I11hrgNK1"
      },
      "execution_count": null,
      "outputs": []
    },
    {
      "cell_type": "code",
      "source": [
        "# 투 포인터 스타일\n",
        "\n",
        "def solution(데이터, 연속된합):\n",
        "\n",
        "    startPointer = 0\n",
        "    endPointer = 0\n",
        "    tempSum = 0\n",
        "\n",
        "    길이 = len(데이터)\n",
        "    result = []\n",
        "\n",
        "    for startPointer in range(길이):\n",
        "        while tempSum < 연속된합 and endPointer < 길이:\n",
        "            tempSum += 데이터[endPointer]\n",
        "            endPointer += 1\n",
        "        if tempSum == 연속된합:\n",
        "            result.append([startPointer, endPointer-1])\n",
        "        tempSum -= 데이터[startPointer]\n",
        "    return result\n",
        "\n",
        "solution([1, 5, 4, 6, 4, 6, 7, 6, 4, 3, 1, 2], 10)"
      ],
      "metadata": {
        "id": "Ru0S5QqcifoB"
      },
      "execution_count": null,
      "outputs": []
    },
    {
      "cell_type": "code",
      "source": [
        "# 회문은 글자의 앞 뒤가 같은 문자열\n",
        "# 큐와 스택을 이용한 회문여부 판별\n",
        "def palindrome(string):\n",
        "    queue = []\n",
        "    stack = []\n",
        "\n",
        "    for s in string:\n",
        "        if s.isalpha():\n",
        "            queue.append(s.lower())\n",
        "            stack.append(s.lower())\n",
        "\n",
        "    while queue:\n",
        "        if queue.pop(0) != stack.pop():\n",
        "            return False\n",
        "\n",
        "    return True\n",
        "\n",
        "palindrome('hello world')\n",
        "palindrome('hello')\n",
        "palindrome('heleh')\n",
        "palindrome('오디오')"
      ],
      "metadata": {
        "id": "QzixdMCezr2z"
      },
      "execution_count": null,
      "outputs": []
    },
    {
      "cell_type": "code",
      "source": [
        "# 재귀함수를 이용한 회문여부 판별\n",
        "def palindrome(string):\n",
        "    if len(string) < 2:\n",
        "        return True\n",
        "    if string[0] != string[-1]:\n",
        "        return False\n",
        "    return palindrome(string[1:-1])\n",
        "\n",
        "palindrome('hello world')\n",
        "palindrome('hello')\n",
        "palindrome('heleh')\n",
        "palindrome('오디오')"
      ],
      "metadata": {
        "id": "ZxhhHKih2ODG"
      },
      "execution_count": null,
      "outputs": []
    },
    {
      "cell_type": "code",
      "source": [
        "# 재귀 테스트\n",
        "def factorial(number):\n",
        "    result = 1\n",
        "    for i in range(1, number+1):\n",
        "        result *= i\n",
        "\n",
        "    return result\n",
        "\n",
        "factorial(5)\n",
        "\n",
        "\n"
      ],
      "metadata": {
        "id": "GHaQqm_M2lEt"
      },
      "execution_count": null,
      "outputs": []
    },
    {
      "cell_type": "code",
      "source": [
        "%%timeit\n",
        "# 피보나치 재귀 풀이\n",
        "def fib(num):\n",
        "    if num == 0:\n",
        "        return 0\n",
        "    if num == 1 or num == 2:\n",
        "        return 1\n",
        "    else:\n",
        "        return fib(num-1) + fib(num-2)\n",
        "\n",
        "fib(30) #11만배 느려지네요"
      ],
      "metadata": {
        "colab": {
          "base_uri": "https://localhost:8080/"
        },
        "id": "3FIn4Aai7E65",
        "outputId": "49d3722a-2af4-40cc-cb10-ab5ec8c94e95"
      },
      "execution_count": 3,
      "outputs": [
        {
          "output_type": "stream",
          "name": "stdout",
          "text": [
            "301 ms ± 8.97 ms per loop (mean ± std. dev. of 7 runs, 1 loop each)\n"
          ]
        }
      ]
    },
    {
      "cell_type": "code",
      "source": [
        "%%timeit\n",
        "\n",
        "curr, next = 0, 1\n",
        "for _ in range(30):\n",
        "     curr, next = next, curr + next\n",
        "\n",
        "curr"
      ],
      "metadata": {
        "colab": {
          "base_uri": "https://localhost:8080/"
        },
        "id": "BNVGtUAC6-Rk",
        "outputId": "46552c7f-1ec4-4bc5-ca6a-959ea61fd735"
      },
      "execution_count": 2,
      "outputs": [
        {
          "output_type": "stream",
          "name": "stdout",
          "text": [
            "2.1 µs ± 450 ns per loop (mean ± std. dev. of 7 runs, 1000000 loops each)\n"
          ]
        }
      ]
    },
    {
      "cell_type": "code",
      "source": [
        "### itertools에 포함된 순열 조합 기능을 알면 아주 편하다\n",
        "\n",
        "from itertools import combinations\n",
        "\n",
        "list(combinations([1, 2, 3, 4], 2))"
      ],
      "metadata": {
        "colab": {
          "base_uri": "https://localhost:8080/"
        },
        "id": "l2DipuIe9TOs",
        "outputId": "d89a0a85-6502-46a0-b4b4-e9edadceffc2"
      },
      "execution_count": 4,
      "outputs": [
        {
          "output_type": "execute_result",
          "data": {
            "text/plain": [
              "[(1, 2), (1, 3), (1, 4), (2, 3), (2, 4), (3, 4)]"
            ]
          },
          "metadata": {},
          "execution_count": 4
        }
      ]
    },
    {
      "cell_type": "code",
      "source": [
        "from itertools import permutations\n",
        "\n",
        "list(permutations([1, 2, 3, 4], 2))"
      ],
      "metadata": {
        "colab": {
          "base_uri": "https://localhost:8080/"
        },
        "id": "J7OPTzmF9VMs",
        "outputId": "e6f126e4-00ba-40e9-d5d0-d9d9e68c6bda"
      },
      "execution_count": 5,
      "outputs": [
        {
          "output_type": "execute_result",
          "data": {
            "text/plain": [
              "[(1, 2),\n",
              " (1, 3),\n",
              " (1, 4),\n",
              " (2, 1),\n",
              " (2, 3),\n",
              " (2, 4),\n",
              " (3, 1),\n",
              " (3, 2),\n",
              " (3, 4),\n",
              " (4, 1),\n",
              " (4, 2),\n",
              " (4, 3)]"
            ]
          },
          "metadata": {},
          "execution_count": 5
        }
      ]
    },
    {
      "cell_type": "code",
      "source": [
        "# 문제풀이\n",
        "# 비밀지도 https://school.programmers.co.kr/learn/courses/30/lessons/17681\n",
        "n = 5\n",
        "arr1 = [9, 20, 28, 18, 11]\n",
        "arr2 = [30, 1, 21, 17, 28]\n",
        "def solution(n, arr1, arr2):\n",
        "    for i in range(n):\n",
        "        x = (arr1[i] | arr2[i])\n",
        "        print(bin(x))\n",
        "    answer = []\n",
        "    return answer\n",
        "\n",
        "\n",
        "\n",
        "solution(n, arr1, arr2)"
      ],
      "metadata": {
        "colab": {
          "base_uri": "https://localhost:8080/"
        },
        "id": "Ao_8KCxcBYFL",
        "outputId": "958826b6-1a89-480b-c56c-f7355d052233"
      },
      "execution_count": 18,
      "outputs": [
        {
          "output_type": "stream",
          "name": "stdout",
          "text": [
            "0b11111\n",
            "0b10101\n",
            "0b11101\n",
            "0b10011\n",
            "0b11111\n"
          ]
        },
        {
          "output_type": "execute_result",
          "data": {
            "text/plain": [
              "[]"
            ]
          },
          "metadata": {},
          "execution_count": 18
        }
      ]
    },
    {
      "cell_type": "code",
      "source": [
        "def solution(n, arr1, arr2):\n",
        "    answer = []\n",
        "    for i in range(n):\n",
        "        answer.append(bin(arr1[n] | arr2[n])[2:].zfill(n).replace('1', '#').replace('0', ' '))\n",
        "    return answer\n",
        "\n",
        "n = 5\n",
        "arr1 = [9, 20, 28, 18, 11]\n",
        "arr2 = [30, 1, 21, 17, 28]\n",
        "\n",
        "solution(n, arr1, arr2)"
      ],
      "metadata": {
        "colab": {
          "base_uri": "https://localhost:8080/"
        },
        "id": "x5kCPUXOEMCH",
        "outputId": "332768e9-c7a8-4922-9fbb-c4d40457e50c"
      },
      "execution_count": 19,
      "outputs": [
        {
          "output_type": "stream",
          "name": "stdout",
          "text": [
            "31\n",
            "#####\n"
          ]
        },
        {
          "output_type": "execute_result",
          "data": {
            "text/plain": [
              "[]"
            ]
          },
          "metadata": {},
          "execution_count": 19
        }
      ]
    },
    {
      "cell_type": "code",
      "source": [
        "# 다트 게임 https://school.programmers.co.kr/learn/courses/30/lessons/17682\n",
        "\n",
        "def solution(dartResult):\n",
        "    result = []\n",
        "    for index, value in enumerate(dartResult):\n",
        "        if value == 'S':\n",
        "            result[-1] **= 1\n",
        "        elif value == 'D':\n",
        "            result[-1] **= 2\n",
        "        elif value == 'T':\n",
        "            result[-1] **= 3\n",
        "        elif value == '*':\n",
        "            result[-1] *= 2\n",
        "            if len(result) >= 2:\n",
        "                result[-2] *= 2\n",
        "        elif value == '#':\n",
        "            result[-1] *= -1\n",
        "        else:\n",
        "            if dartResult[index:index+2] == '10':\n",
        "                result.append(10)\n",
        "            elif dartResult[index-1:index+1] != '10':\n",
        "                result.append(int(value))\n",
        "    return sum(result)"
      ],
      "metadata": {
        "id": "HunvPDXJElyv"
      },
      "execution_count": null,
      "outputs": []
    },
    {
      "cell_type": "code",
      "source": [
        "# 캐시 https://school.programmers.co.kr/learn/courses/30/lessons/17680\n",
        "cacheSize,cities = 3,[\"Jeju\", \"Pangyo\", \"Seoul\", \"NewYork\", \"LA\", \"Jeju\", \"Pangyo\", \"Seoul\", \"NewYork\", \"LA\"]\n",
        "\n",
        "def solution(cacheSize, cities):\n",
        "    cache = []\n",
        "    time = 0\n",
        "    for city in cities:\n",
        "        city = city.lower()\n",
        "        if city in cache:\n",
        "            time += 1\n",
        "            cache.remove(i)\n",
        "            cache.append(i)\n",
        "        else:\n",
        "            time +=5\n",
        "            cache.append(city)\n",
        "            if len(cache)>cacheSize:\n",
        "                cache.pop(0)\n",
        "\n",
        "    return time\n",
        "\n",
        "\n",
        "solution(cacheSize, cities)"
      ],
      "metadata": {
        "colab": {
          "base_uri": "https://localhost:8080/"
        },
        "id": "lxKNldhCF75V",
        "outputId": "2ec7d243-7a6b-4b8b-ccc6-d465a2561cba"
      },
      "execution_count": 21,
      "outputs": [
        {
          "output_type": "execute_result",
          "data": {
            "text/plain": [
              "50"
            ]
          },
          "metadata": {},
          "execution_count": 21
        }
      ]
    },
    {
      "cell_type": "code",
      "source": [
        "# 콜렉션으로 푸는 방법 - MAXLEN으로 사이즈를 정해주기 때문에, else일때 pop을 해줄 필요가 없으니 pop으로 인한 에러도 나오지 않음\n",
        "\n",
        "from collections import deque\n",
        "\n",
        "def solution(cacheSize, cities):\n",
        "    cache = deque([], maxlen = cacheSize)\n",
        "    time = 0\n",
        "    for city in cities:\n",
        "        city = city.lower()\n",
        "        if city in cache:\n",
        "            cache.remove(city)\n",
        "            cache.append(city)\n",
        "            time +=1\n",
        "        else:\n",
        "            cache.append(city)\n",
        "            time +=5\n",
        "    return time"
      ],
      "metadata": {
        "id": "ay1CuIVwJt17"
      },
      "execution_count": null,
      "outputs": []
    },
    {
      "cell_type": "code",
      "source": [
        "# 셔틀버스 https://school.programmers.co.kr/learn/courses/30/lessons/17678"
      ],
      "metadata": {
        "id": "YvZRlUAvLUBr"
      },
      "execution_count": null,
      "outputs": []
    },
    {
      "cell_type": "code",
      "source": [
        "# 오픈 채팅방 https://school.programmers.co.kr/learn/courses/30/lessons/42888\n",
        "\n",
        "# 놀랍게도 내가 옛날에 풀었던 문제였다.\n",
        "\n",
        "def solution(record):\n",
        "    answer = []\n",
        "    id_list = {}\n",
        "    for s in record:\n",
        "        a = s.split(\" \")\n",
        "        if 'Enter' in a:\n",
        "            id_list[a[1]] = a[2]\n",
        "        elif 'Change' in a:\n",
        "            del id_list[a[1]]\n",
        "            id_list[a[1]] = a[2]\n",
        "    for s in record:\n",
        "        a = s.split(\" \")\n",
        "        if 'Enter' in a:\n",
        "            answer.append(id_list[a[1]]+\"님이 들어왔습니다.\")\n",
        "        elif 'Leave' in a:\n",
        "            answer.append(id_list[a[1]]+\"님이 나갔습니다.\")\n",
        "\n",
        "    return answer\n",
        "\n",
        "\n",
        "\n",
        "# 강사님 풀이\n",
        "def solution(record):\n",
        "    userinfo = {}\n",
        "    answer = []\n",
        "    for text in record:\n",
        "        info = text.split(' ')\n",
        "        if info[0] == 'Enter':\n",
        "            userinfo[info[1]] = info[2]\n",
        "            answer.append([info[1], '님이 들어왔습니다.'])\n",
        "        elif info[0] == 'Leave':\n",
        "            answer.append([info[1], '님이 나갔습니다.'])\n",
        "        elif info[0] == 'Change':\n",
        "            userinfo[info[1]] = info[2]\n",
        "    return [f'{userinfo[uid]}{text}' for uid, text in answer]"
      ],
      "metadata": {
        "id": "YxvA-JeyLV5m"
      },
      "execution_count": null,
      "outputs": []
    },
    {
      "cell_type": "code",
      "source": [
        "# 실패율 https://school.programmers.co.kr/learn/courses/30/lessons/42889\n",
        "# 카운터는 1부터 시작한다.\n",
        "from collections import Counter\n",
        "\n",
        "def solution(N, stages):\n",
        "    total_people = len(stages)\n",
        "    count_people = Counter(stages)\n",
        "\n",
        "    answer = {} # 스테이지:실패율\n",
        "\n",
        "    for i in range(1, N+1):\n",
        "        answer[i] = 0\n",
        "\n",
        "    for i in answer:\n",
        "        if count_people[i] != 0 and total_people != 0:\n",
        "            answer[i] = count_people[i]/total_people\n",
        "        total_people -= count_people[i]\n",
        "\n",
        "    return sorted(answer, key=lambda x:answer[x], reverse=True)\n"
      ],
      "metadata": {
        "id": "BPJvMsCPcv44"
      },
      "execution_count": null,
      "outputs": []
    },
    {
      "cell_type": "code",
      "source": [
        "# 옹알이 (1) https://school.programmers.co.kr/learn/courses/30/lessons/120956\n",
        "import re\n",
        "\n",
        "\n",
        "s = [\"aya\", \"ye\", \"woo\", \"ma\"]\n",
        "\n",
        "list = [\"ayaye\", \"uuuma\", \"ye\", \"yemawoo\", \"ayaa\"]\n",
        "\n",
        "#매칭???"
      ],
      "metadata": {
        "colab": {
          "base_uri": "https://localhost:8080/"
        },
        "id": "cCGL_6Qbj5vS",
        "outputId": "c0862173-a696-46c6-9c87-0ad04c146b0c"
      },
      "execution_count": 29,
      "outputs": [
        {
          "output_type": "execute_result",
          "data": {
            "text/plain": [
              "['a', 'y', 'a', 'y', 'e']"
            ]
          },
          "metadata": {},
          "execution_count": 29
        }
      ]
    },
    {
      "cell_type": "code",
      "source": [
        "# 강사님 풀이\n",
        "\n",
        "import re\n",
        "\n",
        "def solution(babbling):\n",
        "    count = 0\n",
        "    p = [\"aya\", \"ye\", \"woo\", \"ma\"]\n",
        "    for i in babbling:\n",
        "        for pattern in p:\n",
        "            i = re.sub(pattern, ' ', i) #\n",
        "        if i.replace(' ', '') == '':\n",
        "            count += 1\n",
        "    return count\n",
        "\n",
        "solution([\"ayaye\", \"uuuma\", \"ye\", \"yemawoo\", \"ayaa\"])\n",
        "\n",
        "\n",
        "#매칭하고, 맞는건 공백으로 만들어 버려서 완전한 공백이 된 애들만 카운트에 추가하기"
      ],
      "metadata": {
        "colab": {
          "base_uri": "https://localhost:8080/"
        },
        "id": "2DDad8eU2XN5",
        "outputId": "feb4e8f4-fb76-4dd8-86e9-739362c037cc"
      },
      "execution_count": 90,
      "outputs": [
        {
          "output_type": "execute_result",
          "data": {
            "text/plain": [
              "3"
            ]
          },
          "metadata": {},
          "execution_count": 90
        }
      ]
    },
    {
      "cell_type": "code",
      "source": [
        "#진료순서 정하기 https://school.programmers.co.kr/learn/courses/30/lessons/120835\n",
        "\n",
        "# [3, 76, 24]\t[3, 1, 2]\n",
        "# [1, 2, 3, 4, 5, 6, 7]\t[7, 6, 5, 4, 3, 2, 1]\n",
        "# [30, 10, 23, 6, 100]\t[2, 4, 3, 5, 1]\n",
        "\n",
        "l = [3, 76, 24]\n",
        "ans = []\n",
        "x = sorted(l,reverse = True)\n",
        "y = {}\n",
        "\n",
        "for i in range(len(x)):\n",
        "    y[i+1] = x[i]\n",
        "\n",
        "z = dict(zip(y.values(),y.keys()))\n",
        "\n",
        "for i in l:\n",
        "    ans.append(z[i])\n",
        "print(ans)"
      ],
      "metadata": {
        "colab": {
          "base_uri": "https://localhost:8080/"
        },
        "id": "Ap2j2lPwsuIx",
        "outputId": "dda0cc4e-905a-4abe-bdcb-6369fb7a73b7"
      },
      "execution_count": 88,
      "outputs": [
        {
          "output_type": "stream",
          "name": "stdout",
          "text": [
            "[76, 24, 3]\n",
            "{1: 76, 2: 24, 3: 3}\n",
            "{76: 1, 24: 2, 3: 3}\n",
            "[3, 1, 2]\n"
          ]
        }
      ]
    },
    {
      "cell_type": "code",
      "source": [
        "# 강사님 풀이\n",
        "\n",
        "def solution(emergency):\n",
        "    응급순서 = sorted(emergency, reverse=True)\n",
        "    return [응급순서.index(응급도) + 1 for 응급도 in emergency]\n",
        "\n",
        "\n",
        "#내가 생각을 너무 어렵게 했나? 인덱스 생각을 안했다.\n",
        "\n"
      ],
      "metadata": {
        "id": "6gf68xBg2vgn"
      },
      "execution_count": null,
      "outputs": []
    }
  ]
}