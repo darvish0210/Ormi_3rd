{
  "cells": [
    {
      "cell_type": "markdown",
      "metadata": {
        "id": "lahj6hnCg2do"
      },
      "source": [
        "# 공지: 231004 오전 파이썬 시험예정 - 2시간, 50점 만점, 총 15문제\n",
        "\n"
      ]
    },
    {
      "cell_type": "markdown",
      "metadata": {
        "id": "MZJEpqq5DphK"
      },
      "source": [
        "\n",
        "알고리즘 특강"
      ]
    },
    {
      "cell_type": "code",
      "execution_count": null,
      "metadata": {
        "id": "Ekm02bS3DlLT"
      },
      "outputs": [],
      "source": [
        "#스택\n",
        "#스택은 후입선출 - 가장 늦게 들어온 데이터가 가장 먼저 나간다\n",
        "\n",
        "# s = [1,2,3,4,5]\n",
        "# s.append(6)\n",
        "# s.pop()\n",
        "\n",
        "\n",
        "\n"
      ]
    },
    {
      "cell_type": "code",
      "execution_count": 20,
      "metadata": {
        "colab": {
          "base_uri": "https://localhost:8080/"
        },
        "id": "Ux4p2ovcKneG",
        "outputId": "7c682fd0-b4d2-44ac-9381-e24ca4d003d8"
      },
      "outputs": [
        {
          "name": "stdout",
          "output_type": "stream",
          "text": [
            "2\n"
          ]
        }
      ],
      "source": [
        "# 연습문제 https://pyalgo.co.kr/?page=6#\n",
        "\n",
        "l = [1,1,2,3,4,1,2,3,4,1]\n",
        "new_l = []\n",
        "cnt = 0\n",
        "for i in l:\n",
        "    new_l.append(i)\n",
        "    if new_l[-5:] == [1,2,3,4,1]:\n",
        "        cnt +=1\n",
        "        new_l = new_l[:len(new_l)-5]\n",
        "        #혹은 이 부분을 pop으로 해도됨\n",
        "        # for i in range(5):\n",
        "        #     new_l.pop()\n",
        "\n",
        "print(cnt)\n",
        "# print(l[:len(l)-5])\n",
        "# print(l[-5:])"
      ]
    },
    {
      "cell_type": "code",
      "execution_count": null,
      "metadata": {
        "id": "3YFz6gRDfDOV"
      },
      "outputs": [],
      "source": [
        "# PS 콤보식으로 내려오는 방식으로 내 답과 다르게 될 수 있을까? like 애니팡 콤보\n",
        "# 1234 1234 1234 1111111 ???\n",
        "# 내 생각엔 불가\n",
        "\n",
        "\n"
      ]
    },
    {
      "cell_type": "code",
      "execution_count": null,
      "metadata": {
        "id": "7Xp1UMRPS10z"
      },
      "outputs": [],
      "source": []
    }
  ],
  "metadata": {
    "colab": {
      "provenance": []
    },
    "kernelspec": {
      "display_name": "Python 3",
      "name": "python3"
    },
    "language_info": {
      "name": "python"
    }
  },
  "nbformat": 4,
  "nbformat_minor": 0
}
