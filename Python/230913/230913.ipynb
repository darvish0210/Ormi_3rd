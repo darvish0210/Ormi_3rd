{
  "nbformat": 4,
  "nbformat_minor": 0,
  "metadata": {
    "colab": {
      "provenance": []
    },
    "kernelspec": {
      "name": "python3",
      "display_name": "Python 3"
    },
    "language_info": {
      "name": "python"
    }
  },
  "cells": [
    {
      "cell_type": "code",
      "execution_count": null,
      "metadata": {
        "id": "f-IMaUtx4ebD"
      },
      "outputs": [],
      "source": [
        "z [\n",
        "    10,\n",
        "    20,\n",
        "    30,\n",
        "    40,\n",
        "]\n",
        "#왜 ,를 끝에 넣는가?\n",
        "#1. 관습\n",
        "#2. 복붙할때 에러 안나게 하려고"
      ]
    },
    {
      "cell_type": "code",
      "source": [
        "#list(range(101)) 와 슬라이싱으로 문제풀기\n",
        "x = list(range(101))\n",
        "\n",
        "#1: 짝수 전부 더하기\n",
        "\n",
        "print(sum(x[::2])) # step == 2\n",
        "\n",
        "\n",
        "#2: 3의배수와 5의 배수를 모두 더하기\n",
        "print(sum(x[::3]+x[::5])-sum(x[::15]))\n",
        "\n",
        "#3: 1부터 90까지의 짝수 모두 더하기\n",
        "print(sum(x[0:91:2]))\n",
        "sum(x[0:91][::2])\n",
        "\n",
        "\n",
        "\n",
        "\n",
        "\n",
        "\n",
        "\n",
        "\n"
      ],
      "metadata": {
        "colab": {
          "base_uri": "https://localhost:8080/"
        },
        "id": "CTbB7Ig_6fgh",
        "outputId": "cd75342d-a48f-4443-ed91-93d3ace1a082"
      },
      "execution_count": null,
      "outputs": [
        {
          "output_type": "stream",
          "name": "stdout",
          "text": [
            "2550\n",
            "2418\n",
            "2070\n"
          ]
        },
        {
          "output_type": "execute_result",
          "data": {
            "text/plain": [
              "2070"
            ]
          },
          "metadata": {},
          "execution_count": 20
        }
      ]
    },
    {
      "cell_type": "code",
      "source": [
        "l = [1,2,3]\n",
        "l.extend(map(int,input('숫자입력 한 값이 한자리씩 분리되어 리스트 뒤로 들어갑니다.')))\n",
        "print(l)"
      ],
      "metadata": {
        "colab": {
          "base_uri": "https://localhost:8080/"
        },
        "id": "GEwVJeF5IgXa",
        "outputId": "6e9cf730-5ec8-4664-eec3-d741e340e69f"
      },
      "execution_count": null,
      "outputs": [
        {
          "output_type": "stream",
          "name": "stdout",
          "text": [
            "숫자입력 한 값이 한자리씩 분리되어 리스트 뒤로 들어갑니다.456789\n",
            "[1, 2, 3, 4, 5, 6, 7, 8, 9]\n"
          ]
        }
      ]
    },
    {
      "cell_type": "code",
      "source": [
        "\n",
        "# [10,20,40,50,30]\n",
        "#정렬 후 20과 30 사이에 25 삽입\n",
        "#\n",
        "l = [10,20,40,50,30]\n",
        "\n",
        "# l.sort()\n",
        "l = sorted(l)\n",
        "l.insert(l.index(20)+1,25)\n",
        "#l.insert(l.index(30),25)\n",
        "# 30에 넣고 밀어버린다? 의 방식이 더 추천됨\n",
        "l\n",
        "\n",
        "\n"
      ],
      "metadata": {
        "colab": {
          "base_uri": "https://localhost:8080/"
        },
        "id": "yHCLbestKLsu",
        "outputId": "c36af4d6-c8ad-4081-97c0-b26d4795297a"
      },
      "execution_count": null,
      "outputs": [
        {
          "output_type": "stream",
          "name": "stdout",
          "text": [
            "<class 'builtin_function_or_method'>\n"
          ]
        }
      ]
    },
    {
      "cell_type": "code",
      "source": [
        "a = [1,2,3,55,2,3,45,4,]\n",
        "a. remove(2)\n",
        "print(a)\n",
        "\n",
        "#전체 지우기는 filter를 쓰면 좋다\n",
        "\n",
        "list(filter(lambda x:x !=2,a))"
      ],
      "metadata": {
        "colab": {
          "base_uri": "https://localhost:8080/"
        },
        "id": "AAy2vpDDOWB2",
        "outputId": "9716df26-ef6d-4396-fa8f-900bc0d33006"
      },
      "execution_count": null,
      "outputs": [
        {
          "output_type": "stream",
          "name": "stdout",
          "text": [
            "[1, 3, 55, 2, 3, 45, 4]\n"
          ]
        },
        {
          "output_type": "execute_result",
          "data": {
            "text/plain": [
              "[1, 3, 55, 3, 45, 4]"
            ]
          },
          "metadata": {},
          "execution_count": 45
        }
      ]
    },
    {
      "cell_type": "code",
      "source": [
        "#reversed와 reverse 의 차이는?\n",
        "#원본 수정이 되냐 아니냐의 차이\n",
        "\n",
        "l = [1,2,5,7,9,]\n",
        "\n",
        "print(list(reversed(l))) #원본 수정이 되지 않음\n",
        "print(l)\n",
        "print(l.reverse()) #리턴이 None\n",
        "print(l) #원본 수정됨\n",
        "\n",
        "#sorted와 sort도 마찬가지로 원본 수정의 유무차이\n",
        "\n",
        "x = [1,6,2,3,8,9,5]\n",
        "\n",
        "print(list(sorted(x))) #원본 수정 안됨\n",
        "print(x)\n",
        "print(x.sort()) #리턴이 None\n",
        "print(x) #원본 수정됨"
      ],
      "metadata": {
        "colab": {
          "base_uri": "https://localhost:8080/"
        },
        "id": "ibAUm8CmRcKZ",
        "outputId": "0041e0ae-7cce-4671-e65e-d10fabf500dc"
      },
      "execution_count": null,
      "outputs": [
        {
          "output_type": "stream",
          "name": "stdout",
          "text": [
            "[9, 7, 5, 2, 1]\n",
            "[1, 2, 5, 7, 9]\n",
            "None\n",
            "[9, 7, 5, 2, 1]\n",
            "None\n",
            "[1, 2, 3, 5, 6, 8, 9]\n"
          ]
        }
      ]
    },
    {
      "cell_type": "code",
      "source": [
        "# 튜플은 안에 있는 값이 변경 불가능한 자료형이 아닙니다.\n",
        "# 튜플은 참조 불변입니다.\n",
        "# 리스트에 비해 처리 속도가 조금 더 빠릅니다.\n",
        "# 데이터의 변경이 민감한 곳과, 참조의 갯수가 변하면 안되는 곳에 쓴다\n",
        "\n",
        "\n"
      ],
      "metadata": {
        "id": "IhT6AFMmYulM"
      },
      "execution_count": null,
      "outputs": []
    },
    {
      "cell_type": "code",
      "source": [
        "#딕셔너리는 원래 순서 보장이 되지 않았으나, 3.6부터 순서 보장기능이 생김\n",
        "\n",
        "# d['age'] 스타일의 직접 접근은 보통 피하는 편. -> 잘못하면 서비스 멈춤!"
      ],
      "metadata": {
        "id": "EjTwUuQbY7BK"
      },
      "execution_count": null,
      "outputs": []
    },
    {
      "cell_type": "code",
      "source": [
        "#딕셔너리 연습문제\n",
        "\n",
        "국영수 = {'국어':97,'영어':38,'수학':90,}\n",
        "#문제1: 평균 구하기\n",
        "#문제2: 사회 70점 과학 85점 추가한 뒤, 평균 구하기\n",
        "#문제3: 영어, 수학 점수 10점씩 추가\n",
        "#문제4: 최종 점수에서 가장 높은 점수 구하기\n",
        "\n",
        "#Q1\n",
        "\n",
        "a = sum(국영수.values())/len(국영수)\n",
        "\n",
        "print(a)\n",
        "\n",
        "#Q2\n",
        "\n",
        "국영수.update({'사회':70,'과학':85})\n",
        "a = sum(국영수.values())/len(국영수)\n",
        "print(a)\n",
        "\n",
        "#Q3\n",
        "\n",
        "# 국영수['수학'] +=10\n",
        "# 국영수['영어'] +=10\n",
        "\n",
        "# 안전하게?\n",
        "국영수.update( { '수학' : 국영수.get('수학',0) +10})\n",
        "국영수.update( { '영어' : 국영수.get('영어',0) +10})\n",
        "\n",
        "\n",
        "\n",
        "print(국영수)\n",
        "\n",
        "#Q4\n",
        "\n",
        "print(max(국영수.values()))\n",
        "\n",
        "\n",
        "\n",
        "\n",
        "#가장 높은 점수의 과목 출력하기?\n",
        "print(max(국영수,key=국영수.get))"
      ],
      "metadata": {
        "colab": {
          "base_uri": "https://localhost:8080/"
        },
        "id": "kAWTc2q571AE",
        "outputId": "268b6c56-2f64-450d-ef7f-bb6cb11b0694"
      },
      "execution_count": null,
      "outputs": [
        {
          "output_type": "stream",
          "name": "stdout",
          "text": [
            "75.0\n",
            "76.0\n",
            "{'국어': 97, '영어': 48, '수학': 100, '사회': 70, '과학': 85}\n",
            "100\n",
            "수학\n"
          ]
        }
      ]
    },
    {
      "cell_type": "code",
      "source": [
        "# 딕셔너리 참고용\n",
        "d = {'a':10, 'bb':9, 'c':5,\"d\":6}\n",
        "\n",
        "print(max(d)) # 유니코드가 가장 큰 key값\n",
        "\n",
        "print(max(d,key=len)) # 길이가 가장 긴 key값\n",
        "\n",
        "print(max(d,key=d.get)) # d.get에서 반환된 value중에서 가장 큰 value를 가진 key값"
      ],
      "metadata": {
        "colab": {
          "base_uri": "https://localhost:8080/"
        },
        "id": "GAmAA8WtJKwd",
        "outputId": "dc4b0bf1-09c0-4945-f9cf-243dd25aed9c"
      },
      "execution_count": null,
      "outputs": [
        {
          "output_type": "stream",
          "name": "stdout",
          "text": [
            "d\n",
            "bb\n",
            "a\n"
          ]
        }
      ]
    },
    {
      "cell_type": "code",
      "source": [
        "#집합에는 순서와 중복이 없다 (알아서 제거해줌) -> 중복 제거용으로도 종종 형변환으로 사용\n",
        "#교집합(|) 차집합(-) 합집합(&) 연산을 씀\n",
        "\n"
      ],
      "metadata": {
        "id": "ZxiTShrcZOzY"
      },
      "execution_count": null,
      "outputs": []
    },
    {
      "cell_type": "code",
      "source": [
        "#리스트 컴프리헨션 - 반복문의 다른 방식\n",
        "ll = [f'{i}입니다.' for i in range(10)]\n",
        "\n",
        "# ll = [str(i)+'입니다' for i in range(10)]\n",
        "\n",
        "ll"
      ],
      "metadata": {
        "colab": {
          "base_uri": "https://localhost:8080/"
        },
        "id": "miEurb6uOrvP",
        "outputId": "5b2dce8d-9c61-4db2-fa17-8840639181d3"
      },
      "execution_count": null,
      "outputs": [
        {
          "output_type": "execute_result",
          "data": {
            "text/plain": [
              "['0입니다.',\n",
              " '1입니다.',\n",
              " '2입니다.',\n",
              " '3입니다.',\n",
              " '4입니다.',\n",
              " '5입니다.',\n",
              " '6입니다.',\n",
              " '7입니다.',\n",
              " '8입니다.',\n",
              " '9입니다.']"
            ]
          },
          "metadata": {},
          "execution_count": 40
        }
      ]
    },
    {
      "cell_type": "code",
      "source": [
        "#예제\n",
        "\n",
        "l = []\n",
        "for i in range(10):\n",
        "    if i%2==0:\n",
        "        l.append(i)\n",
        "\n",
        "print(l)\n",
        "l = [i for i in range(10) if i%2==0]\n",
        "\n",
        "print(l)"
      ],
      "metadata": {
        "colab": {
          "base_uri": "https://localhost:8080/"
        },
        "id": "P8I6Mvy2QAhZ",
        "outputId": "9e2c436e-a664-464e-b410-ddbe2b027843"
      },
      "execution_count": null,
      "outputs": [
        {
          "output_type": "stream",
          "name": "stdout",
          "text": [
            "[0, 2, 4, 6, 8]\n",
            "[0, 2, 4, 6, 8]\n"
          ]
        }
      ]
    },
    {
      "cell_type": "code",
      "source": [
        "l = []\n",
        "for i in range(10):\n",
        "    if i%2==0:\n",
        "        l.append(i)\n",
        "    else:\n",
        "        l.append(None)\n",
        "\n",
        "print(l)\n",
        "\n",
        "## else가 끼여있는 경우, if-else가 중간에 끼여야 하고, if의 사항이 if 앞에 와야함\n",
        "l = [i if i%2==0 else None for i in range(10)]\n",
        "\n",
        "print(l)\n",
        "\n",
        "\n",
        "##리스트 컴프리헨션은 3항 초과는 추천되지 않음"
      ],
      "metadata": {
        "colab": {
          "base_uri": "https://localhost:8080/"
        },
        "id": "AwECA4utQR5t",
        "outputId": "1266b742-6e3d-49e9-8aa1-546dae0f4dc4"
      },
      "execution_count": null,
      "outputs": [
        {
          "output_type": "stream",
          "name": "stdout",
          "text": [
            "[0, None, 2, None, 4, None, 6, None, 8, None]\n",
            "[0, None, 2, None, 4, None, 6, None, 8, None]\n"
          ]
        }
      ]
    },
    {
      "cell_type": "code",
      "source": [
        "#조건문\n",
        "\n",
        "if 1:\n",
        "    print('hi')\n",
        "\n",
        "bool(())"
      ],
      "metadata": {
        "colab": {
          "base_uri": "https://localhost:8080/"
        },
        "id": "COJKzXN2STVV",
        "outputId": "1cbac102-855d-45c0-9dee-ce0149bd6804"
      },
      "execution_count": null,
      "outputs": [
        {
          "output_type": "stream",
          "name": "stdout",
          "text": [
            "hi\n"
          ]
        },
        {
          "output_type": "execute_result",
          "data": {
            "text/plain": [
              "False"
            ]
          },
          "metadata": {},
          "execution_count": 51
        }
      ]
    },
    {
      "cell_type": "code",
      "source": [
        "##오늘의 문제\n",
        "'''\n",
        "1.주어진 리스트 data = [{\"name\": \"길동\", \"수학\": 3, , \"과학\": 93}, {\"name\": \"춘향\", \"수학\": 33, \"수학\": 11}, {\"name\": \"철수\", \"수학\": 94, \"과학\": 67}]\n",
        "에서 평균점수가 가장 높은 학생에 이름을 출력하세요.\n",
        "\n",
        "2.주어진 사전 grades = {\"Tom\": 87, \"Jerry\": 95, \"Mickey\": 70}의 모든 값을 5점씩 증가시키고 결과를 출력하세요.\n",
        "\n",
        "3.주어진 문자열 s = \"apple banana apple cherry banana cherry apple\"에서 가장 자주 등장하는 단어를 출력하세요.\n",
        "\n",
        "'''\n"
      ],
      "metadata": {
        "id": "IpRAATK5a5Wz"
      },
      "execution_count": null,
      "outputs": []
    },
    {
      "cell_type": "code",
      "source": [
        "#Q1 주어진 리스트 에서 평균점수가 가장 높은 학생에 이름을 출력하세요.\n",
        "\n",
        "data = [{\"name\": \"길동\", \"수학\": 3,  \"과학\": 93}, {\"name\": \"춘향\", \"수학\": 33, \"과학\": 11}, {\"name\": \"철수\", \"수학\": 94, \"과학\": 67}]\n",
        "\n",
        "\n",
        "x={}\n",
        "for i in data:\n",
        "    a,b,cnt = \"\",0,0\n",
        "    for j in list(i.values()):\n",
        "        if (str(type(j)) == \"<class 'int'>\"):\n",
        "            b += j\n",
        "            cnt += 1\n",
        "        else:\n",
        "            a = j\n",
        "\n",
        "    x[a]=(b/cnt)\n",
        "# a: 이름 저장용 변수\n",
        "# b: 점수 저장용 변수\n",
        "# cnt: 과목 갯수 저장용 변수\n",
        "# x: 이름:평균값 형식의 새로운 set\n",
        "\n",
        "print(max(x,key = x.get))"
      ],
      "metadata": {
        "colab": {
          "base_uri": "https://localhost:8080/"
        },
        "id": "67diqDOAbs0B",
        "outputId": "379626ad-1111-4a9f-8755-64d3954cc39e"
      },
      "execution_count": null,
      "outputs": [
        {
          "output_type": "stream",
          "name": "stdout",
          "text": [
            "철수\n"
          ]
        }
      ]
    },
    {
      "cell_type": "code",
      "source": [
        "#Q2 주어진 사전 의 모든 값을 5점씩 증가시키고 결과를 출력하세요.\n",
        "\n",
        "grades = {\"Tom\": 87, \"Jerry\": 95, \"Mickey\": 70}\n",
        "for i in grades.keys():\n",
        "    grades.update ( { i: grades.get(i,0)+5})\n",
        "\n",
        "print(grades)\n"
      ],
      "metadata": {
        "colab": {
          "base_uri": "https://localhost:8080/"
        },
        "id": "GDVmfwckcFOu",
        "outputId": "419ccbb7-8b03-4b9d-ae70-8edf1d802af1"
      },
      "execution_count": null,
      "outputs": [
        {
          "output_type": "stream",
          "name": "stdout",
          "text": [
            "{'Tom': 92, 'Jerry': 100, 'Mickey': 75}\n"
          ]
        }
      ]
    },
    {
      "cell_type": "code",
      "source": [
        "#Q3 주어진 문자열에서 가장 자주 등장하는 단어를 출력하세요.\n",
        "\n",
        "s = \"apple banana apple cherry banana cherry apple\"\n",
        "\n",
        "# s를 ' '으로 자름\n",
        "x = s.split(\" \")\n",
        "\n",
        "v = {}\n",
        "for i in x:\n",
        "    if i in v:\n",
        "        v[i] +=1\n",
        "    else:\n",
        "        v[i] = 1\n",
        "# print(v)\n",
        "\n",
        "#반복문으로 x를 집합 v에 정리해서 넣는 방식\n",
        "\n",
        "print(max(v,key=v.get))"
      ],
      "metadata": {
        "id": "9M-WVbXhbScX",
        "colab": {
          "base_uri": "https://localhost:8080/"
        },
        "outputId": "d68acd3e-39b1-430d-d158-6f21336652c4"
      },
      "execution_count": null,
      "outputs": [
        {
          "output_type": "stream",
          "name": "stdout",
          "text": [
            "apple\n"
          ]
        }
      ]
    },
    {
      "cell_type": "code",
      "source": [
        "# Q1 정답\n",
        "\n",
        "data = [{\"name\": \"길동\", \"수학\": 3,  \"과학\": 93},\n",
        "        {\"name\": \"춘향\", \"수학\": 33, \"과학\": 11},\n",
        "        {\"name\": \"철수\", \"수학\": 94, \"과학\": 67}]\n",
        "#어차피 합한 값이 가장 크면 평균값도 당연히 가장 크다\n",
        "#그러므로 굳이 평균값이 몇인지 계산할 필요가 없다!\n",
        "max_entry = max(data, key = lambda x: x[\"수학\"]+x[\"과학\"])\n",
        "print(max_entry['name'])"
      ],
      "metadata": {
        "colab": {
          "base_uri": "https://localhost:8080/"
        },
        "id": "fejljIpxvCTO",
        "outputId": "2ffad793-dcbe-4958-9452-5100539806fb"
      },
      "execution_count": 118,
      "outputs": [
        {
          "output_type": "stream",
          "name": "stdout",
          "text": [
            "철수\n"
          ]
        }
      ]
    },
    {
      "cell_type": "code",
      "source": [
        "#Q2 정답\n",
        "grades = {\"Tom\": 87, \"Jerry\": 95, \"Mickey\": 70}\n",
        "updated_grades = {name: score + 5 for name,score in grades.items()}\n",
        "\n",
        "print(updated_grades)\n"
      ],
      "metadata": {
        "colab": {
          "base_uri": "https://localhost:8080/"
        },
        "id": "Sxq_ozQDvyMw",
        "outputId": "a3209f41-0b69-40c9-d26d-e41ea653a7a8"
      },
      "execution_count": 120,
      "outputs": [
        {
          "output_type": "stream",
          "name": "stdout",
          "text": [
            "{'Tom': 92, 'Jerry': 100, 'Mickey': 75}\n"
          ]
        }
      ]
    },
    {
      "cell_type": "code",
      "source": [
        "from collections import Counter\n",
        "#Q3 정답\n",
        "\n",
        "s = \"apple banana apple cherry banana cherry apple\"\n",
        "\n",
        "\n",
        "print(Counter(s.split()))\n",
        "\n",
        "\n",
        "\n",
        "words = s.split()\n",
        "most = max(set(words),key = words.count)\n",
        "print(most)"
      ],
      "metadata": {
        "colab": {
          "base_uri": "https://localhost:8080/"
        },
        "id": "7QwG4IEYwYdl",
        "outputId": "9be0798e-82f0-40f0-aeef-a19c9abbbb89"
      },
      "execution_count": 125,
      "outputs": [
        {
          "output_type": "stream",
          "name": "stdout",
          "text": [
            "Counter({'apple': 3, 'banana': 2, 'cherry': 2})\n",
            "apple\n"
          ]
        }
      ]
    }
  ]
}