{
  "nbformat": 4,
  "nbformat_minor": 0,
  "metadata": {
    "colab": {
      "provenance": []
    },
    "kernelspec": {
      "name": "python3",
      "display_name": "Python 3"
    },
    "language_info": {
      "name": "python"
    }
  },
  "cells": [
    {
      "cell_type": "markdown",
      "source": [
        "# 조건문"
      ],
      "metadata": {
        "id": "e8vuzepjSFGO"
      }
    },
    {
      "cell_type": "code",
      "execution_count": null,
      "metadata": {
        "colab": {
          "base_uri": "https://localhost:8080/"
        },
        "id": "vifEB0EBSCA0",
        "outputId": "b5f745de-8bce-4030-87ca-7ee9f366257e"
      },
      "outputs": [
        {
          "output_type": "stream",
          "name": "stdout",
          "text": [
            "hello\n"
          ]
        }
      ],
      "source": [
        "if True:\n",
        "    print('hello')"
      ]
    },
    {
      "cell_type": "code",
      "source": [
        "if False:\n",
        "    print('hello')"
      ],
      "metadata": {
        "id": "b3GDXkzCSM6w"
      },
      "execution_count": null,
      "outputs": []
    },
    {
      "cell_type": "code",
      "source": [
        "if (True): # 이렇게 괄호를 안해도 됩니다!\n",
        "    print('hello')"
      ],
      "metadata": {
        "colab": {
          "base_uri": "https://localhost:8080/"
        },
        "id": "qm07CD0TSOuF",
        "outputId": "eb03a2dd-b3e0-4f70-ddb8-f8a8ffa94d4b"
      },
      "execution_count": null,
      "outputs": [
        {
          "output_type": "stream",
          "name": "stdout",
          "text": [
            "hello\n"
          ]
        }
      ]
    },
    {
      "cell_type": "code",
      "source": [
        "if 10 and 9: # True나 False가 아니라 단락평가에 의해 9\n",
        "    print('hello')"
      ],
      "metadata": {
        "colab": {
          "base_uri": "https://localhost:8080/"
        },
        "id": "yZzDNR3ESU31",
        "outputId": "be3828d1-9950-4ba9-b139-0fec68182a7b"
      },
      "execution_count": null,
      "outputs": [
        {
          "output_type": "stream",
          "name": "stdout",
          "text": [
            "hello\n"
          ]
        }
      ]
    },
    {
      "cell_type": "code",
      "source": [
        "if 10:\n",
        "    print('hello')"
      ],
      "metadata": {
        "colab": {
          "base_uri": "https://localhost:8080/"
        },
        "id": "VRRrSk0ISrO1",
        "outputId": "78faefe7-ee31-449d-fa42-8f0bb4861db8"
      },
      "execution_count": null,
      "outputs": [
        {
          "output_type": "stream",
          "name": "stdout",
          "text": [
            "hello\n"
          ]
        }
      ]
    },
    {
      "cell_type": "code",
      "source": [
        "''\n",
        "0\n",
        "[]\n",
        "{}\n",
        "()\n",
        "set()\n",
        "\n",
        "#########\n",
        "\n",
        "1\n",
        "-1\n",
        "' '\n",
        "[10, 20]"
      ],
      "metadata": {
        "id": "en9qCkpASx1L"
      },
      "execution_count": null,
      "outputs": []
    },
    {
      "cell_type": "code",
      "source": [
        "x = 5\n",
        "y = 10\n",
        "result = 'x is greater' if x > y else 'y is greater or equal'\n",
        "print(result) # 출력: 'y is greater or equal'"
      ],
      "metadata": {
        "colab": {
          "base_uri": "https://localhost:8080/"
        },
        "id": "z0f9V0cwTbe4",
        "outputId": "1d9a785d-acc5-4e0e-d981-d18db09880e4"
      },
      "execution_count": null,
      "outputs": [
        {
          "output_type": "stream",
          "name": "stdout",
          "text": [
            "y is greater or equal\n"
          ]
        }
      ]
    },
    {
      "cell_type": "markdown",
      "source": [
        "# 연습문제"
      ],
      "metadata": {
        "id": "HlwcI3K0XXAj"
      }
    },
    {
      "cell_type": "code",
      "source": [],
      "metadata": {
        "id": "vWtAbZqXTbwF"
      },
      "execution_count": null,
      "outputs": []
    }
  ]
}