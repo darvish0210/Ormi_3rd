{
  "nbformat": 4,
  "nbformat_minor": 0,
  "metadata": {
    "colab": {
      "provenance": []
    },
    "kernelspec": {
      "name": "python3",
      "display_name": "Python 3"
    },
    "language_info": {
      "name": "python"
    }
  },
  "cells": [
    {
      "cell_type": "code",
      "execution_count": null,
      "metadata": {
        "id": "EgCrq-jA2sin"
      },
      "outputs": [],
      "source": [
        "#Q4 꿈의 설계 https://pyalgo.co.kr/?page=4# 정규표현식\n",
        "\n",
        "'''\n",
        "제한 사항\n",
        "입력 배열의 길이는 2입니다. [훈련수치, 고민수치]의 형태로 문자열이 입력됩니다.\n",
        "수치 문자열은 항상 마침표 단위로 문장이 나뉩니다. 나누어진 문장을 나뉜 문장이라고 했을 때 나뉜 문장에는 항상 유일한 수치와 유일한 알파벳이 있습니다.\n",
        "매칭되는 고민 수치와 훈련 수치가 없을 경우에는 ‘미래가 보이지 않습니다.’라고 출력해야 합니다.\n",
        "1 ≤ 나뉜 문장 ≤ 10\n",
        "1 ≤ 수치 ≤ 1000\n",
        "A ≤ 알파벳 ≤ z\n",
        "입출력 예\n",
        "\n",
        "입력\t                                                                                                                                             출력\n",
        "['100만큼 A를 훈련. 201 B. 120보다 이십만큼 더 B를 훈련했다.', '30만큼 A를 고민했다. 40만큼 B를 고민. 빙키는 A를 70만큼. C 10. D 10. A 10. z 10.']\t'최종 꿈의 설계는 원래 미래 23840, 바뀐 미래 37840입니다. 이 수치대로 Vision을 만듭니다.'\n",
        "'''"
      ]
    },
    {
      "cell_type": "code",
      "source": [
        "# 쉼표로 잘라내기\n",
        "s = ['100만큼 A를 훈련. 201 B. 120보다 이십만큼 더 B를 훈련했다.', '30만큼 A를 고민했다. 40만큼 B를 고민. 빙키는 A를 70만큼. C 10. D 10. A 10. z 10.']\n",
        "for i in s:\n",
        "    print(i.split('.'))"
      ],
      "metadata": {
        "colab": {
          "base_uri": "https://localhost:8080/"
        },
        "id": "i_eXHiJ027fn",
        "outputId": "fad85375-46b9-484d-8a4e-aa6f4b470b06"
      },
      "execution_count": 2,
      "outputs": [
        {
          "output_type": "stream",
          "name": "stdout",
          "text": [
            "['100만큼 A를 훈련', ' 201 B', ' 120보다 이십만큼 더 B를 훈련했다', '']\n",
            "['30만큼 A를 고민했다', ' 40만큼 B를 고민', ' 빙키는 A를 70만큼', ' C 10', ' D 10', ' A 10', ' z 10', '']\n"
          ]
        }
      ]
    },
    {
      "cell_type": "code",
      "source": [
        "# 숫자와 알파벳 뽑아내기?\n",
        "import re\n",
        "\n",
        "List = ['100만큼 A를 훈련', ' 201 B', ' 120보다 이십만큼 더 B를 훈련했다', '']\n",
        "List2 = ['30만큼 A를 고민했다', ' 40만큼 B를 고민', ' 빙키는 A를 70만큼', ' C 10', ' D 10', ' A 10', ' z 10', '']\n",
        "def extracter(s):\n",
        "    x = re.compile(r'[a-zA-Z]|[0-9]{1,}')\n",
        "    f = []\n",
        "    d = {}\n",
        "    for i in s:\n",
        "        f = (x.findall(i))\n",
        "\n",
        "        if f ==[]: #맨 마지막에 생기는 공백제거용\n",
        "            continue\n",
        "        elif f[0].isdigit(): # 늘 알파벳이 첫번째로 가도록 바꾸기\n",
        "            f[0],f[1] = f[1],f[0]\n",
        "\n",
        "        if f[0] not in d:\n",
        "            d[f[0]] = int(f[1])\n",
        "        else:\n",
        "            d[f[0]] +=int(f[1])\n",
        "\n",
        "    return d\n",
        "\n",
        "print(extracter(List))\n",
        "print(extracter(List2))\n"
      ],
      "metadata": {
        "colab": {
          "base_uri": "https://localhost:8080/"
        },
        "id": "d0ncH0Nt-GOB",
        "outputId": "f5100156-c78b-4b2d-a2f1-5e3216bbaf51"
      },
      "execution_count": 37,
      "outputs": [
        {
          "output_type": "stream",
          "name": "stdout",
          "text": [
            "{'A': 100, 'B': 321}\n",
            "{'A': 110, 'B': 40, 'C': 10, 'D': 10, 'z': 10}\n"
          ]
        }
      ]
    },
    {
      "cell_type": "code",
      "source": [
        "#조건에 맞는 연산 작업 - 100더하기, 고민 딕셔너리 변경\n",
        "\n",
        "x = {'A': 100, 'B': 321}\n",
        "y = {'A': 110, 'B': 40, 'C': 10, 'D': 10, 'z': 10}\n",
        "\n",
        "def max_100plus(d):\n",
        "    new_d = {}\n",
        "    for i in d:\n",
        "        if d[i] == max(d.values()):\n",
        "            new_d[i] = d[i]+100\n",
        "        else:\n",
        "            new_d[i] = d[i]\n",
        "    return new_d\n",
        "\n",
        "z = {}\n",
        "for i in y:\n",
        "    if i in x:\n",
        "        z[i] = y[i]\n",
        "\n",
        "n1,n2 = 0,0\n",
        "for i in x:\n",
        "    n1 += x[i]*z[i]\n",
        "\n",
        "x1 = max_100plus(x)\n",
        "z1 = max_100plus(z)\n",
        "for i in x1:\n",
        "    n2 += x1[i]*z1[i]\n",
        "\n",
        "\n",
        "\n",
        "\n",
        "print(f'최종 꿈의 설계는 원래 미래 {n1}, 바뀐 미래 {n2}입니다. 이 수치대로 Vision을 만듭니다.')"
      ],
      "metadata": {
        "colab": {
          "base_uri": "https://localhost:8080/"
        },
        "id": "0mCUtuHrKYd8",
        "outputId": "5d89e7c7-dc84-46f6-bdfa-a5aff00f2b85"
      },
      "execution_count": 87,
      "outputs": [
        {
          "output_type": "stream",
          "name": "stdout",
          "text": [
            "23840\n",
            "37840\n",
            "최종 꿈의 설계는 원래 미래 23840, 바뀐 미래 37840입니다. 이 수치대로 Vision을 만듭니다.\n"
          ]
        }
      ]
    },
    {
      "cell_type": "code",
      "source": [
        "#매칭이 안될때? 는 z로 해결하기\n",
        "\n",
        "x = {'A': 100, 'B': 321}\n",
        "y = {'C': 10, 'D': 10, 'z': 10}\n",
        "\n",
        "z = {}\n",
        "for i in y:\n",
        "    if i in x:\n",
        "        z[i] = y[i]\n",
        "\n",
        "\n",
        "if not z:\n",
        "    print('미래가 보이지 않습니다.')"
      ],
      "metadata": {
        "colab": {
          "base_uri": "https://localhost:8080/"
        },
        "id": "VxX8-8kDQj4k",
        "outputId": "16637e03-1153-47e4-ff7c-59b5f1050687"
      },
      "execution_count": 92,
      "outputs": [
        {
          "output_type": "stream",
          "name": "stdout",
          "text": [
            "미래가 보이지 않습니다.\n"
          ]
        }
      ]
    },
    {
      "cell_type": "code",
      "source": [
        "#최종\n",
        "\n",
        "def solution(data):\n",
        "    dic1 = extracter(data[0].split('.'))\n",
        "\n",
        "    dic2 = extracter(data[1].split('.'))\n",
        "    dic3 = {}\n",
        "    for i in dic2:\n",
        "        if i in dic1:\n",
        "            dic3[i] = dic2[i]\n",
        "    if not dic3:\n",
        "        return '미래가 보이지 않습니다.'\n",
        "    n1,n2 = 0,0\n",
        "    for i in dic1:\n",
        "        n1 += dic1[i]*dic2[i]\n",
        "    dic1x = max_100plus(dic1)\n",
        "    dic3x = max_100plus(dic3)\n",
        "    for i in dic1x:\n",
        "        n2 += dic1x[i]*dic3x[i]\n",
        "    return f'최종 꿈의 설계는 원래 미래 {n1}, 바뀐 미래 {n2}입니다. 이 수치대로 Vision을 만듭니다.'\n",
        "\n",
        "def extracter(s):\n",
        "    x = re.compile(r'[a-zA-Z]|[0-9]{1,}')\n",
        "    f = []\n",
        "    d = {}\n",
        "    for i in s:\n",
        "        f = x.findall(i)\n",
        "        if f !=[]: #맨 마지막에 생기는 공백제거용\n",
        "            if f[0].isdigit(): # 늘 알파벳이 첫번째로 가도록 바꾸기\n",
        "                f[0],f[1] = f[1],f[0]\n",
        "            if f[0] not in d:\n",
        "                d[f[0]] = int(f[1])\n",
        "            else:\n",
        "                d[f[0]] +=int(f[1])\n",
        "\n",
        "    return d\n",
        "\n",
        "def max_100plus(d):\n",
        "    new_d = {}\n",
        "    for i in d:\n",
        "        if d[i] == max(d.values()):\n",
        "            new_d[i] = d[i]+100\n",
        "        else:\n",
        "            new_d[i] = d[i]\n",
        "    return new_d\n",
        "solution(['빙키는 10만큼 A를 훈련했다. 빙키는 날씨가 안 좋은데도 불구하고 20만큼 B를 했다. 빙키는 비가 내리는 가운데서도 10만큼 B를 훈련했다.', '빙키는 A를 30만큼 고민했다. 40만큼 B를 고민했다. 빙키는 A를 70만큼 참 오랜 시간 고민했다. 빙키는 놀랍게도 C를 10만큼 고민했다.'])\n"
      ],
      "metadata": {
        "colab": {
          "base_uri": "https://localhost:8080/",
          "height": 35
        },
        "id": "HJJtMFAoQ93t",
        "outputId": "52e9e5be-a31e-4145-e8d6-668595762f29"
      },
      "execution_count": 116,
      "outputs": [
        {
          "output_type": "execute_result",
          "data": {
            "text/plain": [
              "'최종 꿈의 설계는 원래 미래 2200, 바뀐 미래 7200입니다. 이 수치대로 Vision을 만듭니다.'"
            ],
            "application/vnd.google.colaboratory.intrinsic+json": {
              "type": "string"
            }
          },
          "metadata": {},
          "execution_count": 116
        }
      ]
    },
    {
      "cell_type": "code",
      "source": [
        "# 에러명 :'a' 라면서 통과가 되지 않음... 우선 자작한 함수를 다 풀어써보기로 함\n",
        "\n",
        "solution(['빙키는 10만큼 A를 훈련했다. 빙키는 날씨가 안 좋은데도 불구하고 20만큼 B를 했다. 빙키는 비가 내리는 가운데서도 10만큼 B를 훈련했다.', '빙키는 A를 30만큼 고민했다. 40만큼 B를 고민했다. 빙키는 A를 70만큼 참 오랜 시간 고민했다. 빙키는 놀랍게도 C를 10만큼 고민했다.'])\n"
      ],
      "metadata": {
        "colab": {
          "base_uri": "https://localhost:8080/",
          "height": 35
        },
        "id": "h21SWJl9TAHu",
        "outputId": "82e3e993-827d-4324-f703-7f50084208f5"
      },
      "execution_count": 115,
      "outputs": [
        {
          "output_type": "execute_result",
          "data": {
            "text/plain": [
              "'최종 꿈의 설계는 원래 미래 2200, 바뀐 미래 7200입니다. 이 수치대로 Vision을 만듭니다.'"
            ],
            "application/vnd.google.colaboratory.intrinsic+json": {
              "type": "string"
            }
          },
          "metadata": {},
          "execution_count": 115
        }
      ]
    },
    {
      "cell_type": "code",
      "source": [
        "#혹시나 해서 chatAI에게 물어봤더니 준 코드\n",
        "'''\n",
        "코드를 살펴보면, 문제에서 주어진 조건을 충분히 반영하고 있지 않는 것 같습니다.\n",
        " 몇 가지 문제를 지적해보겠습니다.\n",
        "1. `data` 리스트에는 \"훈련수치\"와 \"고민수치\" 문자열이 포함되어 있습니다. 하지만 이를 분리하여 사용하지 않고, 단순히 `data[0]`와 `data[1]`로 접근하고 있습니다.\n",
        "따라서 입력된 문자열이 \"훈련수치\"를 먼저 나타내고 \"고민수치\"를 나중에 나타내는 형태로 입력되었을 때, 코드가 정상적으로 동작하지 않을 수 있습니다.\n",
        "2. `dic1`과 `dic2`를 생성하여 각 숫자를 누적시키고 있습니다. 문제에서는 \"고민수치\"와 \"훈련수치\"가 짝을 이루어야 하지만, 현재 코드에서는 이를 확인하고 처리하지 않고 있습니다.\n",
        "3. `dic3`은 단순히 `dic2`와 `dic1`의 키가 겹치는 경우에만 생성되고 있습니다. 하지만 \"고민수치\"의 최대값인 `dic2`의 키와 \"훈련수치\"의 최대값인 `dic1`의 키가 다른 경우에는 `dic3`이 생성되지 않습니다. 이에 대한 처리가 필요합니다.\n",
        "4. `n1`과 `n2`를 계산하는 부분이 올바르지 않습니다. `n1`은 \"고민수치\"와 \"훈련수치\"를 곱한 값을 누적하는 것이 아니라, \"고민수치\"와 \"훈련수치\"의 곱의 합을 계산해야 합니다. `n2`는 \"고민수치\"의 최대값에 100을 더한 값과 \"훈련수치\"의 최대값에 100을 더한 값을 곱한 후 누적해야 합니다. 이외에도 코드의 가독성을 높이기 위해 몇 가지 개선할 부분이 있습니다. 위의 문제점을 해결하고 가독성을 개선한 코드는 아래와 같습니다.\n",
        "'''\n",
        "import re\n",
        "\n",
        "def solution(data):\n",
        "    x = re.compile(r'[a-zA-Z]|[0-9]{1,}')\n",
        "\n",
        "    training_numbers = {}\n",
        "    for i in data[0].split('.'):\n",
        "        f = x.findall(i)\n",
        "        if f == []:\n",
        "            break\n",
        "        elif f[0].isdigit():\n",
        "            f[0], f[1] = f[1], f[0]\n",
        "\n",
        "        training_number = int(f[1])\n",
        "        training_alphabet = f[0]\n",
        "\n",
        "        if training_alphabet in training_numbers:\n",
        "            training_numbers[training_alphabet] += training_number\n",
        "        else:\n",
        "            training_numbers[training_alphabet] = training_number\n",
        "\n",
        "    meditation_numbers = {}\n",
        "    for i in data[1].split('.'):\n",
        "        f = x.findall(i)\n",
        "        if f == []:\n",
        "            break\n",
        "        elif f[0].isdigit():\n",
        "            f[0], f[1] = f[1], f[0]\n",
        "\n",
        "        meditation_number = int(f[1])\n",
        "        meditation_alphabet = f[0]\n",
        "\n",
        "        if meditation_alphabet in meditation_numbers:\n",
        "            meditation_numbers[meditation_alphabet] += meditation_number\n",
        "        else:\n",
        "            meditation_numbers[meditation_alphabet] = meditation_number\n",
        "\n",
        "    common_keys = set(training_numbers.keys()) & set(meditation_numbers.keys())\n",
        "    if not common_keys:\n",
        "        return '미래가 보이지 않습니다.'\n",
        "\n",
        "    total_future_original = 0\n",
        "    total_future_changed = 0\n",
        "    training_numbers_max = max(training_numbers.values())\n",
        "    meditation_numbers_max = max(meditation_numbers.values())\n",
        "\n",
        "    for key in common_keys:\n",
        "        total_future_original += training_numbers[key] * meditation_numbers[key]\n",
        "\n",
        "        if training_numbers[key] == training_numbers_max:\n",
        "            training_numbers[key] += 100\n",
        "        if meditation_numbers[key] == meditation_numbers_max:\n",
        "            meditation_numbers[key] += 100\n",
        "\n",
        "        total_future_changed += training_numbers[key] * meditation_numbers[key]\n",
        "\n",
        "    return f'최종 꿈의 설계는 원래 미래 {total_future_original}, 바뀐 미래 {total_future_changed}입니다. 이 수치대로 Vision을 만듭니다.'\n",
        "\n",
        "#이건 또 통과를 하네???\n"
      ],
      "metadata": {
        "id": "3rZQuF4KoorM"
      },
      "execution_count": null,
      "outputs": []
    },
    {
      "cell_type": "code",
      "source": [
        "#최종\n",
        "\n",
        "def solution(data):\n",
        "    dic1 = extracter(data[0].split('.'))\n",
        "\n",
        "    dic2 = extracter(data[1].split('.'))\n",
        "    dic3 = {}\n",
        "    for i in dic2.keys():\n",
        "        if i in dic1.keys():\n",
        "            dic3[i] = dic2[i]\n",
        "    if not dic3:\n",
        "        return '미래가 보이지 않습니다.'\n",
        "    n1,n2 = 0,0\n",
        "    for i in dic1:\n",
        "        n1 += dic1[i]*dic2[i]\n",
        "    dic1x = max_100plus(dic1)\n",
        "    dic3x = max_100plus(dic3)\n",
        "    for i in dic1x:\n",
        "        n2 += dic1x[i]*dic3x[i]\n",
        "    return f'최종 꿈의 설계는 원래 미래 {n1}, 바뀐 미래 {n2}입니다. 이 수치대로 Vision을 만듭니다.'\n",
        "\n",
        "def extracter(s):\n",
        "    x = re.compile(r'[a-zA-Z]|[0-9]{1,}')\n",
        "    f = []\n",
        "    d = {}\n",
        "    for i in s:\n",
        "        f = x.findall(i)\n",
        "        if f !=[]: #맨 마지막에 생기는 공백제거용\n",
        "            if f[0].isdigit(): # 늘 알파벳이 첫번째로 가도록 바꾸기\n",
        "                f[0],f[1] = f[1],f[0]\n",
        "            if f[0] not in d:\n",
        "                d[f[0]] = int(f[1])\n",
        "            else:\n",
        "                d[f[0]] +=int(f[1])\n",
        "\n",
        "    return d\n",
        "\n",
        "def max_100plus(d):\n",
        "    new_d = {}\n",
        "    for i in d:\n",
        "        if d[i] == max(d.values()):\n",
        "            new_d[i] = d[i]+100\n",
        "        else:\n",
        "            new_d[i] = d[i]\n",
        "    return new_d\n",
        "solution(['빙키는 10만큼 A를 훈련했다. 빙키는 날씨가 안 좋은데도 불구하고 20만큼 B를 했다. 빙키는 비가 내리는 가운데서도 10만큼 B를 훈련했다.', '빙키는 A를 30만큼 고민했다. 40만큼 B를 고민했다. 빙키는 A를 70만큼 참 오랜 시간 고민했다. 빙키는 놀랍게도 C를 10만큼 고민했다.'])\n"
      ],
      "metadata": {
        "colab": {
          "base_uri": "https://localhost:8080/",
          "height": 35
        },
        "id": "O6uTF91exrNU",
        "outputId": "9dc3634e-7da6-41e7-81ec-3566cda5bcba"
      },
      "execution_count": 117,
      "outputs": [
        {
          "output_type": "execute_result",
          "data": {
            "text/plain": [
              "'최종 꿈의 설계는 원래 미래 2200, 바뀐 미래 7200입니다. 이 수치대로 Vision을 만듭니다.'"
            ],
            "application/vnd.google.colaboratory.intrinsic+json": {
              "type": "string"
            }
          },
          "metadata": {},
          "execution_count": 117
        }
      ]
    },
    {
      "cell_type": "code",
      "source": [
        "'''\n",
        "테스트 케이스는 다음과 같습니다.\n",
        "**테스트 케이스 1**\n",
        "입력: ['100만큼 A를 훈련. 201 B. 120보다 이십만큼 더 B를 훈련했다.', '30만큼 A를 고민했다. 40만큼 B를 고민. 빙키는 A를 70만큼. C 10. D 10. A 10. z 10.']\n",
        "출력: '최종 꿈의 설계는 원래 미래 23840, 바뀐 미래 37840입니다. 이 수치대로 Vision을 만듭니다.'\n",
        "**테스트 케이스 2**\n",
        "입력: ['빙키는 10만큼 A를 훈련했다. 빙키는 날씨가 안 좋은데도 불구하고 20만큼 B를 했다. 빙키는 비가 내리는 가운데서도 10만큼 B를 훈련했다.', '빙키는 A를 30만큼 고민했다. 40만큼 B를 고민했다. 빙키는 A를 70만큼 참 오랜 시간 고민했다. 빙키는 놀랍게도 C를 10만큼 고민했다.']\n",
        "출력: '최종 꿈의 설계는 원래 미래 2200, 바뀐 미래 7200입니다. 이 수치대로 Vision을 만듭니다.'\n",
        "**테스트 케이스 3**\n",
        "입력: ['100만큼 A를 훈련했다. 200만큼 B를 훈련했다.', '50만큼 B를 고민했다. 30만큼 C를 고민했다.']\n",
        "출력: '최종 꿈의 설계는 원래 미래 10500, 바뀐 미래 13500입니다. 이 수치대로 Vision을 만듭니다.'\n",
        "'''"
      ],
      "metadata": {
        "id": "bbvQ6mqU83U-"
      },
      "execution_count": null,
      "outputs": []
    }
  ]
}