{
  "nbformat": 4,
  "nbformat_minor": 0,
  "metadata": {
    "colab": {
      "provenance": []
    },
    "kernelspec": {
      "name": "python3",
      "display_name": "Python 3"
    },
    "language_info": {
      "name": "python"
    }
  },
  "cells": [
    {
      "cell_type": "markdown",
      "source": [
        "# 정규표현식\n",
        "\n",
        "실습환경 : https://regexr.com/5nvc2"
      ],
      "metadata": {
        "id": "M2mT5RaOPv6h"
      }
    },
    {
      "cell_type": "markdown",
      "source": [
        "## 일반 문자열"
      ],
      "metadata": {
        "id": "GoLY2XiyWT4S"
      }
    },
    {
      "cell_type": "code",
      "source": [
        "# 일반 문자열\n",
        "\n",
        "# 대소문자를 구분함\n",
        "# ^hello는 처음에 나오는 hello\n",
        "# hello$는 마지막에 나오는 hello\n",
        "# h.llo는 .자리가 any character\n",
        "\n",
        "\n"
      ],
      "metadata": {
        "id": "pkj2t2F4QBfs"
      },
      "execution_count": null,
      "outputs": []
    },
    {
      "cell_type": "markdown",
      "source": [
        "## 대괄호"
      ],
      "metadata": {
        "id": "yNUdX2AeWXYY"
      }
    },
    {
      "cell_type": "code",
      "source": [
        "# 대괄호는 '선택적'으로 괄호 내에서 만족하는 1개 문자를 픽업\n",
        "\n",
        "# h[eao]llo : hello, hallo, hollo\n",
        "\n"
      ],
      "metadata": {
        "id": "QGwwwmExWZcK"
      },
      "execution_count": null,
      "outputs": []
    },
    {
      "cell_type": "markdown",
      "source": [
        "## 수량자"
      ],
      "metadata": {
        "id": "eiLRLy_uZ45s"
      }
    },
    {
      "cell_type": "code",
      "source": [
        "# _* : 앞에 있는 문자가 0개 ~ N개\n",
        "# _+ : 앞에 있는 문자가 1개 ~ N개\n",
        "# _? : 앞에 있는 문자가 0개 ~ 1개\n",
        "\n",
        "# {3} : 3개\n",
        "# {3,} : 3개 이상\n",
        "# {1,3} : 1개 ~ 3개\n",
        "\n",
        "# _* : 앞에 있는 문자가 0개 ~ N개 ({0,})\n",
        "# _+ : 앞에 있는 문자가 1개 ~ N개({1,})\n",
        "# _? : 앞에 있는 문자가 0개 ~ 1개 ({0,1})"
      ],
      "metadata": {
        "id": "E6U3ecI3Z6TX"
      },
      "execution_count": null,
      "outputs": []
    },
    {
      "cell_type": "code",
      "source": [
        "# 이런 정규표현식은 여러분이 직접 만들지 마세요.\n",
        "# 인터넷 검색하면 나옵니다. email, 한국 전화번호 등이요.\n",
        "# why? 정규표현식에서 실수가 생겨 서비스에 CS가 들어온다던지\n",
        "# 크리티컬한 문제가 생긴다던지 하는 경우가 많습니다.\n",
        "# 읽을 줄은 알아야 합니다. 여러 패턴을 조합하거나, 비교는 해봐야 하니까요.\n",
        "\n",
        "# 전화번호 정규표현식\n",
        "# [0-9][0-9][0-9]-[0-9][0-9][0-9][0-9]-[0-9][0-9][0-9][0-9]\n",
        "# 0[0-9]+[-. ]?[0-9]{3,4}[-. ]?[0-9]{3,4}"
      ],
      "metadata": {
        "id": "5pTf78ksca75"
      },
      "execution_count": null,
      "outputs": []
    },
    {
      "cell_type": "markdown",
      "source": [
        "## 캐릭터클래스"
      ],
      "metadata": {
        "id": "TIT0W0v3f_BQ"
      }
    },
    {
      "cell_type": "code",
      "source": [
        "# /\\w/gm : 워드\n",
        "# /\\w{5} /gm : 5개의 글자와 스페이스 하나\n",
        "# /\\W/gm : not 워드\n",
        "# /\\d/gm : 숫자\n",
        "# /\\D/gm : not 숫자\n",
        "# /\\s/gm : 스페이스\n",
        "# /\\S/gm : not 스페이스\n",
        "\n"
      ],
      "metadata": {
        "id": "Ii522q7qcmmv"
      },
      "execution_count": null,
      "outputs": []
    },
    {
      "cell_type": "code",
      "source": [
        "#전화번호 두번째 예시\n",
        "#   0\\d{1,2}[\\-\\. ]?\\d{3,4}[\\-\\. ]?\\d{3,4}\n",
        "\n",
        "# - . 에 백슬래시를 넣은이유? 다른 구분자와 헷갈리지 말라고씀\n",
        "\n"
      ],
      "metadata": {
        "id": "Ej1HABE8hWsC"
      },
      "execution_count": null,
      "outputs": []
    },
    {
      "cell_type": "code",
      "source": [
        "#ipynb merge 연습\n",
        "#!pip install nbmerge"
      ],
      "metadata": {
        "colab": {
          "base_uri": "https://localhost:8080/"
        },
        "id": "dKH4W2v6j3gy",
        "outputId": "6baedfcf-8416-4fc2-aa24-8d1380ed3549"
      },
      "execution_count": null,
      "outputs": [
        {
          "output_type": "stream",
          "name": "stdout",
          "text": [
            "Collecting nbmerge\n",
            "  Downloading nbmerge-0.0.4.tar.gz (7.6 kB)\n",
            "  Preparing metadata (setup.py) ... \u001b[?25l\u001b[?25hdone\n",
            "Building wheels for collected packages: nbmerge\n",
            "  Building wheel for nbmerge (setup.py) ... \u001b[?25l\u001b[?25hdone\n",
            "  Created wheel for nbmerge: filename=nbmerge-0.0.4-py2.py3-none-any.whl size=6393 sha256=bd15675d91306f2f61b8fad3fcd17e936db18259b9b790978b445a1032574c8f\n",
            "  Stored in directory: /root/.cache/pip/wheels/ab/6a/28/a33b228ce3eda9a7cc2cfd050b24752d09ac76a13733738df5\n",
            "Successfully built nbmerge\n",
            "Installing collected packages: nbmerge\n",
            "Successfully installed nbmerge-0.0.4\n"
          ]
        }
      ]
    },
    {
      "cell_type": "code",
      "source": [
        "#!nbmerge a.ipynb b.ipynb >merged.ipynb"
      ],
      "metadata": {
        "id": "V_ssEeZNj_99"
      },
      "execution_count": null,
      "outputs": []
    },
    {
      "cell_type": "code",
      "source": [
        "# re 모듈에서\n",
        "# compile : 패턴 만들기\n",
        "# match : 패턴 있는지 여부 찾아내기\n",
        "# sub : str에서 replace와 같은 기능\n",
        "# findall\n",
        "# 이 4개는 기억해두는 것이 좋다.\n",
        "\n",
        "# 다트 점수계산 : https://school.programmers.co.kr/learn/courses/30/lessons/17682\n",
        "\n"
      ],
      "metadata": {
        "id": "w3wf1EtRnkAG"
      },
      "execution_count": null,
      "outputs": []
    },
    {
      "cell_type": "code",
      "source": [
        "s = '1S2D3T'\n",
        "result = []\n",
        "for i in s:\n",
        "    if i.isdigit():\n",
        "        result.append(int(i))\n",
        "    elif i == 'S':\n",
        "        result[-1] **= 1\n",
        "    elif i == 'D':\n",
        "        result[-1] **= 2\n",
        "    elif i == 'T':\n",
        "        result[-1] **= 3\n",
        "result\n",
        "\n",
        "#정규식을 모른다면 이런 방식은 골치아프다. 경우의 수 따지기도 어렵다"
      ],
      "metadata": {
        "colab": {
          "base_uri": "https://localhost:8080/"
        },
        "id": "38RABhN1qQ1E",
        "outputId": "0225e231-234f-4323-a612-d0b3927c4bfd"
      },
      "execution_count": null,
      "outputs": [
        {
          "output_type": "execute_result",
          "data": {
            "text/plain": [
              "6"
            ]
          },
          "metadata": {},
          "execution_count": 3
        }
      ]
    },
    {
      "cell_type": "code",
      "source": [
        "import re\n",
        "\n",
        "p = re.compile(r'([0-9]|10)([SDT])([\\*\\#]?)')\n",
        "p.findall('1S2D*3T')\n"
      ],
      "metadata": {
        "colab": {
          "base_uri": "https://localhost:8080/"
        },
        "id": "eVfKc1l0tnt1",
        "outputId": "fa255257-65a3-4604-c953-340a6f234b5c"
      },
      "execution_count": null,
      "outputs": [
        {
          "output_type": "execute_result",
          "data": {
            "text/plain": [
              "[('1', 'S', ''), ('2', 'D', '*'), ('3', 'T', '')]"
            ]
          },
          "metadata": {},
          "execution_count": 4
        }
      ]
    },
    {
      "cell_type": "code",
      "source": [
        "result = []\n",
        "for 점수, 승수, 상 in p:\n",
        "    pass"
      ],
      "metadata": {
        "id": "Aftx9f-HuA2_"
      },
      "execution_count": null,
      "outputs": []
    },
    {
      "cell_type": "code",
      "source": [
        "# 모음 제거 https://school.programmers.co.kr/learn/courses/30/lessons/120849\n",
        "#숨어있는 숫자의 덧셈 https://school.programmers.co.kr/learn/courses/30/lessons/120851\n"
      ],
      "metadata": {
        "id": "1jONCh0dv4aV"
      },
      "execution_count": null,
      "outputs": []
    },
    {
      "cell_type": "code",
      "source": [
        "#저주받은 숫자 3 https://school.programmers.co.kr/learn/courses/30/lessons/120871\n",
        "\n",
        "\n",
        "\n",
        "# ex 저주의 숫자 3과 5\n",
        "# A마을에서는 3과 5를 사용하지 않습니다.\n",
        "# 3의 배수와 5배수는 3과 5가 들어가지만 않으면 사용합니다. 예를 들어 10은 사용합니다!\n",
        "# 그러면 이 마을에서 10진수 30이라는 숫자는 어떻게 표현할까요?\n",
        "# 10진법 - A마을에 숫자체계\n",
        "# 1 - 1\n",
        "# 2 - 2\n",
        "# 3 - 4\n",
        "# 4 - 6\n",
        "# 5 - 7\n",
        "# 6 - 8\n",
        "# 7 - 9\n",
        "# 8 - 10\n",
        "# 9 - 11\n",
        "# 10 - 12\n",
        "# 11 - 14\n",
        "# 와 같은 식으로 11은 14로 표현해야 합니다.\n",
        "# 카운트 증가방식\n",
        "def find35(n):\n",
        "    x = 0\n",
        "    for i in range(n):\n",
        "        if ('3' in str(i)) or ('5' in str(i)):\n",
        "            x += 1\n",
        "    if ('3' in str(n+x)) or ('5' in str(n+x)):\n",
        "        x +=1\n",
        "    return n+x\n",
        "find35(30)\n",
        "\n",
        "#소거법으로 지운 리스트 생성 방식\n",
        "\n"
      ],
      "metadata": {
        "colab": {
          "base_uri": "https://localhost:8080/"
        },
        "id": "s2AYg0eXEFkR",
        "outputId": "2c035c80-198a-4f04-b16d-74143b1c1bff"
      },
      "execution_count": null,
      "outputs": [
        {
          "output_type": "execute_result",
          "data": {
            "text/plain": [
              "37"
            ]
          },
          "metadata": {},
          "execution_count": 12
        }
      ]
    },
    {
      "cell_type": "code",
      "source": [
        "# 369게임 https://school.programmers.co.kr/learn/courses/30/lessons/120891\n",
        "# 잘라서 배열로 저장하기 https://school.programmers.co.kr/learn/courses/30/lessons/120913\n",
        "#영어가 싫어요 #https://school.programmers.co.kr/learn/courses/30/lessons/120894\n"
      ],
      "metadata": {
        "id": "t1qV-D1WNyvp"
      },
      "execution_count": null,
      "outputs": []
    },
    {
      "cell_type": "markdown",
      "source": [
        "# 크롤링\n",
        "\n",
        "https://conscious-plantain-70f.notion.site/30-f20d59b2401c4404b6cd1ee3a31556d1"
      ],
      "metadata": {
        "id": "yYNXJaC3YITT"
      }
    },
    {
      "cell_type": "code",
      "source": [
        "# 크롤링은 늘 조심할것! 비영리적이어도 불법의 여지 있음!\n",
        "# http 포트 80\n",
        "# https 포트 443 (http + security)\n",
        "\n"
      ],
      "metadata": {
        "id": "EAPOVcNTYK0K"
      },
      "execution_count": null,
      "outputs": []
    },
    {
      "cell_type": "code",
      "source": [
        "import requests\n",
        "from bs4 import BeautifulSoup\n",
        "\n",
        "response = requests.get('http://www.paullab.co.kr/stock.html')\n",
        "\n",
        "response.encoding = 'utf-8'\n",
        "html = response.text\n",
        "\n",
        "soup = BeautifulSoup(html, 'html.parser')"
      ],
      "metadata": {
        "id": "gVhOii_6nwTI"
      },
      "execution_count": 16,
      "outputs": []
    },
    {
      "cell_type": "code",
      "source": [
        "soup.select('#update')\n"
      ],
      "metadata": {
        "colab": {
          "base_uri": "https://localhost:8080/"
        },
        "id": "PJ0N_Z7Nn06c",
        "outputId": "8394cb6f-a111-4fc8-ebeb-96736ee98d65"
      },
      "execution_count": 17,
      "outputs": [
        {
          "output_type": "execute_result",
          "data": {
            "text/plain": [
              "[<span id=\"update\">update : 20.12.30 / 해외 크롤링이 Block되어 있으므로 크롤링이 안되시는 분은 이 URL(http://paullab.synology.me/stock.html)을 사용하세요.</span>]"
            ]
          },
          "metadata": {},
          "execution_count": 17
        }
      ]
    },
    {
      "cell_type": "code",
      "source": [
        "soup.select('#_market_sum')\n",
        "soup.select('#_market_sum')[0]\n",
        "soup.select('#_market_sum')[0].text"
      ],
      "metadata": {
        "colab": {
          "base_uri": "https://localhost:8080/",
          "height": 35
        },
        "id": "Es98B8eCoExQ",
        "outputId": "b024cce3-42fc-434a-93df-74d51feab41e"
      },
      "execution_count": 46,
      "outputs": [
        {
          "output_type": "execute_result",
          "data": {
            "text/plain": [
              "'349조 2,323'"
            ],
            "application/vnd.google.colaboratory.intrinsic+json": {
              "type": "string"
            }
          },
          "metadata": {},
          "execution_count": 46
        }
      ]
    },
    {
      "cell_type": "code",
      "source": [
        "#연습문제\n",
        "#2019.10.23 거래량 출력하기\n",
        "\n",
        "soup.select('.table>tbody>tr')[1].select('td')[6].text\n",
        "# soup.select('.num span')[5].text\n",
        "\n",
        "#둘다 같은 값이 나오지만, 사이트가 주기적으로 클래스 이름을 바꾸거나 할 경우엔 위의 코드가 더 좋다"
      ],
      "metadata": {
        "colab": {
          "base_uri": "https://localhost:8080/",
          "height": 35
        },
        "id": "fBk9NV41oWGA",
        "outputId": "741b16d6-a3ed-4026-972b-bfd435887ae7"
      },
      "execution_count": 23,
      "outputs": [
        {
          "output_type": "execute_result",
          "data": {
            "text/plain": [
              "'398,421'"
            ],
            "application/vnd.google.colaboratory.intrinsic+json": {
              "type": "string"
            }
          },
          "metadata": {},
          "execution_count": 23
        }
      ]
    },
    {
      "cell_type": "code",
      "source": [
        "#문제1 https://www.paullab.co.kr/stock.html 서비스를 크롤링하여 제주코딩베이스캠프 연구원의 2019년 10월 총 거래량을 구해주세요.\n",
        "\n",
        "#문제2 html에서 태그를 제거하고 텍스트만 뽑아낼 수 있도록 해주세요.\n",
        "#'<p>This is a <em>simple</em> example.</p>'\n",
        "\n",
        "# 문제3 아래 텍스트에서 이메일만 추출할 수 있는 정규표현식을 만들어주세요.\n",
        "# '제 이메일 주소는 example1@gmail.com이고 회사 이메일 주소는 example2@gmail.com 입니다. example1로 연락을 주셨다면 제게 메시지 한 번 부탁드립니다.'"
      ],
      "metadata": {
        "id": "WUb0MvQ-unXY"
      },
      "execution_count": null,
      "outputs": []
    },
    {
      "cell_type": "code",
      "source": [
        "\n",
        "\n",
        "\n",
        "\n",
        "#문제1 https://www.paullab.co.kr/stock.html 서비스를 크롤링하여 제주코딩베이스캠프 연구원의 2019년 10월 총 거래량을 구해주세요.\n",
        "\n",
        "import requests,re\n",
        "from bs4 import BeautifulSoup\n",
        "\n",
        "response = requests.get('http://www.paullab.co.kr/stock.html')\n",
        "\n",
        "response.encoding = 'utf-8'\n",
        "html = response.text\n",
        "\n",
        "soup = BeautifulSoup(html, 'html.parser')\n",
        "total = []\n",
        "n = 1\n",
        "while True:\n",
        "    x = soup.select('.table>tbody>tr')[n].select('td')[0].text\n",
        "    y = soup.select('.table>tbody>tr')[n].select('td')[6].text\n",
        "    if '.10.' in x:\n",
        "        total.append(y)\n",
        "        n += 1\n",
        "    else:\n",
        "        break\n",
        "ans = 0\n",
        "for i in total:\n",
        "    x = re.sub(',','',i)\n",
        "    ans += int(x)\n",
        "\n",
        "print(ans)"
      ],
      "metadata": {
        "colab": {
          "base_uri": "https://localhost:8080/"
        },
        "id": "DhXho-UIus64",
        "outputId": "bff7d45d-6ad7-468f-c547-67e6a099f61a"
      },
      "execution_count": 49,
      "outputs": [
        {
          "output_type": "stream",
          "name": "stdout",
          "text": [
            "10895826\n"
          ]
        }
      ]
    },
    {
      "cell_type": "code",
      "source": [
        "#문제2 html에서 태그를 제거하고 텍스트만 뽑아낼 수 있도록 해주세요.\n",
        "import re\n",
        "\n",
        "s = '<p>This is a <em>simple</em> example.</p>'\n",
        "\n",
        "s = re.sub(r'</?\\w*>','',s)\n",
        "print(s)"
      ],
      "metadata": {
        "colab": {
          "base_uri": "https://localhost:8080/"
        },
        "id": "ckb5uBEW0WOY",
        "outputId": "e6cc7803-d5dc-4b66-a832-c62586988ac4"
      },
      "execution_count": 65,
      "outputs": [
        {
          "output_type": "stream",
          "name": "stdout",
          "text": [
            "This is a simple example.\n"
          ]
        }
      ]
    },
    {
      "cell_type": "code",
      "source": [
        "# 문제3 아래 텍스트에서 이메일만 추출할 수 있는 정규표현식을 만들어주세요.\n",
        "import re\n",
        "\n",
        "s =  '제 이메일 주소는 example1@gmail.com이고 \\\n",
        "회사 이메일 주소는 example2@gmail.com 입니다.\\\n",
        "example1로 연락을 주셨다면 제게 메시지 한 번 부탁드립니다.'\n",
        "\n",
        "x = re.findall(r'[a-zA-Z0-9]+@[a-zA-Z0-9]+.[a-zA-Z0-9]+',s)\n",
        "print(x)"
      ],
      "metadata": {
        "colab": {
          "base_uri": "https://localhost:8080/"
        },
        "id": "dDYHNcHM8R7u",
        "outputId": "12a84311-1fe1-478f-ac4d-8d2c546565bc"
      },
      "execution_count": 74,
      "outputs": [
        {
          "output_type": "stream",
          "name": "stdout",
          "text": [
            "['example1@gmail.com', 'example2@gmail.com']\n"
          ]
        }
      ]
    },
    {
      "cell_type": "code",
      "source": [
        "#문제1 답\n",
        "i = 1\n",
        "total = 0\n",
        "while True:\n",
        "    tr = soup.select('.main > table > tbody > tr')[i]\n",
        "    month = int(tr.select('td')[0].text.split('.')[1])\n",
        "    if month != 10:\n",
        "        break\n",
        "    sells = int(tr.select('td')[6].text.replace(',',''))\n",
        "    total += sells\n",
        "    i += 1\n",
        "\n",
        "#문제2 답\n",
        "s = '<p>This is a <em>simple</em> example.</p>'\n",
        "print(re.sub('<[a-z/]+>','',s))\n",
        "#문제3 답\n",
        "s = '제 이메일 주소는 example1@gmail.com이고 회사 이메일 주소는 example2@gmail.com 입니다. example1로 연락을 주셨다면 제게 메시지 한 번 부탁드립니다.'\n",
        "\n",
        "p = re.compile('[a-zA-Z0-9]+@[a-zA-Z]+.[a-zA-Z]+')\n",
        "p.findall(s)"
      ],
      "metadata": {
        "id": "llK8qPZXHYyf"
      },
      "execution_count": null,
      "outputs": []
    }
  ]
}